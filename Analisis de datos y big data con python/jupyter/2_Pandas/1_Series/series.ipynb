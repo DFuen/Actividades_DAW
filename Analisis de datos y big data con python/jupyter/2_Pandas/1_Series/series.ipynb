{
 "cells": [
  {
   "cell_type": "markdown",
   "id": "c97986b0-133b-4de1-a9ac-b79f52de854a",
   "metadata": {
    "jp-MarkdownHeadingCollapsed": true
   },
   "source": [
    "# 1.- CREACIÓN DE SERIES A PARTIR DE UNA LISTA"
   ]
  },
  {
   "cell_type": "markdown",
   "id": "95ca2bdd-f767-4266-9f2b-d70b898c78d8",
   "metadata": {
    "jp-MarkdownHeadingCollapsed": true
   },
   "source": [
    "## 📌 EJEMPLO 1: Series con textos"
   ]
  },
  {
   "cell_type": "code",
   "execution_count": null,
   "id": "ec870bdf-7c9c-41b5-a321-be5f3d7459a8",
   "metadata": {},
   "outputs": [],
   "source": [
    "# Importamos la librería pandas\n",
    "import pandas as pd  "
   ]
  },
  {
   "cell_type": "code",
   "execution_count": null,
   "id": "3f4a61f9-8f7c-47c9-a2a2-39125aa7f321",
   "metadata": {},
   "outputs": [],
   "source": [
    "# Serie con textos, tipo por defecto \"object\"\n",
    "s = pd.Series(['Matemáticas', 'Historia', 'Economía', 'Programación', 'Inglés'])\n",
    "print(s)"
   ]
  },
  {
   "cell_type": "code",
   "execution_count": null,
   "id": "ac87454a-a40f-4390-8f54-c5a30e45efea",
   "metadata": {},
   "outputs": [],
   "source": [
    "# Serie con textos, pero forzando tipo \"string\" de pandas\n",
    "s = pd.Series(['Matemáticas', 'Historia', 'Economía', 'Programación', 'Inglés'], dtype='string')\n",
    "print(s)"
   ]
  },
  {
   "cell_type": "code",
   "execution_count": null,
   "id": "2ee6eec0-471a-4ad7-819d-432745157eb2",
   "metadata": {},
   "outputs": [],
   "source": [
    "# Diferencia: una usa object (Python), la otra string (pandas)"
   ]
  },
  {
   "cell_type": "markdown",
   "id": "99f626f6-233b-41f7-a453-fbe41d6f6937",
   "metadata": {
    "jp-MarkdownHeadingCollapsed": true
   },
   "source": [
    "## 📌 EJEMPLO 2: Series con índices y números"
   ]
  },
  {
   "cell_type": "code",
   "execution_count": null,
   "id": "bb007a9d-bb8c-425b-ae25-65aa71778b66",
   "metadata": {},
   "outputs": [],
   "source": [
    "# Índices personalizados (nombres de estudiantes)\n",
    "indice = [\"Juan\", \"Maria\", \"Francisco\", \"Pedro\", \"Luis\"]"
   ]
  },
  {
   "cell_type": "code",
   "execution_count": null,
   "id": "c8ca238f-79fa-46f7-8676-faa00f851abc",
   "metadata": {},
   "outputs": [],
   "source": [
    "# Valores asociados (notas de los estudiantes)\n",
    "datos_lista = [40, 20, 36, 34, 20]"
   ]
  },
  {
   "cell_type": "code",
   "execution_count": null,
   "id": "8471de98-2c8a-486f-bea6-d4009dc99323",
   "metadata": {},
   "outputs": [],
   "source": [
    "# Serie con datos, índice asignado y tipo entero de 64 bits\n",
    "serie = pd.Series(datos_lista, index=indice, dtype=\"i8\")"
   ]
  },
  {
   "cell_type": "code",
   "execution_count": null,
   "id": "dfda893f-5cd0-4c66-b0da-14e59901820a",
   "metadata": {},
   "outputs": [],
   "source": [
    "print(serie)"
   ]
  },
  {
   "cell_type": "code",
   "execution_count": null,
   "id": "acabf450-9572-4410-8731-1ebfb54621f6",
   "metadata": {},
   "outputs": [],
   "source": [
    "# Resultado: cada nombre funciona como índice y cada nota como valor"
   ]
  },
  {
   "cell_type": "markdown",
   "id": "7c9dd4fe-6f35-4771-aa92-376a4f7639dd",
   "metadata": {
    "jp-MarkdownHeadingCollapsed": true
   },
   "source": [
    "# 2.- CREACIÓN DE SERIES A PARTIR DE UN DICCIONARIO"
   ]
  },
  {
   "cell_type": "code",
   "execution_count": null,
   "id": "631abaec-f7be-4860-a547-a0e5ff945ba9",
   "metadata": {},
   "outputs": [],
   "source": [
    "s = pd.Series({'Matemáticas': 6.0,  'Economía': 4.5, 'Programación': 8.5})\n",
    "print(s)"
   ]
  },
  {
   "cell_type": "code",
   "execution_count": null,
   "id": "70cf8f8b-6738-4fb0-8f1d-cc9ecf8aa324",
   "metadata": {},
   "outputs": [],
   "source": [
    "datos_dicc = {\"Juan\":40, \"Maria\":20, \"Francisco\":36, \"Pedro\":34, \"Luis\":20}\n",
    "serie = pd.Series(datos_dicc)\n",
    "print(serie)"
   ]
  },
  {
   "cell_type": "markdown",
   "id": "1366c2dc-714d-49b9-8ea8-d5ad84bdc0e0",
   "metadata": {},
   "source": [
    "# 3.- ATRIBUTOS DE UNA SERIE"
   ]
  },
  {
   "cell_type": "markdown",
   "id": "2de13207-c25d-4706-87d1-c5aa489815ed",
   "metadata": {},
   "source": [
    "## 📌 EJEMPLO 4: SERIE CON NÚMEROS REPETIDOS"
   ]
  },
  {
   "cell_type": "code",
   "execution_count": null,
   "id": "1eeb00c4-caab-4a85-bec3-3a6bfa880af6",
   "metadata": {},
   "outputs": [],
   "source": [
    "# Serie con números repetidos\n",
    "s = pd.Series([1, 2, 2, 3, 3, 3, 4, 4, 4, 4])"
   ]
  },
  {
   "cell_type": "code",
   "execution_count": null,
   "id": "eab0ebfe-bd88-4fb5-90a6-b77edc24327c",
   "metadata": {},
   "outputs": [],
   "source": [
    "# Número de elementos en la Serie\n",
    "print(s.size)\n",
    "# Índices de la Serie (posición de cada elemento)\n",
    "print(s.index)\n",
    "# Tipo de datos de la Serie\n",
    "print(s.dtype)\n",
    "# Valores de la Serie en forma de array de NumPy\n",
    "print(s.values)"
   ]
  },
  {
   "cell_type": "markdown",
   "id": "119ea96d-42d9-4a1c-8f31-81ff996588ce",
   "metadata": {},
   "source": [
    "## 📌EJEMPLO 5: SERIE CON ÍNDICE PERSONALIZADO"
   ]
  },
  {
   "cell_type": "code",
   "execution_count": null,
   "id": "0a39e748-e392-41e5-8b53-8b6aa163e2b4",
   "metadata": {},
   "outputs": [],
   "source": [
    "# Serie con índice personalizado (nombres) y valores (notas)\n",
    "indice = [\"Juan\", \"Maria\", \"Francisco\", \"Pedro\", \"Luis\"]\n",
    "datos_lista = [40, 20, 36, 34, 20]\n",
    "serie = pd.Series(datos_lista, index=indice, dtype=\"i8\")"
   ]
  },
  {
   "cell_type": "code",
   "execution_count": null,
   "id": "741c961f-f899-4dc8-9951-b1ba39b79672",
   "metadata": {},
   "outputs": [],
   "source": [
    "# Número de elementos en la Serie\n",
    "print(serie.size)\n",
    "# Índices de la Serie (los nombres de los estudiantes)\n",
    "print(serie.index)\n",
    "# Tipo de datos de la Serie\n",
    "print(serie.dtype)\n",
    "# Valores de la Serie en forma de array de NumPy\n",
    "print(serie.values)"
   ]
  },
  {
   "cell_type": "markdown",
   "id": "14b1d3e3-24ba-4254-bf8b-a9977ce88e32",
   "metadata": {
    "jp-MarkdownHeadingCollapsed": true
   },
   "source": [
    "# 4.- ACCESO A LOS ELEMENTOS DE UNA SERIE"
   ]
  },
  {
   "cell_type": "markdown",
   "id": "6d257653-1690-4350-bd88-ec845d5ae3a1",
   "metadata": {
    "jp-MarkdownHeadingCollapsed": true
   },
   "source": [
    "## 📌EJEMPLO 6: ACCESO A LOS ELEMENTOS DE UNA SERIE"
   ]
  },
  {
   "cell_type": "code",
   "execution_count": null,
   "id": "ab22cfc0-2014-4463-98dc-332244859253",
   "metadata": {},
   "outputs": [],
   "source": [
    "# Lista con los nombres de los estudiantes (índice de la Serie)\n",
    "indice = [\"Juan\", \"Maria\", \"Francisco\", \"Pedro\", \"Luis\"]\n",
    "# Lista con las calificaciones asociadas\n",
    "datos_lista = [40, 20, 36, 34, 20]\n",
    "# Creamos una Serie con índices personalizados y valores numéricos\n",
    "serie = pd.Series(datos_lista, index=indice, dtype=\"i8\")"
   ]
  },
  {
   "cell_type": "code",
   "execution_count": null,
   "id": "bdb8d371-9700-45fa-9b82-7489b6a1fd22",
   "metadata": {},
   "outputs": [],
   "source": [
    "# Recorrer la Serie mostrando solo los valores (notas)\n",
    "for elemento in serie:\n",
    "    print(elemento)"
   ]
  },
  {
   "cell_type": "code",
   "execution_count": null,
   "id": "25b6413c-3761-40bd-a8e0-abd206a71046",
   "metadata": {},
   "outputs": [],
   "source": [
    "# Otra forma de acceder solo a los valores, usando .values (array de NumPy)\n",
    "for elemento in serie.values:\n",
    "    print(elemento)"
   ]
  },
  {
   "cell_type": "code",
   "execution_count": null,
   "id": "b15f66fb-1e3a-4d20-ad25-92da94c890e9",
   "metadata": {},
   "outputs": [],
   "source": [
    "# Recorrer la Serie mostrando solo los índices (nombres)\n",
    "for indice in serie.index:\n",
    "    print(indice)"
   ]
  },
  {
   "cell_type": "code",
   "execution_count": null,
   "id": "c132fa27-9d3e-4850-b25a-1725b9e0cb19",
   "metadata": {},
   "outputs": [],
   "source": [
    "# Recorrer la Serie mostrando índice y valor juntos (nombre y nota)\n",
    "for indice in serie.index:\n",
    "    print(indice, serie[indice])"
   ]
  },
  {
   "cell_type": "markdown",
   "id": "69b7d421-e247-43de-ae5d-d7c6f0a27740",
   "metadata": {
    "jp-MarkdownHeadingCollapsed": true
   },
   "source": [
    "# 5.- ACCESO A LOS ELEMENTOS DE UNA SERIE - POR POSICIÓN Y POR ÍNDICE"
   ]
  },
  {
   "cell_type": "markdown",
   "id": "0d037c93-c03f-42f2-a8a6-63b7202bb422",
   "metadata": {},
   "source": [
    "## 📌EJEMPLO 7: ACCESO A LOS ELEMENTOS DE UNA SERIE – POR POSICIÓN Y POR ÍNDICE"
   ]
  },
  {
   "cell_type": "code",
   "execution_count": null,
   "id": "1aa03b8d-abc2-4084-83a0-99206d8635ab",
   "metadata": {},
   "outputs": [],
   "source": [
    "# Creamos una Serie a partir de un diccionario (asignatura → nota)\n",
    "s = pd.Series({'Matemáticas': 6.0,  'Economía': 4.5, \n",
    "               'Programación': 8.5,'Idioma': 6.5, 'Informática': 6.5})\n"
   ]
  },
  {
   "cell_type": "code",
   "execution_count": null,
   "id": "c965cc41-6180-4a64-bbc2-e37fd233a4ab",
   "metadata": {},
   "outputs": [],
   "source": [
    "# Acceso por rango de posiciones (del índice 1 al 2, la 3 no se incluye)\n",
    "print(s[1:3])  \n",
    "\n",
    "# Acceso por posición: muestra el valor en la posición 3\n",
    "print(s[3])  \n",
    "\n",
    "# Acceso por etiqueta: muestra la nota asociada a \"Economía\"\n",
    "print(s['Economía'])  \n",
    "\n",
    "# Acceso por lista de etiquetas: muestra las notas de \"Programación\" y \"Matemáticas\"\n",
    "print(s[['Programación', 'Matemáticas']])  "
   ]
  },
  {
   "cell_type": "markdown",
   "id": "88471201-1c15-4147-8517-95b1caf4d735",
   "metadata": {},
   "source": [
    "# 6.- FUNCIONES ESTADÍSTICAS BÁSICAS"
   ]
  },
  {
   "cell_type": "code",
   "execution_count": null,
   "id": "d0fa19b5-7ee3-422d-8fb6-d2dc36a0ff84",
   "metadata": {},
   "outputs": [],
   "source": [
    "import pandas as pd\n",
    "s = pd.Series([1, 1, 1, 1, 2, 2, 2, 3, 3, 4])"
   ]
  },
  {
   "cell_type": "code",
   "execution_count": null,
   "id": "ac72f729-d106-40f7-acc9-44170480bea4",
   "metadata": {},
   "outputs": [],
   "source": [
    "# Número de valores no nulos (tamaño muestral)\n",
    "print(s.count())  "
   ]
  },
  {
   "cell_type": "code",
   "execution_count": null,
   "id": "09ceed6e-9384-4974-8a38-0ce2870c44c3",
   "metadata": {},
   "outputs": [],
   "source": [
    "# Suma total de los valores\n",
    "print(s.sum())  "
   ]
  },
  {
   "cell_type": "code",
   "execution_count": null,
   "id": "b06324a5-7748-494e-a8ea-4090767b0243",
   "metadata": {},
   "outputs": [],
   "source": [
    "# Suma acumulada (va sumando elemento a elemento)\n",
    "print(s.cumsum()) "
   ]
  },
  {
   "cell_type": "code",
   "execution_count": null,
   "id": "4cfc8a53-7eff-4545-9818-2ed072901295",
   "metadata": {},
   "outputs": [],
   "source": [
    "# Frecuencias absolutas (cuántas veces aparece cada valor)\n",
    "print(s.value_counts())  "
   ]
  },
  {
   "cell_type": "code",
   "execution_count": null,
   "id": "e0c36ce0-c63f-492b-98e5-79a28c59ed64",
   "metadata": {},
   "outputs": [],
   "source": [
    "# Frecuencias relativas (proporciones respecto al total)\n",
    "print(s.value_counts(normalize=True))"
   ]
  },
  {
   "cell_type": "code",
   "execution_count": null,
   "id": "bcb57219-6169-437e-b5ad-de5bbe615a78",
   "metadata": {},
   "outputs": [],
   "source": [
    "# Valor mínimo de la Serie\n",
    "print(s.min())"
   ]
  },
  {
   "cell_type": "code",
   "execution_count": null,
   "id": "42f73048-6371-468e-a2a9-e37d72a3f502",
   "metadata": {},
   "outputs": [],
   "source": [
    "# Valor máximo de la Serie\n",
    "print(s.max())"
   ]
  },
  {
   "cell_type": "code",
   "execution_count": null,
   "id": "67d99735-7e3f-46fb-82b2-086297bf01ad",
   "metadata": {},
   "outputs": [],
   "source": [
    "# Media aritmética\n",
    "print(s.mean())"
   ]
  },
  {
   "cell_type": "code",
   "execution_count": null,
   "id": "b3e58142-64d7-4ceb-b08b-fe443265a2ef",
   "metadata": {},
   "outputs": [],
   "source": [
    "# Varianza (medida de dispersión)\n",
    "print(s.var())"
   ]
  },
  {
   "cell_type": "code",
   "execution_count": null,
   "id": "c462b14e-8733-4fb7-8efe-1fcdc07f8c50",
   "metadata": {},
   "outputs": [],
   "source": [
    "# Desviación típica (raíz cuadrada de la varianza)\n",
    "print(s.std())  "
   ]
  },
  {
   "cell_type": "code",
   "execution_count": null,
   "id": "72c543f4-2f72-4fb0-a829-ace647d7cfc1",
   "metadata": {},
   "outputs": [],
   "source": [
    "# Resumen estadístico (count, mean, std, min, percentiles, max)\n",
    "print(s.describe())  "
   ]
  },
  {
   "cell_type": "markdown",
   "id": "adedc41e-8e28-4ee4-813d-62e8109ffa96",
   "metadata": {
    "jp-MarkdownHeadingCollapsed": true
   },
   "source": [
    "# 7.- APLICAR OPERACIONES A UNA SERIE"
   ]
  },
  {
   "cell_type": "code",
   "execution_count": null,
   "id": "6ca77cdd-cbdb-4ade-ae5b-25cdddbca522",
   "metadata": {},
   "outputs": [],
   "source": [
    "import pandas as pd"
   ]
  },
  {
   "cell_type": "code",
   "execution_count": null,
   "id": "c6f02d42-27cc-411c-8b53-275425d7e90d",
   "metadata": {},
   "outputs": [],
   "source": [
    "# Serie con valores numéricos\n",
    "s = pd.Series([1, 2, 3, 4])"
   ]
  },
  {
   "cell_type": "code",
   "execution_count": null,
   "id": "4a69385c-eb3c-4956-bf52-e1a703ac739d",
   "metadata": {},
   "outputs": [],
   "source": [
    "# Multiplica cada valor de la Serie por 2\n",
    "print(s * 2)"
   ]
  },
  {
   "cell_type": "code",
   "execution_count": null,
   "id": "93948942-0d40-4f1c-85d5-a76fa665e933",
   "metadata": {},
   "outputs": [],
   "source": [
    "# Resto de cada valor dividido entre 2 (módulo)\n",
    "print(s % 2)"
   ]
  },
  {
   "cell_type": "code",
   "execution_count": null,
   "id": "f45e7987-f4ad-4880-b5be-7ee7e80946ff",
   "metadata": {},
   "outputs": [],
   "source": [
    "# Serie con valores de texto\n",
    "s = pd.Series(['a', 'b', 'c']) \n",
    "\n",
    "# Repite cada cadena 5 veces (operación con strings)\n",
    "print(s * 5)  "
   ]
  },
  {
   "cell_type": "markdown",
   "id": "65cd68e0-8065-433b-96cc-850781c7b8b6",
   "metadata": {
    "jp-MarkdownHeadingCollapsed": true
   },
   "source": [
    "# 8.- APLICAR FUNCIONES A UNA SERIE"
   ]
  },
  {
   "cell_type": "markdown",
   "id": "7cee6c24-6c6f-436a-ba07-d1c118f33415",
   "metadata": {
    "jp-MarkdownHeadingCollapsed": true
   },
   "source": [
    "## 📌EJEMPLO 10: EJEMPLO DE SERIES CON VALORES NUMÉRICOS"
   ]
  },
  {
   "cell_type": "code",
   "execution_count": null,
   "id": "309d7d7e-76f5-4251-b062-4c91940ddefa",
   "metadata": {},
   "outputs": [],
   "source": [
    "import pandas as pd\n",
    "from math import log"
   ]
  },
  {
   "cell_type": "code",
   "execution_count": null,
   "id": "2be7423f-310c-4ed4-a7d3-9771a1fdcc00",
   "metadata": {},
   "outputs": [],
   "source": [
    "# Serie con valores numéricos\n",
    "s = pd.Series([1, 2, 3, 4])"
   ]
  },
  {
   "cell_type": "code",
   "execution_count": null,
   "id": "f102caea-39a4-4b8e-bf3d-8e753f1bee3f",
   "metadata": {},
   "outputs": [],
   "source": [
    "# Aplica la función logaritmo a cada elemento de la Serie\n",
    "s.apply(log)"
   ]
  },
  {
   "cell_type": "markdown",
   "id": "1b0534cd-817c-4876-9b72-a247943a8f91",
   "metadata": {},
   "source": [
    "## 📌EJEMPLO 11: EJEMPLO DE SERIES CON VALORES DE TEXTO"
   ]
  },
  {
   "cell_type": "code",
   "execution_count": null,
   "id": "6bee5dc4-3de5-4f59-9f3d-670b9f9757b0",
   "metadata": {},
   "outputs": [],
   "source": [
    "# Serie con valores de texto\n",
    "s = pd.Series(['a', 'b', 'c'])\n",
    "\n",
    "# Aplica la función str.upper a cada elemento (convierte a mayúsculas)\n",
    "s.apply(str.upper)"
   ]
  },
  {
   "cell_type": "markdown",
   "id": "ea9191c9-a631-4120-a2eb-f1faad55c905",
   "metadata": {
    "jp-MarkdownHeadingCollapsed": true
   },
   "source": [
    "# 9.- FILTRAR UNA SERIE"
   ]
  },
  {
   "cell_type": "code",
   "execution_count": null,
   "id": "2e378ed9-47e1-4e11-87bd-eae276f1ed79",
   "metadata": {},
   "outputs": [],
   "source": [
    "import pandas as pd"
   ]
  },
  {
   "cell_type": "code",
   "execution_count": null,
   "id": "0b85e548-525f-49b4-88ac-5aee15081f80",
   "metadata": {},
   "outputs": [],
   "source": [
    "# Serie con asignaturas como índice y notas como valores\n",
    "s = pd.Series({'Matemáticas': 6.0,  'Economía': 4.5, 'Programación': 8.5})"
   ]
  },
  {
   "cell_type": "code",
   "execution_count": null,
   "id": "deab0af7-00ce-4866-b8ce-9ce6f0ba83ca",
   "metadata": {},
   "outputs": [],
   "source": [
    "# Devuelve una Serie booleana: True si el valor > 5, False en caso contrario\n",
    "print(s > 5)"
   ]
  },
  {
   "cell_type": "code",
   "execution_count": null,
   "id": "49394f5f-c8ce-47e2-ad66-dab677ff95ac",
   "metadata": {},
   "outputs": [],
   "source": [
    "# Filtra la Serie: muestra solo los elementos cuyo valor es > 5\n",
    "print(s[s > 5])"
   ]
  },
  {
   "cell_type": "markdown",
   "id": "95d63259-be94-4f27-b981-8158df06039b",
   "metadata": {
    "jp-MarkdownHeadingCollapsed": true
   },
   "source": [
    "# 10.- ORDENAR UNA SERIE"
   ]
  },
  {
   "cell_type": "markdown",
   "id": "5278133b-24d1-463b-8dfe-a5fa44838813",
   "metadata": {
    "jp-MarkdownHeadingCollapsed": true
   },
   "source": [
    "## 📌EJEMPLO 12: ORDENAR SERIE DESDE UN DICCIONARIO"
   ]
  },
  {
   "cell_type": "code",
   "execution_count": null,
   "id": "ea6c92a0-2aa1-4b42-b363-09e0c0d34354",
   "metadata": {},
   "outputs": [],
   "source": [
    "import pandas as pd"
   ]
  },
  {
   "cell_type": "code",
   "execution_count": null,
   "id": "aeab6867-7940-4f9f-a830-9f8566adcb66",
   "metadata": {},
   "outputs": [],
   "source": [
    "# Serie con asignaturas como índice y notas como valores\n",
    "s = pd.Series({'Matemáticas': 6.0,  'Economía': 4.5, 'Programación': 8.5})"
   ]
  },
  {
   "cell_type": "code",
   "execution_count": null,
   "id": "852e2138-862d-41eb-bc3c-b8bc187d8e21",
   "metadata": {},
   "outputs": [],
   "source": [
    "# Ordena la Serie por valores (de menor a mayor)\n",
    "print(s.sort_values())"
   ]
  },
  {
   "cell_type": "code",
   "execution_count": null,
   "id": "039108c0-dc67-47b2-a84d-63ebdc1d6968",
   "metadata": {},
   "outputs": [],
   "source": [
    "# Ordena la Serie por índice en orden descendente\n",
    "print(s.sort_index(ascending=False))"
   ]
  },
  {
   "cell_type": "markdown",
   "id": "a0635840-28d1-491f-85ac-e001205927ce",
   "metadata": {},
   "source": [
    "## 📌EJEMPLO 13: ORDENAR SERIE DESDE UNA LISTA"
   ]
  },
  {
   "cell_type": "code",
   "execution_count": null,
   "id": "1b9a2a06-ea40-474c-9a0b-b4b00bdebcd5",
   "metadata": {},
   "outputs": [],
   "source": [
    "# Serie con nombres de estudiantes como índice y notas como valores\n",
    "indice = [\"Juan\", \"Maria\", \"Francisco\", \"Pedro\", \"Luis\"]\n",
    "datos_lista = [40, 20, 36, 34, 20]\n",
    "serie = pd.Series(datos_lista, index=indice, dtype=\"i8\")"
   ]
  },
  {
   "cell_type": "code",
   "execution_count": null,
   "id": "b91eaa02-53b4-45f0-af17-bb26e49d424c",
   "metadata": {},
   "outputs": [],
   "source": [
    "# Ordena la Serie por valores (modifica la Serie original con inplace=True)\n",
    "serie.sort_values(inplace=True)\n",
    "print(serie)"
   ]
  },
  {
   "cell_type": "code",
   "execution_count": null,
   "id": "f2dfac72-7db3-4276-9da9-76fee1a6aa35",
   "metadata": {},
   "outputs": [],
   "source": [
    "# Ordena la Serie por índice en orden alfabético (también modifica la Serie)\n",
    "serie.sort_index(inplace=True)\n",
    "print(serie)"
   ]
  },
  {
   "cell_type": "markdown",
   "id": "35cfd191-e674-4e40-99a8-9022bc91693a",
   "metadata": {
    "jp-MarkdownHeadingCollapsed": true
   },
   "source": [
    "# 11.- ELIMINAR LOS DATOS DESCONOCIDOS DE UNA SERIE"
   ]
  },
  {
   "cell_type": "code",
   "execution_count": 8,
   "id": "b3cbab24-ba2a-4b75-a29e-3ffcc9f1b5a8",
   "metadata": {},
   "outputs": [],
   "source": [
    "import pandas as pd\n",
    "import numpy as np"
   ]
  },
  {
   "cell_type": "code",
   "execution_count": 9,
   "id": "aac1d0ba-75fb-465c-86af-17dde97dc02b",
   "metadata": {},
   "outputs": [
    {
     "name": "stdout",
     "output_type": "stream",
     "text": [
      "0       a\n",
      "1       b\n",
      "2    None\n",
      "3       c\n",
      "4     NaN\n",
      "5       d\n",
      "dtype: object\n"
     ]
    }
   ],
   "source": [
    "\n",
    "# Serie con valores de texto y algunos nulos (None y np.NaN)\n",
    "s = pd.Series(['a', 'b', None, 'c', np.nan, 'd'])\n",
    "print(s)"
   ]
  },
  {
   "cell_type": "code",
   "execution_count": 10,
   "id": "ff5e789a-0cf5-4a1f-ad1e-3ceae7c2d69b",
   "metadata": {},
   "outputs": [
    {
     "data": {
      "text/plain": [
       "0    a\n",
       "1    b\n",
       "3    c\n",
       "5    d\n",
       "dtype: object"
      ]
     },
     "execution_count": 10,
     "metadata": {},
     "output_type": "execute_result"
    }
   ],
   "source": [
    "# Elimina los valores nulos, devuelve una nueva Serie (no modifica la original)\n",
    "s.dropna()"
   ]
  },
  {
   "cell_type": "code",
   "execution_count": 11,
   "id": "c91f29d9-c38a-4e7b-a6eb-166ea9df1ad5",
   "metadata": {},
   "outputs": [
    {
     "name": "stdout",
     "output_type": "stream",
     "text": [
      "0       a\n",
      "1       b\n",
      "2    None\n",
      "3       c\n",
      "4     NaN\n",
      "5       d\n",
      "dtype: object\n"
     ]
    }
   ],
   "source": [
    "print(s)"
   ]
  },
  {
   "cell_type": "code",
   "execution_count": 12,
   "id": "56d63924-9750-414e-a753-78acc41aeebc",
   "metadata": {},
   "outputs": [],
   "source": [
    "# Elimina los valores nulos directamente en la Serie (modifica la original)\n",
    "s.dropna(inplace=True)  # ⚠️ destructivo"
   ]
  },
  {
   "cell_type": "code",
   "execution_count": 13,
   "id": "e22af6bb-1656-4509-bf11-e24aa5376e2c",
   "metadata": {},
   "outputs": [
    {
     "name": "stdout",
     "output_type": "stream",
     "text": [
      "0    a\n",
      "1    b\n",
      "3    c\n",
      "5    d\n",
      "dtype: object\n"
     ]
    }
   ],
   "source": [
    "print(s)"
   ]
  },
  {
   "cell_type": "code",
   "execution_count": 14,
   "id": "104cec90-336b-4a9e-b27e-cbd24a6932c9",
   "metadata": {},
   "outputs": [
    {
     "data": {
      "text/plain": [
       "dtype('O')"
      ]
     },
     "execution_count": 14,
     "metadata": {},
     "output_type": "execute_result"
    }
   ],
   "source": [
    "s.dtypes"
   ]
  },
  {
   "cell_type": "code",
   "execution_count": null,
   "id": "e85fda30-48fb-45b0-b5f1-54b412826434",
   "metadata": {},
   "outputs": [],
   "source": []
  }
 ],
 "metadata": {
  "kernelspec": {
   "display_name": "Python [conda env:base] *",
   "language": "python",
   "name": "conda-base-py"
  },
  "language_info": {
   "codemirror_mode": {
    "name": "ipython",
    "version": 3
   },
   "file_extension": ".py",
   "mimetype": "text/x-python",
   "name": "python",
   "nbconvert_exporter": "python",
   "pygments_lexer": "ipython3",
   "version": "3.13.5"
  }
 },
 "nbformat": 4,
 "nbformat_minor": 5
}
