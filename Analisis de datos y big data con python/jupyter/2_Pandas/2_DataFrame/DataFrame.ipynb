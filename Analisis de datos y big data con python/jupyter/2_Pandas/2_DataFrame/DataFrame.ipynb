{
 "cells": [
  {
   "cell_type": "markdown",
   "id": "6837939e-84cc-4023-8f49-06d2d4880765",
   "metadata": {
    "jp-MarkdownHeadingCollapsed": true
   },
   "source": [
    "# 1.- Creación de un DataFrame"
   ]
  },
  {
   "cell_type": "markdown",
   "id": "23009c1b-0f34-492b-8128-bb8393a3bf67",
   "metadata": {
    "jp-MarkdownHeadingCollapsed": true
   },
   "source": [
    "## EJEMPLO 1: creación de un DataFrame a partir de un diccionario\n"
   ]
  },
  {
   "cell_type": "code",
   "execution_count": null,
   "id": "733c532d-2f77-40d2-bf1b-7b6030ec410a",
   "metadata": {},
   "outputs": [],
   "source": [
    "import pandas as pd"
   ]
  },
  {
   "cell_type": "code",
   "execution_count": null,
   "id": "e9ced039-8758-43ee-8f31-e9bae53feb84",
   "metadata": {},
   "outputs": [],
   "source": [
    "# Diccionario con datos: precios (pvp) y ventas\n",
    "data = {\n",
    "  \"pvp\": [420, 380, 390],\n",
    "  \"ventas\": [50, 40, 45]\n",
    "}"
   ]
  },
  {
   "cell_type": "code",
   "execution_count": null,
   "id": "53bd9720-9c1f-454d-ae53-cad562db16b5",
   "metadata": {},
   "outputs": [],
   "source": [
    "# Crear un DataFrame a partir del diccionario (índices por defecto 0,1,2)\n",
    "df = pd.DataFrame(data)\n",
    "print(df) \n"
   ]
  },
  {
   "cell_type": "code",
   "execution_count": null,
   "id": "20ef09ef-6926-4104-9c63-46aed9f749ca",
   "metadata": {},
   "outputs": [],
   "source": [
    "# Crear un DataFrame con índices personalizados\n",
    "df = pd.DataFrame(data, index=[\"Art1\", \"Art2\", \"Art3\"])\n",
    "print(df) "
   ]
  },
  {
   "cell_type": "code",
   "execution_count": null,
   "id": "0927395e-10a3-4eff-87c5-798db801807c",
   "metadata": {},
   "outputs": [],
   "source": [
    "# Crear otro DataFrame con los mismos datos\n",
    "df2 = pd.DataFrame(data)\n",
    "print(df2)"
   ]
  },
  {
   "cell_type": "code",
   "execution_count": null,
   "id": "b8b0e1a8-cafb-49c0-ab11-66b08d22ba36",
   "metadata": {},
   "outputs": [],
   "source": [
    "# Cambiar el nombre de las columnas del DataFrame\n",
    "df2.columns = ['COL1', 'COL2']\n",
    "print(df2)"
   ]
  },
  {
   "cell_type": "markdown",
   "id": "b18a8763-a36f-4e4b-8712-5903ad9f1a8a",
   "metadata": {
    "jp-MarkdownHeadingCollapsed": true
   },
   "source": [
    "## EJEMPLO 2: creación de un DataFrame a partir de un diccionario de listas"
   ]
  },
  {
   "cell_type": "code",
   "execution_count": null,
   "id": "04563ff8-cffa-4dcf-8633-4af13f76a5dd",
   "metadata": {},
   "outputs": [],
   "source": [
    "import pandas as pd"
   ]
  },
  {
   "cell_type": "code",
   "execution_count": null,
   "id": "1bb4e0e7-5c3b-4412-9ee7-ffa4e3a140d7",
   "metadata": {},
   "outputs": [],
   "source": [
    "datos = {'nombre':['María', 'Luis', 'Carmen', 'Antonio'],\n",
    "         'edad':[18, 22, 20, 21],\n",
    "         'grado':['Economía', 'Medicina', 'Arquitectura', 'Economía'],\n",
    "         'correo':['maria@gmail.com', 'luis@yahoo.es', 'carmen@gmail.com', 'antonio@gmail.com']\n",
    " }"
   ]
  },
  {
   "cell_type": "code",
   "execution_count": null,
   "id": "a2bd2b2b-c78c-42de-aad1-d7c43e6cdaff",
   "metadata": {},
   "outputs": [],
   "source": [
    "df = pd.DataFrame(datos)\n",
    "df"
   ]
  },
  {
   "cell_type": "markdown",
   "id": "9567a414-704a-4088-9d4e-9d90db8da90e",
   "metadata": {
    "jp-MarkdownHeadingCollapsed": true
   },
   "source": [
    "## EJEMPLO 3: creación de un DataFrame a partir de una lista de listas"
   ]
  },
  {
   "cell_type": "code",
   "execution_count": null,
   "id": "ccd1a27c-3379-4821-ad2b-675cd673e106",
   "metadata": {},
   "outputs": [],
   "source": [
    "import pandas as pd"
   ]
  },
  {
   "cell_type": "code",
   "execution_count": null,
   "id": "5a93a83b-adfa-442c-afd3-fc58d47f5dc8",
   "metadata": {},
   "outputs": [],
   "source": [
    "# Crear un DataFrame a partir de una lista de listas\n",
    "# Cada sublista corresponde a una fila (Nombre, Edad)\n",
    "df = pd.DataFrame([['María', 18], \n",
    "                   ['Luis', 22], \n",
    "                   ['Carmen', 20]], \n",
    "                  columns=['Nombre', 'Edad'])  # Nombres de las columnas\n",
    "\n",
    "# Mostrar el DataFrame (en Jupyter aparece en formato tabla)\n",
    "df"
   ]
  },
  {
   "cell_type": "markdown",
   "id": "69d9f3da-3140-4e53-9d5e-f15c400c8396",
   "metadata": {
    "jp-MarkdownHeadingCollapsed": true
   },
   "source": [
    "## EJEMPLO 4: creación de un DataFrame a partir de una lista de diccionarios"
   ]
  },
  {
   "cell_type": "code",
   "execution_count": null,
   "id": "ec1116ab-1a06-4927-8633-05f6b251191c",
   "metadata": {},
   "outputs": [],
   "source": [
    "import pandas as pd"
   ]
  },
  {
   "cell_type": "code",
   "execution_count": null,
   "id": "f44647df-d0d4-4c17-95ed-3838e872badf",
   "metadata": {},
   "outputs": [],
   "source": [
    "# Crear un DataFrame a partir de una lista de diccionarios\n",
    "# Cada diccionario corresponde a una fila\n",
    "# Si falta algún valor, pandas lo rellena con NaN (dato nulo)\n",
    "df = pd.DataFrame([\n",
    "    {'Nombre': 'María', 'Edad': 18}, \n",
    "    {'Nombre': 'Luis', 'Edad': 22}, \n",
    "    {'Nombre': 'Carmen'}   # Falta 'Edad', se completará con NaN\n",
    "])\n",
    "\n",
    "# Mostrar el DataFrame (en Jupyter aparece en formato tabla)\n",
    "df"
   ]
  },
  {
   "cell_type": "markdown",
   "id": "aeeee3c5-2909-4451-ab81-4fcf5b169c31",
   "metadata": {},
   "source": [
    "## OTROS EJEMPLOS DE CREACIÓN DE UN DATAFRAME"
   ]
  },
  {
   "cell_type": "markdown",
   "id": "c7e1e27e-117c-45ef-940b-5994d3d93669",
   "metadata": {},
   "source": [
    "### Con listas"
   ]
  },
  {
   "cell_type": "code",
   "execution_count": null,
   "id": "2586f9c5-c913-4bb0-a855-ed76556d247f",
   "metadata": {},
   "outputs": [],
   "source": [
    "import pandas as pd"
   ]
  },
  {
   "cell_type": "code",
   "execution_count": null,
   "id": "f5868df8-0833-49ee-bbc2-ce6aea3e6c7d",
   "metadata": {},
   "outputs": [],
   "source": [
    "# Lista con los nombres de los países (serán los índices del DataFrame)\n",
    "nombre_paises = [\"China\", \"India\", \"Estados Unidos\", \"Indonesia\", \"Pakistán\",\n",
    "                 \"Brasil\", \"Nigeria\", \"Bangladesh\", \"Rusia\", \"México\"]"
   ]
  },
  {
   "cell_type": "code",
   "execution_count": null,
   "id": "c1c9bf43-7793-49e6-92ab-c6c9cfa30638",
   "metadata": {},
   "outputs": [],
   "source": [
    "# Lista con los nombres de las columnas\n",
    "encabezado = [\"poblacion\", \"porcentaje\"]"
   ]
  },
  {
   "cell_type": "code",
   "execution_count": null,
   "id": "a5470238-7a12-4fff-9f6b-bed341c6f68d",
   "metadata": {},
   "outputs": [],
   "source": [
    "# Lista de listas con los datos:\n",
    "# Cada sublista representa una fila: [población (millones), porcentaje mundial]\n",
    "datos = [\n",
    "    [1439, 18.47],  [1380, 17.70], [331, 4.25],\n",
    "    [273, 3.51],    [220, 2.83],   [212, 2.73], \n",
    "    [206, 2.64],    [164, 2.11],   [145, 1.87],\n",
    "    [128, 1.65]\n",
    "]"
   ]
  },
  {
   "cell_type": "code",
   "execution_count": null,
   "id": "7f4003ab-280c-47f0-92df-7ad87077a723",
   "metadata": {},
   "outputs": [],
   "source": [
    "# Crear el DataFrame con datos, índices (filas) y nombres de columnas\n",
    "paises = pd.DataFrame(datos, index=nombre_paises, columns=encabezado)\n",
    "\n",
    "# Mostrar el DataFrame en forma de tabla (en Jupyter se renderiza automáticamente)\n",
    "paises"
   ]
  },
  {
   "cell_type": "markdown",
   "id": "5e34d946-90aa-425d-a5f9-02dbc68273be",
   "metadata": {},
   "source": [
    "### Con diccionario"
   ]
  },
  {
   "cell_type": "code",
   "execution_count": null,
   "id": "85abb7d5-a183-49fe-9213-365691e393fe",
   "metadata": {},
   "outputs": [],
   "source": [
    "# A partir de un diccionario\n",
    "# Cada clave del diccionario es un país (será una columna en el DataFrame)\n",
    "# Cada valor es una lista con [población, porcentaje]\n",
    "datos = {\n",
    "    \"China\": [1439, 18.47],  \n",
    "    \"India\": [1380, 17.70],\n",
    "    \"Estados Unidos\": [331, 4.25], \n",
    "    \"Indonesia\": [273, 3.51], \n",
    "    \"Pakistán\": [220, 2.83],   \n",
    "    \"Brasil\": [212, 2.73], \n",
    "    \"Nigeria\": [206, 2.64],  \n",
    "    \"Bangladesh\": [164, 2.11],\n",
    "    \"Rusia\": [145, 1.87], \n",
    "    \"México\": [128, 1.65]\n",
    "}"
   ]
  },
  {
   "cell_type": "code",
   "execution_count": null,
   "id": "46527a71-3915-4652-a189-1f0f064d5680",
   "metadata": {},
   "outputs": [],
   "source": [
    "# Crear el DataFrame indicando que las filas iniciales son 'poblacion' y 'porcentaje'\n",
    "paises = pd.DataFrame(datos, index=encabezado)"
   ]
  },
  {
   "cell_type": "code",
   "execution_count": null,
   "id": "b8463656-86d4-4d8e-b361-e400c09225c5",
   "metadata": {},
   "outputs": [],
   "source": [
    "paises"
   ]
  },
  {
   "cell_type": "code",
   "execution_count": null,
   "id": "b198d8b8-18aa-44f3-a5a0-ff9f1b5e3cfa",
   "metadata": {},
   "outputs": [],
   "source": [
    "# Transponer el DataFrame (intercambiar filas y columnas)\n",
    "# Ahora los países pasan a ser filas (índices) y las columnas son 'poblacion' y 'porcentaje'\n",
    "paises = paises.T  \n",
    "\n",
    "# Mostrar el DataFrame\n",
    "paises"
   ]
  },
  {
   "cell_type": "markdown",
   "id": "0e486d76-8f93-4f72-ab39-f2e86120a97b",
   "metadata": {
    "jp-MarkdownHeadingCollapsed": true
   },
   "source": [
    "# 2.- Añadir columnas nuevas a un DataFrame, función insert()"
   ]
  },
  {
   "cell_type": "code",
   "execution_count": null,
   "id": "9d89b962-ff15-405a-abe6-55901d11a92d",
   "metadata": {},
   "outputs": [],
   "source": [
    "import pandas as pd\n",
    "import numpy as np"
   ]
  },
  {
   "cell_type": "code",
   "execution_count": null,
   "id": "ebfc95fa-c43f-41c4-808a-617fec754a03",
   "metadata": {},
   "outputs": [],
   "source": [
    "# Diccionario con países como claves y [población, porcentaje] como valores\n",
    "datos = {\n",
    "    \"China\": [1439, 18.47],  \n",
    "    \"India\": [1380, 17.70],\n",
    "    \"Estados Unidos\": [331, 4.25], \n",
    "    \"Indonesia\": [273, 3.51], \n",
    "    \"Pakistán\": [220, 2.83],   \n",
    "    \"Brasil\": [212, 2.73], \n",
    "    \"Nigeria\": [206, 2.64],  \n",
    "    \"Bangladesh\": [164, 2.11],\n",
    "    \"Rusia\": [145, 1.87], \n",
    "    \"México\": [128, 1.65]\n",
    "}"
   ]
  },
  {
   "cell_type": "code",
   "execution_count": null,
   "id": "5cdcdac1-545a-4c4a-8ea3-ff86eaa6a58a",
   "metadata": {},
   "outputs": [],
   "source": [
    "# Lista con nombres de filas\n",
    "encabezado = [\"poblacion\", \"porcentaje\"]"
   ]
  },
  {
   "cell_type": "code",
   "execution_count": null,
   "id": "96d8f221-95db-40d3-9671-19ffb4616547",
   "metadata": {},
   "outputs": [],
   "source": [
    "# Crear DataFrame con países como columnas y filas = 'poblacion', 'porcentaje'\n",
    "paises = pd.DataFrame(datos, index=encabezado)\n",
    "\n",
    "# Mostrar el DataFrame\n",
    "paises"
   ]
  },
  {
   "cell_type": "code",
   "execution_count": null,
   "id": "7b0a22e6-d944-4dde-b37e-d66583c63ea8",
   "metadata": {},
   "outputs": [],
   "source": [
    "# -----------------------------\n",
    "# AÑADIR COLUMNAS DE DIFERENTES FORMAS\n",
    "# -----------------------------"
   ]
  },
  {
   "cell_type": "code",
   "execution_count": null,
   "id": "76b14e0e-85d2-4b0d-9b5e-380b1fc41ef0",
   "metadata": {},
   "outputs": [],
   "source": [
    "# Añadir una nueva columna al final usando una Serie\n",
    "# Asignamos valores a cada índice ('poblacion' y 'porcentaje')\n",
    "paises['nuevacolum'] = pd.Series({'poblacion': 100, 'porcentaje': 10})\n",
    "# Mostrar el DataFrame\n",
    "paises"
   ]
  },
  {
   "cell_type": "code",
   "execution_count": null,
   "id": "cfcbfcf8-6386-47ac-a91d-5818fc758cf7",
   "metadata": {},
   "outputs": [],
   "source": [
    "\n",
    "# Añadir otra columna pasando directamente una lista\n",
    "otra = [33, 44]\n",
    "paises['otra'] = otra\n",
    "\n",
    "# Mostrar el DataFrame\n",
    "paises"
   ]
  },
  {
   "cell_type": "code",
   "execution_count": null,
   "id": "6aeb2297-da0d-4f00-9971-a96546fb70f3",
   "metadata": {},
   "outputs": [],
   "source": [
    "# Añadir una columna en una posición concreta\n",
    "# insert(posición, nombre_columna, valores)\n",
    "\n",
    "# Insertar columna al principio (posición 0)\n",
    "paises.insert(0, \"PrimeColum\", [90, 80]) \n",
    "\n",
    "# Mostrar el DataFrame final\n",
    "paises"
   ]
  },
  {
   "cell_type": "code",
   "execution_count": null,
   "id": "4b3cf094-d28b-4a1e-a39d-9432683e9f8d",
   "metadata": {},
   "outputs": [],
   "source": [
    "# Insertar columna en la cuarta posición\n",
    "paises.insert(3, \"CuartaColum\", [90, 80]) \n",
    "\n",
    "# Mostrar el DataFrame final\n",
    "paises"
   ]
  },
  {
   "cell_type": "markdown",
   "id": "56612c0b-e447-4773-9fda-4a709c015735",
   "metadata": {
    "jp-MarkdownHeadingCollapsed": true
   },
   "source": [
    "# 3.- Atributos de un DataFrame"
   ]
  },
  {
   "cell_type": "code",
   "execution_count": null,
   "id": "f9462596-40a5-4ba1-b6ca-a473a07ea656",
   "metadata": {},
   "outputs": [],
   "source": [
    "import pandas as pd"
   ]
  },
  {
   "cell_type": "code",
   "execution_count": null,
   "id": "3a3b6420-9982-46f8-84be-021efd3c67aa",
   "metadata": {},
   "outputs": [],
   "source": [
    "# Diccionario con listas → cada clave será una columna del DataFrame\n",
    "datos = {\n",
    "    'nombre': ['María', 'Luis', 'Carmen', 'Antonio'],\n",
    "    'edad': [18, 22, 20, 21],\n",
    "    'grado': ['Economía', 'Medicina', 'Arquitectura', 'Economía'],\n",
    "    'correo': ['maria@gmail.com', 'luis@yahoo.es', 'carmen@gmail.com', 'antonio@gmail.com']\n",
    "}\n",
    "\n",
    "# Crear el DataFrame\n",
    "df = pd.DataFrame(datos)"
   ]
  },
  {
   "cell_type": "code",
   "execution_count": null,
   "id": "0f764782-81a0-44f2-a4f1-b86f7beedb1d",
   "metadata": {},
   "outputs": [],
   "source": [
    "# Información general del DataFrame (filas, columnas, tipos de datos, nulos…)\n",
    "print(\"\\n\", df.info())"
   ]
  },
  {
   "cell_type": "code",
   "execution_count": null,
   "id": "04daf0b6-dbc5-4b32-b1af-fc627df09ab1",
   "metadata": {},
   "outputs": [],
   "source": [
    "# Dimensiones del DataFrame (nº filas, nº columnas)\n",
    "print(\"\\n\", df.shape)  # (4, 4)\n"
   ]
  },
  {
   "cell_type": "code",
   "execution_count": null,
   "id": "90e48e48-f9af-45dd-a1fd-14c14b0497c9",
   "metadata": {},
   "outputs": [],
   "source": [
    "# Acceso separado al número de filas y columnas\n",
    "print(\"Filas:\", df.shape[0], \", Columnas:\", df.shape[1])"
   ]
  },
  {
   "cell_type": "code",
   "execution_count": null,
   "id": "fae451eb-5656-4d31-84b8-197beff69f96",
   "metadata": {},
   "outputs": [],
   "source": [
    "# Número total de elementos (celdas = filas × columnas)\n",
    "print(\"\\n\", df.size)  # 16"
   ]
  },
  {
   "cell_type": "code",
   "execution_count": null,
   "id": "85f2cdc2-c5c5-4010-b99e-8f7e02a3e29f",
   "metadata": {},
   "outputs": [],
   "source": [
    "# Nombres de las columnas\n",
    "print(\"\\n\", df.columns)  # Index(['nombre', 'edad', 'grado', 'correo'], dtype='object')"
   ]
  },
  {
   "cell_type": "code",
   "execution_count": null,
   "id": "12ff3b92-262d-4220-b774-bf3bc0e45b52",
   "metadata": {},
   "outputs": [],
   "source": [
    "# Índices de las filas\n",
    "print(\"\\n\", df.index)  # RangeIndex(start=0, stop=4, step=1)"
   ]
  },
  {
   "cell_type": "code",
   "execution_count": null,
   "id": "dc350d81-2436-4487-827a-94d79905e44b",
   "metadata": {},
   "outputs": [],
   "source": [
    "# Tipos de datos de cada columna\n",
    "print(\"\\n\", df.dtypes)"
   ]
  },
  {
   "cell_type": "code",
   "execution_count": null,
   "id": "9dd59d8e-4a06-4ea7-a728-b12bc61e43a3",
   "metadata": {},
   "outputs": [],
   "source": [
    "# Primeras filas del DataFrame (por defecto 5)\n",
    "print(\"\\n\", df.head())"
   ]
  },
  {
   "cell_type": "code",
   "execution_count": null,
   "id": "a0ff477a-b968-4ccc-bc29-62bcdfd10843",
   "metadata": {},
   "outputs": [],
   "source": [
    "# Últimas filas del DataFrame (por defecto 5)\n",
    "print(\"\\n\", df.tail())"
   ]
  },
  {
   "cell_type": "code",
   "execution_count": null,
   "id": "401dd135-57da-4d06-b1c8-23dd54ccaefa",
   "metadata": {},
   "outputs": [],
   "source": [
    "# Valores del DataFrame en forma de array de NumPy\n",
    "print(\"\\n\", df.values)"
   ]
  },
  {
   "cell_type": "markdown",
   "id": "f0bbb24a-57af-4a22-bd24-1e8b7eeeabd7",
   "metadata": {},
   "source": [
    "# 4.- Seleccionar filas y columnas. Método loc, iloc."
   ]
  },
  {
   "cell_type": "markdown",
   "id": "f96b2c3c-37c9-46c5-bde5-bd0413a6fb7f",
   "metadata": {
    "jp-MarkdownHeadingCollapsed": true
   },
   "source": [
    "# 5.- Recorrer un DataFrame"
   ]
  },
  {
   "cell_type": "code",
   "execution_count": null,
   "id": "384f3da5-0c91-4f00-b156-a130a5717426",
   "metadata": {},
   "outputs": [],
   "source": [
    "# Recorrido del DataFrame por filas usando df.values (array de NumPy)\n",
    "# Cada 'fila' es una lista con los valores de todas las columnas\n",
    "for fila in df.values:\n",
    "    print(\"Nombre:\", fila[0], \"Edad=\", fila[1], \"Grado=\", fila[2], \"Correo=\", fila[3])"
   ]
  },
  {
   "cell_type": "code",
   "execution_count": null,
   "id": "77ef4c8f-db7e-4756-ab50-94e34ee48964",
   "metadata": {},
   "outputs": [],
   "source": [
    "# Recorrido del DataFrame por columnas\n",
    "# Al iterar sobre df se obtienen los nombres de las columnas\n",
    "# df[columna].values devuelve todos los valores de esa columna como array\n",
    "for columna in df:\n",
    "    print(columna, \"=>\", df[columna].values)"
   ]
  },
  {
   "cell_type": "code",
   "execution_count": null,
   "id": "321788d4-f122-42b0-95a2-28daa1bb06ad",
   "metadata": {},
   "outputs": [],
   "source": [
    "# Recorrido del DataFrame por índices\n",
    "# Primero mostramos los índices disponibles\n",
    "print(df.index)\n",
    "\n",
    "# Usando .loc → acceso por etiquetas (nombre de la fila + nombre de la columna)\n",
    "for i in df.index:\n",
    "    print(i, df.loc[i, 'nombre'], df.loc[i, 'edad'])\n",
    "\n",
    "print()"
   ]
  },
  {
   "cell_type": "code",
   "execution_count": null,
   "id": "86d9c329-32be-46c1-a6f7-393bde169dfa",
   "metadata": {},
   "outputs": [],
   "source": [
    "# Usando .iloc → acceso por posiciones (número de fila y número de columna)\n",
    "for i in df.index:\n",
    "    print(df.iloc[i, 0], df.iloc[i, 1], df.iloc[i, 2])\n",
    "\n",
    "print()"
   ]
  },
  {
   "cell_type": "markdown",
   "id": "0e69102d-3afd-43a3-9e80-ffedd2c8d30a",
   "metadata": {
    "jp-MarkdownHeadingCollapsed": true
   },
   "source": [
    "# 6.- Cambiar los nombres de las filas y las columnas"
   ]
  },
  {
   "cell_type": "markdown",
   "id": "c2f96157-6e0d-4321-a84a-1ea5eaee6558",
   "metadata": {},
   "source": [
    "## TODAS LAS COLUMNAS"
   ]
  },
  {
   "cell_type": "code",
   "execution_count": null,
   "id": "f9b5ea7b-b8af-446d-b71c-6d67214b1022",
   "metadata": {},
   "outputs": [],
   "source": [
    "df.columns=['NOMBRE','EDAD','GRADO','CORREO']"
   ]
  },
  {
   "cell_type": "code",
   "execution_count": null,
   "id": "5f3a674e-ccee-4613-87ef-976c8a61ad27",
   "metadata": {},
   "outputs": [],
   "source": [
    "df.rename(columns={'nombre':'NOMBRE','edad':'EDAD'},inplace=True)\n",
    "df.columns\n",
    "df\n"
   ]
  },
  {
   "cell_type": "markdown",
   "id": "2bf2d2e4-06a5-479f-aa69-2ba44d564b83",
   "metadata": {
    "jp-MarkdownHeadingCollapsed": true
   },
   "source": [
    "## RENOMBRAR FILAS"
   ]
  },
  {
   "cell_type": "code",
   "execution_count": null,
   "id": "edfe54ce-bd91-4f17-80ef-e6b78ffb15ae",
   "metadata": {},
   "outputs": [],
   "source": [
    "df.rename(index={0:'aaaa',1:'bbbb'}, inplace=True)\n",
    "df.head()"
   ]
  },
  {
   "cell_type": "markdown",
   "id": "fa9b847e-a216-4e97-b84e-1ceac5012b16",
   "metadata": {
    "jp-MarkdownHeadingCollapsed": true
   },
   "source": [
    "# 7.- Ordenar un DataFrame"
   ]
  },
  {
   "cell_type": "code",
   "execution_count": null,
   "id": "1dff3506-b7b3-4bcf-9edc-e195312fe141",
   "metadata": {},
   "outputs": [],
   "source": [
    "# Diccionario con países como claves y [población, porcentaje] como valores\n",
    "datos = {\n",
    "    \"A\": [1439, 18.47], \"B\": [1380, 17.70], \"D\": [331, 4.25],\n",
    "    \"F\": [273, 3.51], \"E\": [220, 2.83], \"Z\": [212, 2.73], \n",
    "    \"G\": [206, 2.64], \"H\": [164, 2.11], \"R\": [145, 1.87],\n",
    "    \"M\": [128, 1.65]\n",
    "}"
   ]
  },
  {
   "cell_type": "code",
   "execution_count": null,
   "id": "7095b5b8-e261-40a2-9a15-49bab8e50102",
   "metadata": {},
   "outputs": [],
   "source": [
    "# Lista con los nombres de las filas iniciales\n",
    "encabezado = [\"poblacion\", \"porcentaje\"]"
   ]
  },
  {
   "cell_type": "code",
   "execution_count": null,
   "id": "53460765-e895-4e1b-8f77-b78ecd519ba1",
   "metadata": {},
   "outputs": [],
   "source": [
    "# Crear un DataFrame: filas = encabezado [\"poblacion\", \"porcentaje\"], columnas = países\n",
    "paises = pd.DataFrame(datos, index=encabezado)"
   ]
  },
  {
   "cell_type": "code",
   "execution_count": null,
   "id": "df333b0b-518a-42f7-87fc-1ff8dd4744ec",
   "metadata": {},
   "outputs": [],
   "source": [
    "# Transponer (T): países pasan a ser las filas, columnas = [\"poblacion\", \"porcentaje\"]\n",
    "paises = paises.T  \n",
    "# Mostrar el DataFrame final ordenado por índices\n",
    "paises"
   ]
  },
  {
   "cell_type": "code",
   "execution_count": null,
   "id": "e9e7d131-7520-4da5-b5e9-67b370b47265",
   "metadata": {},
   "outputs": [],
   "source": [
    "# Ordenar el DataFrame por valores de las columnas 'poblacion' y 'porcentaje'\n",
    "# (por defecto, en orden ascendente). ⚠️ No modifica el original a menos que se use inplace=True\n",
    "paises.sort_values(['poblacion', 'porcentaje'])\n",
    "# Mostrar el DataFrame final ordenado por índices\n",
    "paises"
   ]
  },
  {
   "cell_type": "code",
   "execution_count": null,
   "id": "d8439cf7-5ff0-427d-a9af-9365fee941ca",
   "metadata": {},
   "outputs": [],
   "source": [
    "# Ordenar el DataFrame por los índices (los nombres de los países), en orden ascendente\n",
    "paises = paises.reindex(sorted(paises.index))\n",
    "# Mostrar el DataFrame final ordenado por índices\n",
    "paises"
   ]
  },
  {
   "cell_type": "code",
   "execution_count": null,
   "id": "0b501f0c-080a-4e9c-a274-d1980c16bb07",
   "metadata": {},
   "outputs": [],
   "source": [
    "# Ordenar por índice y guardar el resultado en el propio DataFrame (inplace=True)\n",
    "paises.sort_index(inplace=True)\n",
    "\n",
    "# Mostrar el DataFrame final ordenado por índices\n",
    "paises"
   ]
  },
  {
   "cell_type": "markdown",
   "id": "9c12cbd1-5ccb-42c9-b322-bc8dd32d0e42",
   "metadata": {
    "jp-MarkdownHeadingCollapsed": true
   },
   "source": [
    "# 8.- Agregar y borrar columnas"
   ]
  },
  {
   "cell_type": "code",
   "execution_count": null,
   "id": "78cf0c76-3a35-405c-90cb-290a5aca23ce",
   "metadata": {},
   "outputs": [],
   "source": [
    "tasa_fertilidad = [1.7, 2.2, 1.8, 2.3, 3.6, 1.7, 5.4, 2.1, 1.8, 2.1]\n",
    "paises[\"tasa_fertilidad\"] = tasa_fertilidad\n",
    "paises"
   ]
  },
  {
   "cell_type": "markdown",
   "id": "7220ddc6-1c67-4b06-99b9-02cbb8484442",
   "metadata": {
    "jp-MarkdownHeadingCollapsed": true
   },
   "source": [
    "# 10.- Comprobar filas duplicados"
   ]
  },
  {
   "cell_type": "code",
   "execution_count": null,
   "id": "2189c848-77db-4fcd-a23b-c96d79d86559",
   "metadata": {},
   "outputs": [],
   "source": [
    "import pandas as pd"
   ]
  },
  {
   "cell_type": "code",
   "execution_count": null,
   "id": "15331acf-0bcd-4bfa-9c63-0cf94901b4a9",
   "metadata": {},
   "outputs": [],
   "source": [
    "# Creamos un DataFrame de ejemplo\n",
    "data = {\n",
    "    \"nombre\": [\"Ana\", \"Luis\", \"Ana\", \"Marta\", \"Luis\"],\n",
    "    \"edad\": [20, 25, 20, 22, 25],\n",
    "    \"ciudad\": [\"Sevilla\", \"Córdoba\", \"Sevilla\", \"Málaga\", \"Córdoba\"]\n",
    "}\n",
    "df = pd.DataFrame(data)"
   ]
  },
  {
   "cell_type": "code",
   "execution_count": null,
   "id": "ae36c44d-6751-4568-bc36-e7fe3a8d999e",
   "metadata": {},
   "outputs": [],
   "source": [
    "# Mostrar el DataFrame original\n",
    "print(\"DataFrame original:\")\n",
    "print(df)"
   ]
  },
  {
   "cell_type": "code",
   "execution_count": null,
   "id": "74122d28-9a4e-4775-b730-5a59e08d6254",
   "metadata": {},
   "outputs": [],
   "source": [
    "# Buscar duplicados en las columnas \"nombre\" y \"edad\"\n",
    "duplicados = df[df.duplicated(subset=[\"nombre\", \"edad\"], keep=False)]\n",
    "\n",
    "# Mostrar resultados\n",
    "print(\"\\nFilas duplicadas (según nombre y edad):\")\n",
    "print(duplicados)"
   ]
  },
  {
   "cell_type": "markdown",
   "id": "9fd500e6-50e7-4ac0-a063-741ba50c706b",
   "metadata": {
    "jp-MarkdownHeadingCollapsed": true
   },
   "source": [
    "# 11.- Borrar filas duplicadas"
   ]
  },
  {
   "cell_type": "code",
   "execution_count": null,
   "id": "0ba2224a-75f9-472a-b067-f4108263b1b8",
   "metadata": {},
   "outputs": [],
   "source": [
    "import pandas as pd"
   ]
  },
  {
   "cell_type": "code",
   "execution_count": null,
   "id": "b1165b02-5674-4e1b-8831-fe444905fe08",
   "metadata": {},
   "outputs": [],
   "source": [
    "# Creamos un DataFrame con valores repetidos\n",
    "data = {\n",
    "    \"producto\": [\"Ratón\", \"Teclado\", \"Ratón\", \"Monitor\", \"Teclado\"],\n",
    "    \"precio\": [10, 20, 10, 150, 20]\n",
    "}\n",
    "df = pd.DataFrame(data)"
   ]
  },
  {
   "cell_type": "code",
   "execution_count": null,
   "id": "9160f302-b3a4-4d92-b4e1-62309533d298",
   "metadata": {},
   "outputs": [],
   "source": [
    "# Mostrar el DataFrame original\n",
    "print(\"DataFrame original:\")\n",
    "print(df)"
   ]
  },
  {
   "cell_type": "code",
   "execution_count": null,
   "id": "81e721fb-2406-4ba6-86fb-ae6b4fb658cb",
   "metadata": {},
   "outputs": [],
   "source": [
    "# Eliminar duplicados de forma permanente\n",
    "df.drop_duplicates(inplace=True)\n",
    "\n",
    "# Mostrar el DataFrame ya limpio\n",
    "print(\"\\nDataFrame sin duplicados:\")\n",
    "print(df)"
   ]
  },
  {
   "cell_type": "markdown",
   "id": "96fd8dd0-7a71-48e1-9dd4-6dd8fa4ac2dd",
   "metadata": {
    "jp-MarkdownHeadingCollapsed": true
   },
   "source": [
    "# 12.- Borrar nulos con dropna()"
   ]
  },
  {
   "cell_type": "code",
   "execution_count": null,
   "id": "455da480-c66a-4190-a677-af1dd6186ca2",
   "metadata": {},
   "outputs": [],
   "source": [
    "import pandas as pd\n",
    "import numpy as np"
   ]
  },
  {
   "cell_type": "code",
   "execution_count": null,
   "id": "350e48f3-fd34-4bc5-aa3a-aa9f2c7a51e5",
   "metadata": {},
   "outputs": [],
   "source": [
    "# Creamos un DataFrame de prueba con valores nulos (np.nan)\n",
    "df = pd.DataFrame(\n",
    "       {\"Dias en Inventario\": [np.nan, \"24\",\"10\" , \"14\", \"12\", \"10\", \"35\",np.nan,\"40\",np.nan],\n",
    "        \"Precio Promedio\": [\"23\", \"24\", \"18\", np.nan,\"46\", np.nan, \"35\",\"41\",\"15\",\"9\"],\n",
    "        \"Tipo de Inventario\": [\"A\", \"B\", \"C\",np.nan, \"C\", \"C\", \"A\",\"A\",\"B\",np.nan],\n",
    "        \"Revision Calidad\": [1, 1, np.nan, 1, 0, 0, 1, 1, 0, np.nan]})\n"
   ]
  },
  {
   "cell_type": "code",
   "execution_count": null,
   "id": "d4e2b3f9-b315-4695-b58c-edae23f5fd6d",
   "metadata": {},
   "outputs": [],
   "source": [
    "print(\"DataFrame original con nulos:\")\n",
    "print(df)"
   ]
  },
  {
   "cell_type": "code",
   "execution_count": null,
   "id": "f68abd7e-aa2a-4d19-8e0d-020f0f9c3570",
   "metadata": {},
   "outputs": [],
   "source": [
    "# Detectar nulos en todo el DataFrame (True si hay null, False si no)\n",
    "df.isnull()"
   ]
  },
  {
   "cell_type": "code",
   "execution_count": null,
   "id": "b244fac3-7e2a-426f-97d3-9c3ba9a215ef",
   "metadata": {},
   "outputs": [],
   "source": [
    "# Eliminar filas que contengan al menos un valor nulo\n",
    "df.dropna()"
   ]
  },
  {
   "cell_type": "code",
   "execution_count": null,
   "id": "e96c1077-5972-4418-8749-3df148dca3bf",
   "metadata": {},
   "outputs": [],
   "source": [
    "# Eliminar columnas que contengan al menos un valor nulo\n",
    "df.dropna(axis=1)"
   ]
  },
  {
   "cell_type": "code",
   "execution_count": null,
   "id": "95e191d4-715f-4f3d-88f1-b540fb1d6867",
   "metadata": {},
   "outputs": [],
   "source": [
    "# Eliminar filas que tengan menos de 3 valores no nulos\n",
    "df.dropna(thresh=3)"
   ]
  },
  {
   "cell_type": "code",
   "execution_count": null,
   "id": "2f41acaa-ae83-4c51-bb36-f782245db393",
   "metadata": {},
   "outputs": [],
   "source": [
    "# Eliminar columnas que tengan menos de 8 valores no nulos\n",
    "df.dropna(axis=1, thresh=8)"
   ]
  },
  {
   "cell_type": "code",
   "execution_count": null,
   "id": "9f93d84d-a942-4350-983b-7ca160921b6c",
   "metadata": {},
   "outputs": [],
   "source": [
    "# Eliminar filas donde haya nulos en columnas específicas\n",
    "df.dropna(subset=['Dias en Inventario', 'Revision Calidad'])"
   ]
  },
  {
   "cell_type": "code",
   "execution_count": null,
   "id": "96aa919d-535b-4100-8d1c-d76794287b68",
   "metadata": {},
   "outputs": [],
   "source": [
    "# Eliminar una columna concreta (ejemplo: \"Dias en Inventario\")\n",
    "df.drop(axis=1, columns='Dias en Inventario')"
   ]
  },
  {
   "cell_type": "markdown",
   "id": "c7a5fde0-0adb-458e-9569-4e496cd1e1bb",
   "metadata": {
    "jp-MarkdownHeadingCollapsed": true
   },
   "source": [
    "# 13.- Filtrar filas de un Dataframe, condición"
   ]
  },
  {
   "cell_type": "code",
   "execution_count": null,
   "id": "b096828c-2e1c-4495-9a04-738de535c510",
   "metadata": {},
   "outputs": [],
   "source": [
    "import pandas as pd"
   ]
  },
  {
   "cell_type": "code",
   "execution_count": null,
   "id": "473b33cc-9beb-456f-991d-1f2b38498823",
   "metadata": {},
   "outputs": [],
   "source": [
    "# Diccionario con los datos de ejemplo\n",
    "datos = {\n",
    "    'nombre': ['María', 'María', 'Carmen', 'Antonio'],   # Nombres de las personas\n",
    "    'edad': [18, 22, 20, 21],                            # Edad\n",
    "    'peso': [79, 70, 60, 75],                            # Peso en kg\n",
    "    'salario': [1000, 1700, 6000, 7005],                 # Salario en €\n",
    "    'grado': ['Economía', 'Medicina', 'Arquitectura', 'Economía'],  # Estudios\n",
    "    'correo': ['maria@gmail.com', 'luis@yahoo.es', 'carmen@gmail.com', 'antonio@gmail.com'] # Email\n",
    "}"
   ]
  },
  {
   "cell_type": "code",
   "execution_count": null,
   "id": "b7909a22-6545-4af9-9ca7-a4722f6d1884",
   "metadata": {},
   "outputs": [],
   "source": [
    "# Crear el DataFrame a partir del diccionario\n",
    "df = pd.DataFrame(datos)\n",
    "\n",
    "# Comparar la columna \"salario\" con el valor 2000\n",
    "# Devuelve True si el salario es mayor que 2000, False en caso contrario\n",
    "print(df['salario'] > 2000)"
   ]
  },
  {
   "cell_type": "markdown",
   "id": "fd8da87c-b582-4dcf-ae3f-4a725cd7b76f",
   "metadata": {
    "jp-MarkdownHeadingCollapsed": true
   },
   "source": [
    "# 14.- Filtrar los datos"
   ]
  },
  {
   "cell_type": "code",
   "execution_count": null,
   "id": "8006c9df-5cc5-4ffa-bd3e-d553314e4303",
   "metadata": {},
   "outputs": [],
   "source": [
    "filtro=df['salario'] > 2000\n",
    "df[filtro]"
   ]
  },
  {
   "cell_type": "code",
   "execution_count": null,
   "id": "f919a435-2063-4032-a811-4ae6e32d12fa",
   "metadata": {},
   "outputs": [],
   "source": [
    "filtro=(df['peso'] < 75) & (df['edad'] >=20)\n",
    "df[filtro]"
   ]
  },
  {
   "cell_type": "markdown",
   "id": "bef14bc9-3a67-4783-9aa6-8e6ceeb17696",
   "metadata": {
    "jp-MarkdownHeadingCollapsed": true
   },
   "source": [
    "# 15.- Resumen descriptivo de un DataFrame"
   ]
  },
  {
   "cell_type": "code",
   "execution_count": null,
   "id": "27783334-6990-413c-a409-0e30a38b8342",
   "metadata": {},
   "outputs": [],
   "source": [
    "# Contar valores NO nulos en cada columna\n",
    "print(df.count())\n",
    "print()"
   ]
  },
  {
   "cell_type": "code",
   "execution_count": null,
   "id": "4a7278ae-b980-4837-b50f-e7e773d0c6d8",
   "metadata": {},
   "outputs": [],
   "source": [
    "# Contar valores NO nulos en la columna \"nombre\"\n",
    "print(df.nombre.count())\n",
    "print()\n",
    "\n",
    "# Mostrar el valor máximo de cada columna\n",
    "print(df.max())\n",
    "\n",
    "print()\n",
    "\n",
    "# Mostrar el salario máximo\n",
    "print(df.salario.max())\n",
    "\n",
    "print()\n",
    "\n",
    "# Calcular la media de las columnas numéricas\n",
    "print(df.mean())\n",
    "\n",
    "print()\n",
    "\n",
    "# Calcular la media de la columna \"salario\"\n",
    "print(df.salario.mean())\n",
    "\n",
    "# Resumen estadístico de las columnas numéricas:\n",
    "# (conteo, media, desviación, min, percentiles, max)\n",
    "df.describe()"
   ]
  },
  {
   "cell_type": "markdown",
   "id": "766bd238-909d-4066-ad66-467bbc8347aa",
   "metadata": {
    "jp-MarkdownHeadingCollapsed": true
   },
   "source": [
    "# 16.- Creación de un DataFrame a partir de un fichero CSV"
   ]
  },
  {
   "cell_type": "code",
   "execution_count": null,
   "id": "307bd5f2-b371-4c26-ab3d-f2694ae9bb39",
   "metadata": {},
   "outputs": [],
   "source": [
    "df = pd.read_csv('https://raw.githubusercontent.com/asalber/manual-python/master/datos/colesterol.csv')"
   ]
  },
  {
   "cell_type": "code",
   "execution_count": null,
   "id": "48b07d03-7bfa-4218-8bcf-86cc23cc72dc",
   "metadata": {},
   "outputs": [],
   "source": [
    "df.head()"
   ]
  },
  {
   "cell_type": "markdown",
   "id": "8557b77a-5bb0-46fd-bd53-e1f831c7e0f1",
   "metadata": {
    "jp-MarkdownHeadingCollapsed": true
   },
   "source": [
    "# 16.- Creación de un DataFrame a partir de un fichero EXCEL"
   ]
  },
  {
   "cell_type": "code",
   "execution_count": null,
   "id": "0a659e24-3ef4-4601-b57c-5bedb22dfb33",
   "metadata": {},
   "outputs": [],
   "source": [
    "import pandas as pd"
   ]
  },
  {
   "cell_type": "code",
   "execution_count": null,
   "id": "5948e1f7-144f-4843-a1a8-8efc294fc88e",
   "metadata": {},
   "outputs": [],
   "source": [
    "# Leer un archivo Excel llamado \"cotizaciones.xlsx\"\n",
    "# engine='openpyxl' → librería usada para manejar archivos .xlsx\n",
    "# sheet_name='cotizacion' → hoja de Excel que queremos leer\n",
    "# header=0 → indica que la primera fila contiene los nombres de las columnas\n",
    "df = pd.read_excel('datasets/cotizaciones.xlsx', engine='openpyxl', sheet_name='cotizacion', header=0)"
   ]
  },
  {
   "cell_type": "code",
   "execution_count": null,
   "id": "e75f4e25-154f-4532-ae08-9bc8e1d6d35c",
   "metadata": {},
   "outputs": [],
   "source": [
    "# Mostrar las primeras filas del DataFrame\n",
    "print(df.head())"
   ]
  },
  {
   "cell_type": "markdown",
   "id": "60538fdb-5012-4d9f-b06f-74364e7dcaa9",
   "metadata": {
    "jp-MarkdownHeadingCollapsed": true
   },
   "source": [
    "# 17.- Selección condicional"
   ]
  },
  {
   "cell_type": "code",
   "execution_count": null,
   "id": "03d22a89-a5e8-443b-befc-c1fb96eb43de",
   "metadata": {},
   "outputs": [],
   "source": [
    "import pandas as pd"
   ]
  },
  {
   "cell_type": "code",
   "execution_count": null,
   "id": "c60dcb61-66cd-4ccb-965e-17b2cd0d4464",
   "metadata": {},
   "outputs": [],
   "source": [
    "# Creamos un DataFrame simple con datos de ejemplo\n",
    "datos = {\n",
    "    'Company': ['Apple', 'Microsoft', 'Toyota', 'Santander', 'Google'],\n",
    "    'Country': ['United States', 'United States', 'Japan', 'Spain', 'United States'],\n",
    "    'Revenue': [365000, 168000, 275000, 49000, 257000],  # en millones de dólares\n",
    "    'Employees': [154000, 181000, 360000, 190000, 135000]\n",
    "}\n",
    "df = pd.DataFrame(datos)\n",
    "\n",
    "print(\"Dataset original:\\n\")\n",
    "print(df)"
   ]
  },
  {
   "cell_type": "code",
   "execution_count": null,
   "id": "b5e67070-fd28-498a-8423-2acd32887aef",
   "metadata": {},
   "outputs": [],
   "source": [
    "# Filtro 1: seleccionar empresas de Estados Unidos\n",
    "print(\"\\nEmpresas de Estados Unidos:\\n\")\n",
    "print(df[df['Country'] == 'United States'])"
   ]
  },
  {
   "cell_type": "code",
   "execution_count": null,
   "id": "bad43fad-94b0-43f7-a451-dd7f559c4bdc",
   "metadata": {},
   "outputs": [],
   "source": [
    "# Filtro 2: usar variable para guardar la condición\n",
    "filtro = (df['Country'] == 'United States')\n",
    "print(\"\\nEmpresas de Estados Unidos (usando variable filtro):\\n\")\n",
    "print(df[filtro])"
   ]
  },
  {
   "cell_type": "code",
   "execution_count": null,
   "id": "0756d426-4c6e-4e2f-8d3d-b10acdc0874b",
   "metadata": {},
   "outputs": [],
   "source": [
    "# Filtro 3: empresas con más de 100000 millones de ingresos y más de 100000 empleados\n",
    "filtro1 = df['Revenue'] > 100000\n",
    "filtro2 = df['Employees'] > 100000\n",
    "print(\"\\nEmpresas con +100000 millones de ingresos y +100000 empleados:\\n\")\n",
    "print(df[filtro1 & filtro2])"
   ]
  },
  {
   "cell_type": "markdown",
   "id": "9dd8b71d-9473-49cf-9dd5-d5fa5a2d19c3",
   "metadata": {
    "jp-MarkdownHeadingCollapsed": true
   },
   "source": [
    "# 19.- Recorrer un DataFrame"
   ]
  },
  {
   "cell_type": "code",
   "execution_count": null,
   "id": "010f5d5d-dc93-4478-852b-f018402a2378",
   "metadata": {},
   "outputs": [],
   "source": [
    "import pandas as pd"
   ]
  },
  {
   "cell_type": "code",
   "execution_count": null,
   "id": "b679ec87-7633-454d-b525-fd5b6ff9a26e",
   "metadata": {},
   "outputs": [],
   "source": [
    "# Creamos un DataFrame de ejemplo parecido a \"tecno.csv\"\n",
    "datos = {\n",
    "    'Company': ['Apple', 'Google', 'Toyota'],\n",
    "    'City': ['Cupertino', 'Mountain View', 'Tokyo'],\n",
    "    'Revenue': [365000, 257000, 275000],   # en millones de dólares\n",
    "    'Employees': [154000, 135000, 360000]\n",
    "}\n",
    "\n",
    "# Usamos la columna \"Company\" como índice\n",
    "df = pd.DataFrame(datos).set_index('Company')\n",
    "\n",
    "print(\"DataFrame:\\n\")\n",
    "print(df, \"\\n\")"
   ]
  },
  {
   "cell_type": "code",
   "execution_count": null,
   "id": "dd41f94b-593b-4841-bcc2-bb59ceec4ee7",
   "metadata": {},
   "outputs": [],
   "source": [
    "# --- 1) Recorrer por número de fila con iloc ---\n",
    "print(\"Recorrer con iloc (por posición de fila):\\n\")\n",
    "for i in range(len(df)):\n",
    "    print(\"City=\", df.iloc[i]['City'], \n",
    "          \". Revenue=\", df.iloc[i]['Revenue'], \n",
    "          \". Employees=\", df.iloc[i]['Employees'])"
   ]
  },
  {
   "cell_type": "code",
   "execution_count": null,
   "id": "778ae6db-cfb1-4dcf-ad7e-c165a8694c5a",
   "metadata": {},
   "outputs": [],
   "source": [
    "# --- 2) Recorrer usando el índice del DataFrame ---\n",
    "print(\"\\nRecorrer con index (Company como índice):\\n\")\n",
    "print(\"Índices disponibles:\", df.index, \"\\n\")\n",
    "\n",
    "for i in df.index:  # cada i es el nombre de la empresa\n",
    "    print(\"Fila=\", i, \n",
    "          \"| Employees:\", df.loc[i, 'Employees'], \n",
    "          \"| City:\", df.loc[i, 'City'])"
   ]
  },
  {
   "cell_type": "code",
   "execution_count": null,
   "id": "512bf37b-5c87-4071-b04c-68ef517ddd92",
   "metadata": {},
   "outputs": [],
   "source": [
    "# --- 3) Recorrer celda por celda ---\n",
    "print(\"\\nRecorrer cada celda (fila x columna):\\n\")\n",
    "for i in df.index:        # recorrer filas\n",
    "    for j in df.loc[i].index:  # recorrer columnas dentro de cada fila\n",
    "        print(\"Fila=\", i, \"| Columna=\", j, \"| Valor=\", df.loc[i, j])\n",
    "    print()  # salto de línea entre filas"
   ]
  },
  {
   "cell_type": "markdown",
   "id": "5a9dd264-6211-4818-92d9-faf9d9208b11",
   "metadata": {
    "jp-MarkdownHeadingCollapsed": true
   },
   "source": [
    "# 19.- Asignar nuevos valores a una celda del DataFrame"
   ]
  },
  {
   "cell_type": "code",
   "execution_count": null,
   "id": "38b8b66c-372d-4581-92f8-8354e40d7c94",
   "metadata": {},
   "outputs": [],
   "source": [
    "import pandas as pd"
   ]
  },
  {
   "cell_type": "code",
   "execution_count": null,
   "id": "4b75d7bf-f481-4424-b118-1bd702cab518",
   "metadata": {},
   "outputs": [],
   "source": [
    "# Creamos un DataFrame de ejemplo\n",
    "df = pd.DataFrame({\n",
    "    'P': [1, 2, 3, 4],\n",
    "    'Q': [10, 20, 30, 40],\n",
    "    'R': [100, 200, 300, 400]\n",
    "})\n",
    "\n",
    "print(\"DataFrame original:\\n\", df, \"\\n\")"
   ]
  },
  {
   "cell_type": "code",
   "execution_count": null,
   "id": "7ea0ab4a-d956-4264-a33d-89408ec1ad12",
   "metadata": {},
   "outputs": [],
   "source": [
    "# 1) Cambiar el valor de una celda con at (índice 1, columna 'P')\n",
    "df.at[1, 'P'] = 10\n",
    "print(\"Cambiamos fila 1, col 'P' → 10:\\n\", df, \"\\n\")"
   ]
  },
  {
   "cell_type": "code",
   "execution_count": null,
   "id": "27972768-ddc2-4245-9dcf-8b83cc19a32c",
   "metadata": {},
   "outputs": [],
   "source": [
    "# 2) Cambiar el valor de una celda con loc (índice 1, columna 'Q')\n",
    "df.loc[1, 'Q'] = 50\n",
    "print(\"Cambiamos fila 1, col 'Q' → 50:\\n\", df, \"\\n\")"
   ]
  },
  {
   "cell_type": "code",
   "execution_count": null,
   "id": "8689f964-d8d9-491f-9853-a2868176c4b9",
   "metadata": {},
   "outputs": [],
   "source": [
    "# 3) Asignar un mismo valor a TODA la fila con índice 2\n",
    "df.loc[2] = 200\n",
    "print(\"Fila 2 completa → 200:\\n\", df, \"\\n\")"
   ]
  },
  {
   "cell_type": "code",
   "execution_count": null,
   "id": "82839f54-1e4d-4be5-afa6-a270dfd7d5f8",
   "metadata": {},
   "outputs": [],
   "source": [
    "# 4) Asignar un mismo valor a TODA la columna 'R'\n",
    "df.loc[:, 'R'] = 88\n",
    "print(\"Columna 'R' completa → 88:\\n\", df, \"\\n\")\n"
   ]
  },
  {
   "cell_type": "markdown",
   "id": "57cd7ced-babe-4592-98f8-a4f430f2f83f",
   "metadata": {
    "jp-MarkdownHeadingCollapsed": true
   },
   "source": [
    "# 20.- Unir DataFrames"
   ]
  },
  {
   "cell_type": "markdown",
   "id": "0b3412d9-b9b2-4897-b258-736d24f45d34",
   "metadata": {},
   "source": [
    "## Fusión de DataFrames (merge)"
   ]
  },
  {
   "cell_type": "markdown",
   "id": "13923163-7eaa-4d4f-9b3b-e00c9d6101da",
   "metadata": {},
   "source": [
    "### Ejemplo 1- Merge - coincidencias parciales"
   ]
  },
  {
   "cell_type": "code",
   "execution_count": null,
   "id": "a2946207-9a7b-4995-aae5-4aaae8460164",
   "metadata": {},
   "outputs": [],
   "source": [
    "import pandas as pd"
   ]
  },
  {
   "cell_type": "code",
   "execution_count": null,
   "id": "bee228b5-5528-4d3c-b627-191ce81f3cca",
   "metadata": {},
   "outputs": [],
   "source": [
    "# Creamos dos DataFrames con columnas en común (A, B)\n",
    "df1 = pd.DataFrame({'A': [1,2,3], 'B': [4,5,6], 'C':[7,8,9]})\n",
    "df2 = pd.DataFrame({'A': [1,2,4], 'B': [4,5,8], 'D':[10,11,12]})"
   ]
  },
  {
   "cell_type": "code",
   "execution_count": null,
   "id": "cb36b23e-52e2-4000-9a87-a94ce715df2f",
   "metadata": {},
   "outputs": [],
   "source": [
    "df1"
   ]
  },
  {
   "cell_type": "code",
   "execution_count": null,
   "id": "69581bc7-066b-4c2a-a7c6-3f7493a45a37",
   "metadata": {},
   "outputs": [],
   "source": [
    "df2"
   ]
  },
  {
   "cell_type": "code",
   "execution_count": null,
   "id": "26cdee27-5315-4918-ad10-89117a27b894",
   "metadata": {},
   "outputs": [],
   "source": [
    "# Fusión INNER → solo las filas que coinciden en A y B\n",
    "print(\"INNER (intersección):\\n\", pd.merge(df1, df2, how='inner'))\n",
    "\n",
    "# Fusión LEFT → todas las filas de df1 + coincidencias de df2\n",
    "print(\"\\nLEFT:\\n\", pd.merge(df1, df2, how='left'))\n",
    "\n",
    "# Fusión RIGHT → todas las filas de df2 + coincidencias de df1\n",
    "print(\"\\nRIGHT:\\n\", pd.merge(df1, df2, how='right'))\n",
    "\n",
    "# Fusión OUTER → unión completa de claves (rellena con NaN si no hay coincidencia)\n",
    "print(\"\\nOUTER:\\n\", pd.merge(df1, df2, how='outer'))"
   ]
  },
  {
   "cell_type": "markdown",
   "id": "6833c170-df81-464e-a363-ea5f1ba1d5ff",
   "metadata": {},
   "source": [
    "### Ejemplo 2- Merge - con cadenas de texto"
   ]
  },
  {
   "cell_type": "code",
   "execution_count": null,
   "id": "b0554bfd-ffda-44d4-8715-5c03376b15c6",
   "metadata": {},
   "outputs": [],
   "source": [
    "# DataFrames con texto en columna A\n",
    "df1 = pd.DataFrame({\n",
    "    'A': ['foo', 'bar', 'baz', 'foo'],\n",
    "    'B': [1, 2, 3, 5],\n",
    "    'C': [22, 55, 66, 77]\n",
    "})\n",
    "\n",
    "df2 = pd.DataFrame({\n",
    "    'A': ['foo', 'bar', 'baz', 'foo'],\n",
    "    'E': [1, 6, 7, 8],\n",
    "    'F': [12, 5225, 6226, 707]\n",
    "})"
   ]
  },
  {
   "cell_type": "code",
   "execution_count": null,
   "id": "99aa2962-302e-451b-a4a0-50e80b045b2d",
   "metadata": {},
   "outputs": [],
   "source": [
    "df1"
   ]
  },
  {
   "cell_type": "code",
   "execution_count": null,
   "id": "6d73ec36-8e0b-4a28-89ad-436e47cc7a6b",
   "metadata": {},
   "outputs": [],
   "source": [
    "df2"
   ]
  },
  {
   "cell_type": "code",
   "execution_count": null,
   "id": "a99dd227-f293-450b-bc7d-6e3c4fbaeaba",
   "metadata": {},
   "outputs": [],
   "source": [
    "# Fusión por columna \"A\" → une valores coincidentes de A\n",
    "print(\"\\nFusión por columna A:\\n\", pd.merge(df1, df2, on='A', how='inner'))"
   ]
  },
  {
   "cell_type": "markdown",
   "id": "fdb24677-18da-462f-9843-3d4f8ea1d982",
   "metadata": {
    "jp-MarkdownHeadingCollapsed": true
   },
   "source": [
    "## Concatenación de DataFrames (concat)"
   ]
  },
  {
   "cell_type": "code",
   "execution_count": null,
   "id": "bd1b08d4-b4d6-405c-806c-0e927f245743",
   "metadata": {},
   "outputs": [],
   "source": [
    "df1 = pd.DataFrame({'A': [1,2], 'B': [3,4]})\n",
    "df2 = pd.DataFrame({'A': [5,6], 'B': [7,8]})"
   ]
  },
  {
   "cell_type": "code",
   "execution_count": null,
   "id": "6aaf15b1-15a0-46b6-a321-b05f4ea658c0",
   "metadata": {},
   "outputs": [],
   "source": [
    "df1"
   ]
  },
  {
   "cell_type": "code",
   "execution_count": null,
   "id": "fa17a2d0-05c9-461e-9eb2-dc681d29695c",
   "metadata": {},
   "outputs": [],
   "source": [
    "df2"
   ]
  },
  {
   "cell_type": "code",
   "execution_count": null,
   "id": "1d7fc36c-0e11-4de6-a624-1aa2e658346c",
   "metadata": {},
   "outputs": [],
   "source": [
    "# Concatenar filas\n",
    "print(pd.concat([df1, df2], axis=0, ignore_index=True))"
   ]
  },
  {
   "cell_type": "code",
   "execution_count": null,
   "id": "cc603687-c2f4-427e-a462-6617c72a760d",
   "metadata": {},
   "outputs": [],
   "source": [
    "# Concatenar columnas\n",
    "print(pd.concat([df1, df2], axis=1))"
   ]
  },
  {
   "cell_type": "markdown",
   "id": "eaa6bf80-3083-4a33-977f-d226062466f7",
   "metadata": {
    "jp-MarkdownHeadingCollapsed": true
   },
   "source": [
    "# 21.- Tipos de datos de dataframe"
   ]
  },
  {
   "cell_type": "code",
   "execution_count": null,
   "id": "48c90058-bd36-4df1-a296-a311f8fbcc2d",
   "metadata": {},
   "outputs": [],
   "source": [
    "# Creamos un DataFrame con varios tipos de datos\n",
    "df = pd.DataFrame({\n",
    "    'float': [1.0],                              # número decimal\n",
    "    'int': [1],                                  # número entero\n",
    "    'datetime': [pd.Timestamp('20180310')],      # fecha\n",
    "    'string': ['foo']                            # texto\n",
    "})"
   ]
  },
  {
   "cell_type": "code",
   "execution_count": null,
   "id": "571cd9dd-63a4-4749-bbad-c85cf29538cf",
   "metadata": {},
   "outputs": [],
   "source": [
    "# Mostrar los tipos de cada columna\n",
    "print(\"\\nTipos de datos de cada columna:\\n\", df.dtypes)"
   ]
  },
  {
   "cell_type": "code",
   "execution_count": null,
   "id": "d60f7285-920f-498b-bfba-d343583517e3",
   "metadata": {},
   "outputs": [],
   "source": []
  }
 ],
 "metadata": {
  "kernelspec": {
   "display_name": "Python [conda env:base] *",
   "language": "python",
   "name": "conda-base-py"
  },
  "language_info": {
   "codemirror_mode": {
    "name": "ipython",
    "version": 3
   },
   "file_extension": ".py",
   "mimetype": "text/x-python",
   "name": "python",
   "nbconvert_exporter": "python",
   "pygments_lexer": "ipython3",
   "version": "3.13.5"
  }
 },
 "nbformat": 4,
 "nbformat_minor": 5
}
