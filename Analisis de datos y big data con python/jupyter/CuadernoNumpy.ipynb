{
 "cells": [
  {
   "cell_type": "markdown",
   "id": "3b165aea-6a4b-451e-b8e0-738a85f8a693",
   "metadata": {},
   "source": [
    "# 1.- Funciones útiles que permiten generar arrays "
   ]
  },
  {
   "cell_type": "code",
   "execution_count": 1,
   "id": "7d389978-23c7-4664-a09b-9159f8ba1f51",
   "metadata": {},
   "outputs": [],
   "source": [
    "import numpy as np"
   ]
  },
  {
   "cell_type": "code",
   "execution_count": 2,
   "id": "e309c48a-125e-44d5-a9d9-85e17cf0133c",
   "metadata": {},
   "outputs": [
    {
     "name": "stdout",
     "output_type": "stream",
     "text": [
      "Array desde lista: [1 2 3 4 5]\n"
     ]
    }
   ],
   "source": [
    "#  1. Crear un array a partir de una lista\n",
    "arr1 = np.array([1, 2, 3, 4, 5])\n",
    "print(\"Array desde lista:\", arr1)"
   ]
  },
  {
   "cell_type": "code",
   "execution_count": 3,
   "id": "1f45c757-fd5f-481b-a5da-9aedad4b9fca",
   "metadata": {},
   "outputs": [
    {
     "name": "stdout",
     "output_type": "stream",
     "text": [
      "\n",
      "Array de ceros (3x4):\n",
      " [[0. 0. 0. 0.]\n",
      " [0. 0. 0. 0.]\n",
      " [0. 0. 0. 0.]]\n"
     ]
    }
   ],
   "source": [
    "# 2. Array de ceros (3 filas x 4 columnas)\n",
    "arr2 = np.zeros((3, 4))\n",
    "print(\"\\nArray de ceros (3x4):\\n\", arr2)"
   ]
  },
  {
   "cell_type": "code",
   "execution_count": 4,
   "id": "6f19fa43-58ea-48b5-a7b5-f343c3e8d665",
   "metadata": {},
   "outputs": [
    {
     "name": "stdout",
     "output_type": "stream",
     "text": [
      "\n",
      "Array de unos (2x3):\n",
      " [[1. 1. 1.]\n",
      " [1. 1. 1.]]\n"
     ]
    }
   ],
   "source": [
    "# 3. Array de unos (2 filas x 3 columnas)\n",
    "arr3 = np.ones((2, 3))\n",
    "print(\"\\nArray de unos (2x3):\\n\", arr3)"
   ]
  },
  {
   "cell_type": "code",
   "execution_count": 5,
   "id": "0fc71dfd-13a6-4081-814c-b64fb688d635",
   "metadata": {},
   "outputs": [
    {
     "name": "stdout",
     "output_type": "stream",
     "text": [
      "\n",
      "Array lleno de 7:\n",
      " [[7 7]\n",
      " [7 7]]\n"
     ]
    }
   ],
   "source": [
    "# 4. Array lleno con un valor (7 en este caso)\n",
    "arr4 = np.full((2, 2), 7)\n",
    "print(\"\\nArray lleno de 7:\\n\", arr4)"
   ]
  },
  {
   "cell_type": "code",
   "execution_count": 6,
   "id": "5eab74e0-26ee-4668-9a5c-cd5983edd6fc",
   "metadata": {},
   "outputs": [
    {
     "name": "stdout",
     "output_type": "stream",
     "text": [
      "\n",
      "Array con arange (0 a 10, paso 2): [0 2 4 6 8]\n"
     ]
    }
   ],
   "source": [
    "# 5. Secuencia con np.arange (inicio=0, fin=10, paso=2)\n",
    "arr5 = np.arange(0, 10, 2)\n",
    "print(\"\\nArray con arange (0 a 10, paso 2):\", arr5)"
   ]
  },
  {
   "cell_type": "code",
   "execution_count": 7,
   "id": "b6d4b203-19c0-4a15-a11b-36eeffde3b67",
   "metadata": {},
   "outputs": [
    {
     "name": "stdout",
     "output_type": "stream",
     "text": [
      "\n",
      "Array con linspace (5 valores entre 0 y 1): [0.   0.25 0.5  0.75 1.  ]\n"
     ]
    }
   ],
   "source": [
    "# 6. Secuencia con np.linspace (5 valores entre 0 y 1)\n",
    "arr6 = np.linspace(0, 1, 5)\n",
    "print(\"\\nArray con linspace (5 valores entre 0 y 1):\", arr6)"
   ]
  },
  {
   "cell_type": "code",
   "execution_count": 8,
   "id": "d6ffa992-5d39-4229-bd30-a81eff6a9604",
   "metadata": {},
   "outputs": [
    {
     "name": "stdout",
     "output_type": "stream",
     "text": [
      "\n",
      "Enteros aleatorios entre 10 y 20: [18 19 18 18 13]\n"
     ]
    }
   ],
   "source": [
    "# 7. Números enteros aleatorios entre 10 y 20 (tamaño 5)\n",
    "arr7 = np.random.randint(10, 20, size=5)\n",
    "print(\"\\nEnteros aleatorios entre 10 y 20:\", arr7)"
   ]
  },
  {
   "cell_type": "code",
   "execution_count": 9,
   "id": "ff22e8ae-8401-4d14-a9c9-98e25d932ac5",
   "metadata": {},
   "outputs": [
    {
     "name": "stdout",
     "output_type": "stream",
     "text": [
      "\n",
      "Flotantes aleatorios entre 1.0 y 5.0: [4.34205962 3.95184825 1.2337937  1.51915657]\n"
     ]
    }
   ],
   "source": [
    "# 8. Números decimales aleatorios entre 1.0 y 5.0 (tamaño 4)\n",
    "arr8 = np.random.uniform(1.0, 5.0, size=4)\n",
    "print(\"\\nFlotantes aleatorios entre 1.0 y 5.0:\", arr8)"
   ]
  },
  {
   "cell_type": "markdown",
   "id": "09746396-02ed-405f-90db-61f0062511e6",
   "metadata": {},
   "source": [
    "# 2.-Información sobre el array creado"
   ]
  },
  {
   "cell_type": "code",
   "execution_count": 11,
   "id": "1a54d6f8-06a9-48a0-9402-e5f640e57d0e",
   "metadata": {},
   "outputs": [
    {
     "name": "stdout",
     "output_type": "stream",
     "text": [
      "Datos: [1 2 3 4 5]\n",
      "Dimensión: 1\n",
      "Tamaño total: 5\n",
      "Forma: (5,)\n",
      "Tipo de datos: int64\n"
     ]
    }
   ],
   "source": [
    "import numpy as np\n",
    "\n",
    "# Array unidimensional\n",
    "x = np.array([1, 2, 3, 4, 5])\n",
    "print(\"Datos:\", x)              # Los datos del array\n",
    "print(\"Dimensión:\", x.ndim)     # Nº de dimensiones (1 → vector)\n",
    "print(\"Tamaño total:\", x.size)  # Nº de elementos (5 en este caso)\n",
    "print(\"Forma:\", x.shape)        # (5,) → 1 fila con 5 elementos\n",
    "print(\"Tipo de datos:\", x.dtype) # Tipo de cada elemento (por defecto int64 o int32 según SO)"
   ]
  },
  {
   "cell_type": "code",
   "execution_count": 12,
   "id": "23eb112c-5d3b-4220-b5f9-c4bc6ed488ca",
   "metadata": {},
   "outputs": [
    {
     "name": "stdout",
     "output_type": "stream",
     "text": [
      "\n",
      "Datos:\n",
      " [[1 2 3 4]\n",
      " [5 6 7 8]]\n",
      "Dimensión: 2\n",
      "Tamaño total: 8\n",
      "Forma: (2, 4)\n",
      "Tipo de datos: int64\n"
     ]
    }
   ],
   "source": [
    "# Array bidimensional (matriz 2x4)\n",
    "x = np.array([[1, 2, 3, 4], \n",
    "              [5, 6, 7, 8]])\n",
    "print(\"\\nDatos:\\n\", x)\n",
    "print(\"Dimensión:\", x.ndim)     # Nº de dimensiones (2 → matriz)\n",
    "print(\"Tamaño total:\", x.size)  # Nº total de elementos (2x4 = 8)\n",
    "print(\"Forma:\", x.shape)        # (2, 4) → 2 filas y 4 columnas\n",
    "print(\"Tipo de datos:\", x.dtype)"
   ]
  },
  {
   "cell_type": "code",
   "execution_count": 13,
   "id": "fa9e737b-7901-48a8-9c58-722e57e3368d",
   "metadata": {},
   "outputs": [
    {
     "name": "stdout",
     "output_type": "stream",
     "text": [
      "\n",
      "Array original: [ 1  2  3  4  5  6  7  8  9 10 11 12]\n",
      "\n",
      "Reshape a (3,4):\n",
      " [[ 1  2  3  4]\n",
      " [ 5  6  7  8]\n",
      " [ 9 10 11 12]]\n",
      "\n",
      "Reshape a (6, -1):\n",
      " [[ 1  2]\n",
      " [ 3  4]\n",
      " [ 5  6]\n",
      " [ 7  8]\n",
      " [ 9 10]\n",
      " [11 12]]\n",
      "\n",
      "Reshape a (-1, 3):\n",
      " [[ 1  2  3]\n",
      " [ 4  5  6]\n",
      " [ 7  8  9]\n",
      " [10 11 12]]\n"
     ]
    }
   ],
   "source": [
    "# Cambiar la forma de un array con reshape\n",
    "a = np.array([1, 2, 3, 4, 5, 6, 7, 8, 9, 10, 11, 12])\n",
    "\n",
    "print(\"\\nArray original:\", a)\n",
    "\n",
    "# Convertir a una matriz de 3 filas y 4 columnas\n",
    "print(\"\\nReshape a (3,4):\\n\", np.reshape(a, (3, 4)))\n",
    "\n",
    "# Convertir a 6 filas y columnas automáticas (-1 → que NumPy calcule)\n",
    "print(\"\\nReshape a (6, -1):\\n\", np.reshape(a, (6, -1)))\n",
    "\n",
    "# Convertir a columnas fijas (=3) y filas automáticas\n",
    "print(\"\\nReshape a (-1, 3):\\n\", np.reshape(a, (-1, 3)))"
   ]
  },
  {
   "cell_type": "code",
   "execution_count": 14,
   "id": "ef0bd2df-d71c-4429-b392-db0741c7059c",
   "metadata": {},
   "outputs": [
    {
     "name": "stdout",
     "output_type": "stream",
     "text": [
      "\n",
      "ERROR con reshape (-1,5): cannot reshape array of size 12 into shape (5)\n"
     ]
    }
   ],
   "source": [
    "# Error: 12 elementos no se pueden repartir en columnas de 5\n",
    "try:\n",
    "    np.reshape(a, (-1, 5))\n",
    "except ValueError as e:\n",
    "    print(\"\\nERROR con reshape (-1,5):\", e)"
   ]
  },
  {
   "cell_type": "markdown",
   "id": "37271ac6-6770-47d6-b27c-096181c1311d",
   "metadata": {},
   "source": [
    "# 3.- Constantes predefinidas"
   ]
  },
  {
   "cell_type": "code",
   "execution_count": 15,
   "id": "d13942ad-bce3-467f-bc1d-e10a60c85eb3",
   "metadata": {},
   "outputs": [],
   "source": [
    "import numpy as np"
   ]
  },
  {
   "cell_type": "code",
   "execution_count": 17,
   "id": "76da0371-ff99-46a6-9cf9-73cdd7a48f2f",
   "metadata": {},
   "outputs": [
    {
     "name": "stdout",
     "output_type": "stream",
     "text": [
      "inf\n",
      "100000000.0\n"
     ]
    }
   ],
   "source": [
    "# Infinito positivo\n",
    "print(np.inf)        # Representa +∞\n",
    "print(10/0.0000001)  # Ejemplo: un número muy grande se aproxima a infinito"
   ]
  },
  {
   "cell_type": "code",
   "execution_count": 23,
   "id": "cc3fd436-d866-46f5-8bce-bab8438e5d37",
   "metadata": {},
   "outputs": [
    {
     "name": "stdout",
     "output_type": "stream",
     "text": [
      "nan\n",
      "0.0\n"
     ]
    }
   ],
   "source": [
    "# No es un número (NaN)\n",
    "print(np.nan)        # Resultado indefinido\n",
    "print(0/np.inf)      # Ejemplo: 0 dividido entre infinito → NaN"
   ]
  },
  {
   "cell_type": "code",
   "execution_count": 20,
   "id": "4882bd7e-f2b5-499d-8d7a-827a56678470",
   "metadata": {},
   "outputs": [
    {
     "name": "stdout",
     "output_type": "stream",
     "text": [
      "2.718281828459045\n",
      "2.718281828459045\n"
     ]
    }
   ],
   "source": [
    "# Constante e (≈2.718)\n",
    "print(np.e)          # Base de logaritmos naturales\n",
    "print(np.exp(1))     # exp(1) = e^1 = e\n"
   ]
  },
  {
   "cell_type": "code",
   "execution_count": 21,
   "id": "36e8e369-f36e-4649-be21-f04810bc630a",
   "metadata": {},
   "outputs": [
    {
     "name": "stdout",
     "output_type": "stream",
     "text": [
      "3.141592653589793\n",
      "31.41592653589793\n"
     ]
    }
   ],
   "source": [
    "# Constante pi (≈3.1416)\n",
    "print(np.pi)         # Relación circunferencia/diámetro\n",
    "print(2 * np.pi * 5) # Longitud de circunferencia de radio 5"
   ]
  },
  {
   "cell_type": "markdown",
   "id": "a110ea80-fec4-4bd0-94e7-6072739c2185",
   "metadata": {},
   "source": [
    "# 4.- Funciones predefinidas para la creación de arrays"
   ]
  },
  {
   "cell_type": "markdown",
   "id": "1a76167c-d72a-45f0-8648-7cf96d8e3585",
   "metadata": {},
   "source": [
    "## Arrays de ceros"
   ]
  },
  {
   "cell_type": "code",
   "execution_count": 24,
   "id": "07303e84-3274-49fb-869b-e0b7c9b7ee1f",
   "metadata": {},
   "outputs": [],
   "source": [
    "import numpy as np"
   ]
  },
  {
   "cell_type": "code",
   "execution_count": 25,
   "id": "403ed1fe-47de-4417-ab48-622b82078b5a",
   "metadata": {},
   "outputs": [
    {
     "name": "stdout",
     "output_type": "stream",
     "text": [
      "[[0. 0. 0. 0.]\n",
      " [0. 0. 0. 0.]\n",
      " [0. 0. 0. 0.]]\n"
     ]
    }
   ],
   "source": [
    "# ------------------------------\n",
    "# ARRAYS DE CEROS\n",
    "# ------------------------------\n",
    "print(np.zeros((3, 4)))         \n",
    "# Crea un array de 3 filas y 4 columnas con ceros (por defecto tipo float)"
   ]
  },
  {
   "cell_type": "code",
   "execution_count": 26,
   "id": "82460bf7-1be5-440f-9bcd-cf037d082356",
   "metadata": {},
   "outputs": [
    {
     "name": "stdout",
     "output_type": "stream",
     "text": [
      "[[0 0 0 0]\n",
      " [0 0 0 0]\n",
      " [0 0 0 0]]\n"
     ]
    }
   ],
   "source": [
    "print(np.zeros((3, 4), dtype=int))  \n",
    "# Lo mismo, pero especificando que sean enteros"
   ]
  },
  {
   "cell_type": "markdown",
   "id": "2cfd206d-8cd5-42c6-8038-86b7ffccf3cb",
   "metadata": {},
   "source": [
    "## Arrays de ceros con la forma de otro array"
   ]
  },
  {
   "cell_type": "code",
   "execution_count": 27,
   "id": "156de067-b263-4f8b-9d15-f89b3d177f9e",
   "metadata": {},
   "outputs": [
    {
     "name": "stdout",
     "output_type": "stream",
     "text": [
      "[[0 0 0]\n",
      " [0 0 0]]\n"
     ]
    }
   ],
   "source": [
    "# ------------------------------\n",
    "# ARRAYS DE CEROS CON LA FORMA DE OTRO ARRAY\n",
    "# ------------------------------\n",
    "M = np.array([[1, 2, 3], [4, 5, 6]])  \n",
    "print(np.zeros_like(M))       \n",
    "# Crea un array de ceros con la misma forma que M (2 filas, 3 columnas)"
   ]
  },
  {
   "cell_type": "markdown",
   "id": "2aa4db11-2d7f-4ce3-a666-310e7e54d7a5",
   "metadata": {},
   "source": [
    "## Arrays de unos"
   ]
  },
  {
   "cell_type": "code",
   "execution_count": 28,
   "id": "79b768c8-4ba7-4fbe-a330-7cad504f09ba",
   "metadata": {},
   "outputs": [
    {
     "name": "stdout",
     "output_type": "stream",
     "text": [
      "[[1. 1. 1. 1.]\n",
      " [1. 1. 1. 1.]\n",
      " [1. 1. 1. 1.]]\n"
     ]
    }
   ],
   "source": [
    "# ------------------------------\n",
    "# ARRAYS DE UNOS\n",
    "# ------------------------------\n",
    "print(np.ones((3, 4)))        \n",
    "# Array de 3 filas y 4 columnas relleno de unos\n",
    "# También existe np.ones_like(M)"
   ]
  },
  {
   "cell_type": "markdown",
   "id": "14408267-96fc-4500-adfe-567750f76cfc",
   "metadata": {},
   "source": [
    "## Arrays relleno con un valor"
   ]
  },
  {
   "cell_type": "code",
   "execution_count": 29,
   "id": "e697565e-d5e5-42e9-b581-0df8fc194bf3",
   "metadata": {},
   "outputs": [
    {
     "name": "stdout",
     "output_type": "stream",
     "text": [
      "[[7 7 7 7]\n",
      " [7 7 7 7]\n",
      " [7 7 7 7]]\n"
     ]
    }
   ],
   "source": [
    "# ------------------------------\n",
    "# ARRAY RELLENO CON UN VALOR\n",
    "# ------------------------------\n",
    "print(np.full((3, 4), 7))     \n",
    "# Crea un array 3x4 con todos sus elementos = 7\n",
    "# También existe np.full_like(M, 7)"
   ]
  },
  {
   "cell_type": "markdown",
   "id": "0dcee83f-e042-4d16-b2a2-88809614646e",
   "metadata": {},
   "source": [
    "## Matriz identidad"
   ]
  },
  {
   "cell_type": "code",
   "execution_count": 31,
   "id": "c6083492-e819-4b64-87a5-263c47b288a9",
   "metadata": {},
   "outputs": [
    {
     "name": "stdout",
     "output_type": "stream",
     "text": [
      "[[1. 0. 0. 0. 0.]\n",
      " [0. 1. 0. 0. 0.]\n",
      " [0. 0. 1. 0. 0.]\n",
      " [0. 0. 0. 1. 0.]\n",
      " [0. 0. 0. 0. 1.]]\n"
     ]
    }
   ],
   "source": [
    "# ------------------------------\n",
    "# MATRIZ IDENTIDAD\n",
    "# ------------------------------\n",
    "print(np.eye(5))              \n",
    "# Matriz identidad de 5x5 → unos en la diagonal principal y ceros en el resto"
   ]
  },
  {
   "cell_type": "markdown",
   "id": "529b0072-bb02-491c-a6fe-1737265d1ec1",
   "metadata": {},
   "source": [
    "## Matriz diagonal"
   ]
  },
  {
   "cell_type": "code",
   "execution_count": 32,
   "id": "32dba817-a784-4264-9892-be336d33bd6d",
   "metadata": {},
   "outputs": [
    {
     "name": "stdout",
     "output_type": "stream",
     "text": [
      "[[1 0 0 0]\n",
      " [0 4 0 0]\n",
      " [0 0 6 0]\n",
      " [0 0 0 9]]\n"
     ]
    }
   ],
   "source": [
    "# ------------------------------\n",
    "# MATRIZ DIAGONAL\n",
    "# ------------------------------\n",
    "print(np.diag([1, 4, 6, 9]))  \n",
    "# Crea una matriz cuadrada con los valores dados en la diagonal principal"
   ]
  },
  {
   "cell_type": "markdown",
   "id": "433e77d4-32f7-43d6-9e79-5f78c7557bf0",
   "metadata": {},
   "source": [
    "# 5.- Crear arrays con valores enteros equiespaciados, función Arange()"
   ]
  },
  {
   "cell_type": "code",
   "execution_count": 33,
   "id": "13c1c749-8518-41ca-89cc-f40a86f39409",
   "metadata": {},
   "outputs": [],
   "source": [
    "import numpy as np"
   ]
  },
  {
   "cell_type": "code",
   "execution_count": 34,
   "id": "eb64f765-ad12-4bd4-a8d8-930804a43eb7",
   "metadata": {},
   "outputs": [
    {
     "name": "stdout",
     "output_type": "stream",
     "text": [
      "[ 0  1  2  3  4  5  6  7  8  9 10 11 12 13 14 15 16 17 18 19 20]\n"
     ]
    }
   ],
   "source": [
    "print(np.arange(21))          \n",
    "# Array de 21 elementos: desde 0 hasta 20 (paso = 1 por defecto)"
   ]
  },
  {
   "cell_type": "code",
   "execution_count": 35,
   "id": "0aa431f6-9e7b-49d6-a130-59cb3e8984b4",
   "metadata": {},
   "outputs": [
    {
     "name": "stdout",
     "output_type": "stream",
     "text": [
      "[ 6  7  8  9 10 11 12 13 14 15 16 17 18 19 20 21 22 23 24 25 26 27 28 29\n",
      " 30 31 32 33 34 35 36 37 38 39 40 41 42 43 44 45 46 47 48 49 50 51 52 53\n",
      " 54 55 56 57 58 59]\n"
     ]
    }
   ],
   "source": [
    "print(np.arange(6, 60))       \n",
    "# Array desde 6 hasta 59 (60 no se incluye), paso = 1\n",
    "# Tiene 54 elementos"
   ]
  },
  {
   "cell_type": "code",
   "execution_count": 36,
   "id": "7aa66fa2-c0af-480f-b7ba-a2c5c0af19cc",
   "metadata": {},
   "outputs": [
    {
     "name": "stdout",
     "output_type": "stream",
     "text": [
      "[ 6  9 12 15 18 21 24 27 30 33 36 39 42 45 48 51 54 57]\n"
     ]
    }
   ],
   "source": [
    "print(np.arange(6, 60, 3))    \n",
    "# Array desde 6 hasta 57 (60 no se incluye), de 3 en 3\n",
    "# [6, 9, 12, ..., 57]"
   ]
  },
  {
   "cell_type": "code",
   "execution_count": 37,
   "id": "7fdf7194-e1b4-4e13-8489-d47873179a7d",
   "metadata": {},
   "outputs": [
    {
     "name": "stdout",
     "output_type": "stream",
     "text": [
      "[ 6.   6.3  6.6  6.9  7.2  7.5  7.8  8.1  8.4  8.7  9.   9.3  9.6  9.9\n",
      " 10.2 10.5 10.8 11.1 11.4 11.7 12.  12.3 12.6 12.9 13.2 13.5 13.8 14.1\n",
      " 14.4 14.7 15.  15.3 15.6 15.9 16.2 16.5 16.8 17.1 17.4 17.7 18.  18.3\n",
      " 18.6 18.9 19.2 19.5 19.8 20.1 20.4 20.7 21.  21.3 21.6 21.9 22.2 22.5\n",
      " 22.8 23.1 23.4 23.7 24.  24.3 24.6 24.9 25.2 25.5 25.8 26.1 26.4 26.7\n",
      " 27.  27.3 27.6 27.9 28.2 28.5 28.8 29.1 29.4 29.7 30.  30.3 30.6 30.9\n",
      " 31.2 31.5 31.8 32.1 32.4 32.7 33.  33.3 33.6 33.9 34.2 34.5 34.8 35.1\n",
      " 35.4 35.7 36.  36.3 36.6 36.9 37.2 37.5 37.8 38.1 38.4 38.7 39.  39.3\n",
      " 39.6 39.9 40.2 40.5 40.8 41.1 41.4 41.7 42.  42.3 42.6 42.9 43.2 43.5\n",
      " 43.8 44.1 44.4 44.7 45.  45.3 45.6 45.9 46.2 46.5 46.8 47.1 47.4 47.7\n",
      " 48.  48.3 48.6 48.9 49.2 49.5 49.8 50.1 50.4 50.7 51.  51.3 51.6 51.9\n",
      " 52.2 52.5 52.8 53.1 53.4 53.7 54.  54.3 54.6 54.9 55.2 55.5 55.8 56.1\n",
      " 56.4 56.7 57.  57.3 57.6 57.9 58.2 58.5 58.8 59.1 59.4 59.7]\n"
     ]
    }
   ],
   "source": [
    "print(np.arange(6, 60, 0.3))  \n",
    "# Array desde 6.0 hasta 59.7 (60 no se incluye), paso = 0.3 (decimal)"
   ]
  },
  {
   "cell_type": "markdown",
   "id": "d812ad01-33dd-401d-9867-58f0aeada91f",
   "metadata": {
    "jp-MarkdownHeadingCollapsed": true
   },
   "source": [
    "# 6.- Valores flotantes equiespaciados"
   ]
  },
  {
   "cell_type": "code",
   "execution_count": 38,
   "id": "85d0acf5-4c08-478d-96be-89857dc7d1f5",
   "metadata": {},
   "outputs": [],
   "source": [
    "import numpy as np"
   ]
  },
  {
   "cell_type": "code",
   "execution_count": 39,
   "id": "9555e3cd-f876-469b-b7cd-b4164ff22717",
   "metadata": {},
   "outputs": [
    {
     "name": "stdout",
     "output_type": "stream",
     "text": [
      "[ 6.          7.10204082  8.20408163  9.30612245 10.40816327 11.51020408\n",
      " 12.6122449  13.71428571 14.81632653 15.91836735 17.02040816 18.12244898\n",
      " 19.2244898  20.32653061 21.42857143 22.53061224 23.63265306 24.73469388\n",
      " 25.83673469 26.93877551 28.04081633 29.14285714 30.24489796 31.34693878\n",
      " 32.44897959 33.55102041 34.65306122 35.75510204 36.85714286 37.95918367\n",
      " 39.06122449 40.16326531 41.26530612 42.36734694 43.46938776 44.57142857\n",
      " 45.67346939 46.7755102  47.87755102 48.97959184 50.08163265 51.18367347\n",
      " 52.28571429 53.3877551  54.48979592 55.59183673 56.69387755 57.79591837\n",
      " 58.89795918 60.        ]\n"
     ]
    }
   ],
   "source": [
    "print(np.linspace(6, 60))  \n",
    "# Por defecto genera 50 valores entre 6 y 60 (ambos incluidos)"
   ]
  },
  {
   "cell_type": "code",
   "execution_count": 40,
   "id": "c7fa9e2f-7341-44de-a43c-33cac2dceb61",
   "metadata": {},
   "outputs": [
    {
     "name": "stdout",
     "output_type": "stream",
     "text": [
      "[ 6.          8.84210526 11.68421053 14.52631579 17.36842105 20.21052632\n",
      " 23.05263158 25.89473684 28.73684211 31.57894737 34.42105263 37.26315789\n",
      " 40.10526316 42.94736842 45.78947368 48.63157895 51.47368421 54.31578947\n",
      " 57.15789474 60.        ]\n"
     ]
    }
   ],
   "source": [
    "print(np.linspace(6, 60, 20))  \n",
    "# Genera 20 valores equidistantes entre 6 y 60 (ambos incluidos)"
   ]
  },
  {
   "cell_type": "code",
   "execution_count": 41,
   "id": "b00330f8-7a33-44ac-a984-c9d15046742e",
   "metadata": {},
   "outputs": [
    {
     "name": "stdout",
     "output_type": "stream",
     "text": [
      "[ 6.   8.7 11.4 14.1 16.8 19.5 22.2 24.9 27.6 30.3 33.  35.7 38.4 41.1\n",
      " 43.8 46.5 49.2 51.9 54.6 57.3]\n"
     ]
    }
   ],
   "source": [
    "print(np.linspace(6, 60, 20, endpoint=False))  \n",
    "# Genera 20 valores entre 6 y 60 (pero 60 no se incluye, intervalo abierto)"
   ]
  },
  {
   "cell_type": "markdown",
   "id": "750dcfe1-89f6-4c00-86ad-3dc16daca16b",
   "metadata": {},
   "source": [
    "# 7.- Valores aleatorios enteros"
   ]
  },
  {
   "cell_type": "code",
   "execution_count": 42,
   "id": "6f10b69a-9a66-4809-adff-43905c743c9a",
   "metadata": {},
   "outputs": [],
   "source": [
    "import numpy as np"
   ]
  },
  {
   "cell_type": "code",
   "execution_count": 43,
   "id": "c761eca4-357a-4159-8e2f-72c8f22cfd80",
   "metadata": {},
   "outputs": [
    {
     "name": "stdout",
     "output_type": "stream",
     "text": [
      "26\n"
     ]
    }
   ],
   "source": [
    "# ------------------------------\n",
    "# VALORES ALEATORIOS ENTEROS\n",
    "# ------------------------------\n",
    "print(np.random.randint(3, 30))  \n",
    "# Un número aleatorio entero entre 3 y 30 (30 no incluido)"
   ]
  },
  {
   "cell_type": "code",
   "execution_count": 44,
   "id": "6cd41db3-3813-4675-8762-b76385dbac29",
   "metadata": {},
   "outputs": [
    {
     "name": "stdout",
     "output_type": "stream",
     "text": [
      "[16 28 27  3  9 14 17  6 24]\n"
     ]
    }
   ],
   "source": [
    "print(np.random.randint(3, 30, size=9))  \n",
    "# Array de 9 enteros aleatorios entre 3 y 30"
   ]
  },
  {
   "cell_type": "code",
   "execution_count": 45,
   "id": "afbb2024-8f76-4471-baba-82852fb70ce6",
   "metadata": {},
   "outputs": [
    {
     "name": "stdout",
     "output_type": "stream",
     "text": [
      "[[14 13 18]\n",
      " [14 24 13]\n",
      " [17 29 12]]\n"
     ]
    }
   ],
   "source": [
    "print(np.random.randint(3, 30, size=(3, 3)))  \n",
    "# Matriz 3x3 de enteros aleatorios entre 3 y 30"
   ]
  },
  {
   "cell_type": "markdown",
   "id": "2c269230-3bfc-44c3-aa49-fcbbdf4d80f8",
   "metadata": {
    "jp-MarkdownHeadingCollapsed": true
   },
   "source": [
    "# 8.- Valores aleatorios flotantes"
   ]
  },
  {
   "cell_type": "code",
   "execution_count": 46,
   "id": "d8239600-f10d-473f-93df-232206672275",
   "metadata": {},
   "outputs": [
    {
     "name": "stdout",
     "output_type": "stream",
     "text": [
      "[0.19074745 0.15394778 0.76996521 0.87424196 0.02706739 0.73182749\n",
      " 0.7290455  0.41888202 0.05091323]\n"
     ]
    }
   ],
   "source": [
    "# ------------------------------\n",
    "# VALORES ALEATORIOS FLOTANTES\n",
    "# ------------------------------\n",
    "print(np.random.random(9))  \n",
    "# Array de 9 valores aleatorios flotantes entre 0 y 1"
   ]
  },
  {
   "cell_type": "code",
   "execution_count": 47,
   "id": "092f392a-ee16-4075-9756-845ba3c67a0a",
   "metadata": {},
   "outputs": [
    {
     "name": "stdout",
     "output_type": "stream",
     "text": [
      "[39.54091784 84.86872628 84.7322401  30.10315742 58.39611915 78.74346822\n",
      " 20.01346495 51.09861332 32.89437237]\n"
     ]
    }
   ],
   "source": [
    "print(np.random.uniform(1, 100, size=9))  \n",
    "# Array de 9 valores aleatorios flotantes entre 1 y 100"
   ]
  },
  {
   "cell_type": "markdown",
   "id": "40a40172-b5fb-4bb6-9c67-885f2462a8d1",
   "metadata": {
    "jp-MarkdownHeadingCollapsed": true
   },
   "source": [
    "# 9.- Distribución normal"
   ]
  },
  {
   "cell_type": "code",
   "execution_count": 48,
   "id": "c42665f8-79ec-47a2-819e-c53105f61cb8",
   "metadata": {},
   "outputs": [],
   "source": [
    "# ------------------------------\n",
    "# DISTRIBUCIÓN NORMAL\n",
    "# ------------------------------\n",
    "# np.random.normal(media, desviación, tamaño)\n",
    "dist = np.random.normal(0, 5, size=1000)  \n",
    "# Genera 1000 valores distribuidos normalmente con media=0 y σ=5"
   ]
  },
  {
   "cell_type": "code",
   "execution_count": 50,
   "id": "0381870d-f7fa-4ea6-bfac-bba733812a39",
   "metadata": {},
   "outputs": [
    {
     "name": "stdout",
     "output_type": "stream",
     "text": [
      "[ 3.63560326  5.47795631  0.88963573  0.17405961 -5.69743895 -7.05719338\n",
      " -2.92995831 -2.39647511 -1.03187249 -2.7675292 ]\n"
     ]
    }
   ],
   "source": [
    "print(dist[:10])       # Muestra los 10 primeros valores"
   ]
  },
  {
   "cell_type": "code",
   "execution_count": 51,
   "id": "2975f4f4-c015-4c23-811d-13f8df5d4347",
   "metadata": {},
   "outputs": [
    {
     "name": "stdout",
     "output_type": "stream",
     "text": [
      "0.253821960183131\n"
     ]
    }
   ],
   "source": [
    "print(dist.mean())     # Media aproximada (cercana a 0)"
   ]
  },
  {
   "cell_type": "code",
   "execution_count": 52,
   "id": "ac044d32-bc66-481d-994a-551b509d3858",
   "metadata": {},
   "outputs": [
    {
     "name": "stdout",
     "output_type": "stream",
     "text": [
      "4.695731866363901\n"
     ]
    }
   ],
   "source": [
    "print(dist.std())      # Desviación estándar aproximada (cercana a 5)"
   ]
  },
  {
   "cell_type": "markdown",
   "id": "f6e9d889-5a28-4c7e-98e8-e2d6ffb05a4b",
   "metadata": {},
   "source": [
    "# 10.- Manipulando arrays Numpys "
   ]
  },
  {
   "cell_type": "markdown",
   "id": "22a77fb4-557d-4858-928b-5094f7d6d77c",
   "metadata": {},
   "source": [
    "## Arrays de 1 dimensión (vectores)"
   ]
  },
  {
   "cell_type": "code",
   "execution_count": 53,
   "id": "7ba60d58-ce5b-42f5-b876-589ceb514742",
   "metadata": {},
   "outputs": [],
   "source": [
    "import numpy as np"
   ]
  },
  {
   "cell_type": "code",
   "execution_count": 54,
   "id": "35f71e9c-af03-428e-acdb-ed9f70e0a856",
   "metadata": {},
   "outputs": [
    {
     "name": "stdout",
     "output_type": "stream",
     "text": [
      "10\n",
      "20\n",
      "40\n",
      "30\n"
     ]
    }
   ],
   "source": [
    "# ---------------------------------\n",
    "# 1D → ARRAYS DE UNA DIMENSIÓN\n",
    "# ---------------------------------\n",
    "v = np.array([10, 20, 30, 40])\n",
    "\n",
    "print(v[0])    # Primer elemento (índice 0) → 10\n",
    "print(v[1])    # Segundo elemento (índice 1) → 20\n",
    "print(v[-1])   # Último elemento (índice -1) → 40\n",
    "print(v[-2])   # Penúltimo elemento (índice -2) → 30"
   ]
  },
  {
   "cell_type": "markdown",
   "id": "d97cef15-0d0d-4f74-acbf-112a874a1737",
   "metadata": {},
   "source": [
    "## Arrays de 2 dimensiones (matrices)"
   ]
  },
  {
   "cell_type": "code",
   "execution_count": 55,
   "id": "517872d2-d113-416a-9aae-f8012eb726e9",
   "metadata": {},
   "outputs": [
    {
     "name": "stdout",
     "output_type": "stream",
     "text": [
      "1\n",
      "3\n",
      "5\n",
      "6\n"
     ]
    }
   ],
   "source": [
    "# ---------------------------------\n",
    "# 2D → ARRAYS DE DOS DIMENSIONES (MATRICES)\n",
    "# ---------------------------------\n",
    "m = np.array([[1, 2, 3], [4, 5, 6]])\n",
    "\n",
    "print(m[0, 0])  # Elemento fila 0, columna 0 → 1\n",
    "print(m[0, 2])  # Elemento fila 0, columna 2 → 3\n",
    "print(m[1, 1])  # Elemento fila 1, columna 1 → 5\n",
    "print(m[1, 2])  # Elemento fila 1, columna 2 → 6\n"
   ]
  },
  {
   "cell_type": "markdown",
   "id": "d60d027f-7118-45f8-a3a6-89d9031c22e4",
   "metadata": {},
   "source": [
    "## Arrays de 3 o más dimensiones"
   ]
  },
  {
   "cell_type": "code",
   "execution_count": 56,
   "id": "0a17d8d8-a66d-408f-a441-705a76f23987",
   "metadata": {},
   "outputs": [
    {
     "name": "stdout",
     "output_type": "stream",
     "text": [
      "1\n",
      "4\n",
      "6\n",
      "7\n"
     ]
    }
   ],
   "source": [
    "# ---------------------------------\n",
    "# 3D → ARRAYS DE TRES DIMENSIONES (CUBOS)\n",
    "# ---------------------------------\n",
    "cubo = np.array([\n",
    "    [[1, 2], [3, 4]],   # Primer bloque (profundidad 0)\n",
    "    [[5, 6], [7, 8]]    # Segundo bloque (profundidad 1)\n",
    "])\n",
    "\n",
    "print(cubo[0, 0, 0])  # Primer bloque, fila 0, col 0 → 1\n",
    "print(cubo[0, 1, 1])  # Primer bloque, fila 1, col 1 → 4\n",
    "print(cubo[1, 0, 1])  # Segundo bloque, fila 0, col 1 → 6\n",
    "print(cubo[1, 1, 0])  # Segundo bloque, fila 1, col 0 → 7"
   ]
  },
  {
   "cell_type": "markdown",
   "id": "9f646c19-f5d5-4340-be23-0272633b3264",
   "metadata": {},
   "source": [
    "# 11.-Acceder, borrar, y añadir a un array 1D"
   ]
  },
  {
   "cell_type": "code",
   "execution_count": 58,
   "id": "e66a56e5-a5dc-44f3-8d84-6ad21cf3e66b",
   "metadata": {},
   "outputs": [],
   "source": [
    "import numpy as np"
   ]
  },
  {
   "cell_type": "code",
   "execution_count": 59,
   "id": "267fe41a-c2e9-43c2-9e4b-454c7c83510a",
   "metadata": {},
   "outputs": [
    {
     "name": "stdout",
     "output_type": "stream",
     "text": [
      "Array original: [10 11 12 13 14 15]\n"
     ]
    }
   ],
   "source": [
    "# Creamos un array 1D\n",
    "datos = np.array([10, 11, 12, 13, 14, 15])\n",
    "print(\"Array original:\", datos)"
   ]
  },
  {
   "cell_type": "markdown",
   "id": "643fc469-5aef-4add-a5ed-71bd538920bf",
   "metadata": {},
   "source": [
    "## Acceder a elementos"
   ]
  },
  {
   "cell_type": "code",
   "execution_count": 60,
   "id": "53771f64-e038-4fbd-93b1-2cfa50adfa2c",
   "metadata": {},
   "outputs": [
    {
     "name": "stdout",
     "output_type": "stream",
     "text": [
      "10\n",
      "14\n",
      "[10 12 15]\n",
      "[10 11 12 13]\n",
      "[11 12 13]\n",
      "[13 14 15]\n",
      "[11 14]\n",
      "[10 12 14]\n",
      "[11 13 15]\n"
     ]
    }
   ],
   "source": [
    "print(datos[0])      # Primer elemento → 10\n",
    "print(datos[-2])     # Penúltimo elemento → 14\n",
    "print(datos[[0, 2, 5]])  # Varias posiciones → [10 12 15]\n",
    "\n",
    "print(datos[:4])     # Primeros 4 → [10 11 12 13]\n",
    "print(datos[1:-2])   # Del índice 1 al -2 → [11 12 13]\n",
    "print(datos[3:])     # Desde índice 3 hasta el final → [13 14 15]\n",
    "\n",
    "print(datos[1::3])   # Desde índice 1 de 3 en 3 → [11 14]\n",
    "print(datos[::2])    # De 2 en 2 → [10 12 14]\n",
    "print(datos[1::2])   # Desde 1 de 2 en 2 → [11 13 15]"
   ]
  },
  {
   "cell_type": "markdown",
   "id": "61f69a60-4e2b-49fd-81ab-efff1cfd5893",
   "metadata": {},
   "source": [
    "## Modificar elementos"
   ]
  },
  {
   "cell_type": "code",
   "execution_count": 61,
   "id": "f88677cb-e902-416c-a1a6-3fd4991e4122",
   "metadata": {},
   "outputs": [
    {
     "name": "stdout",
     "output_type": "stream",
     "text": [
      "Array modificado: [100  11  12  26  14  15]\n"
     ]
    }
   ],
   "source": [
    "datos[0] = 100              # Reemplaza el primer valor\n",
    "datos[3] = datos[5] + datos[1]  # Usa otros valores para calcular\n",
    "print(\"Array modificado:\", datos)"
   ]
  },
  {
   "cell_type": "markdown",
   "id": "fb3171fe-f64e-4653-b7fe-05c0cc12839f",
   "metadata": {},
   "source": [
    "## Borrar elementos"
   ]
  },
  {
   "cell_type": "code",
   "execution_count": 62,
   "id": "bade4eee-0d9f-4b11-90b8-e7a64db15f92",
   "metadata": {},
   "outputs": [],
   "source": [
    "# Crear array de nuevo\n",
    "datos = np.array([10, 11, 12, 13, 14, 15])"
   ]
  },
  {
   "cell_type": "code",
   "execution_count": 63,
   "id": "5e8fb08d-a5ec-4b2c-af0e-7fa3602fef7a",
   "metadata": {},
   "outputs": [
    {
     "name": "stdout",
     "output_type": "stream",
     "text": [
      "Borrando índice 2: [10 11 13 14 15]\n"
     ]
    }
   ],
   "source": [
    "# Eliminar el elemento en la posición 2\n",
    "datos = np.delete(datos, 2)\n",
    "print(\"Borrando índice 2:\", datos)"
   ]
  },
  {
   "cell_type": "code",
   "execution_count": 64,
   "id": "ec47e3c3-9262-450a-b767-790c82660327",
   "metadata": {},
   "outputs": [
    {
     "name": "stdout",
     "output_type": "stream",
     "text": [
      "Borrando índices 1,3,4: [10 13]\n"
     ]
    }
   ],
   "source": [
    "# Eliminar varios elementos (posiciones 1, 3 y 4)\n",
    "datos = np.delete(datos, (1, 3, 4))\n",
    "print(\"Borrando índices 1,3,4:\", datos)"
   ]
  },
  {
   "cell_type": "markdown",
   "id": "8ef88644-b029-41f8-95b9-90874c169271",
   "metadata": {},
   "source": [
    "## Añadir elementos"
   ]
  },
  {
   "cell_type": "code",
   "execution_count": 65,
   "id": "d76a7ba6-de9c-4c63-a3d8-9996a6bc3374",
   "metadata": {},
   "outputs": [],
   "source": [
    "datos = np.array([10, 11, 12, 13, 14, 15])"
   ]
  },
  {
   "cell_type": "code",
   "execution_count": 66,
   "id": "85424102-5394-4236-9e45-8037efc14c3e",
   "metadata": {},
   "outputs": [
    {
     "name": "stdout",
     "output_type": "stream",
     "text": [
      "Con append: [10 11 12 13 14 15 16 17 18 40]\n"
     ]
    }
   ],
   "source": [
    "# Añadir con append\n",
    "datos = np.append(datos, [16, 17, 18])  # Agregar varios al final\n",
    "datos = np.append(datos, 40)            # Agregar un único valor\n",
    "print(\"Con append:\", datos)"
   ]
  },
  {
   "cell_type": "code",
   "execution_count": 67,
   "id": "72a89e37-c7a6-4883-9faf-7fd21c1b6b9d",
   "metadata": {},
   "outputs": [
    {
     "name": "stdout",
     "output_type": "stream",
     "text": [
      "Con insert: [ 10 101  11  12  13  14  15  16  88  17  18  40]\n"
     ]
    }
   ],
   "source": [
    "# Añadir con insert\n",
    "datos = np.insert(datos, 1, 101)  # Insertar en la posición 1\n",
    "datos = np.insert(datos, 8, 88)   # Insertar en la posición 8\n",
    "print(\"Con insert:\", datos)"
   ]
  },
  {
   "cell_type": "markdown",
   "id": "50e88896-be9d-4e27-a958-ff2542f9e6d4",
   "metadata": {},
   "source": [
    "## Recorrer un array"
   ]
  },
  {
   "cell_type": "code",
   "execution_count": 68,
   "id": "8c8f8931-d380-4b12-ab73-218e64e83811",
   "metadata": {},
   "outputs": [
    {
     "name": "stdout",
     "output_type": "stream",
     "text": [
      "Índice 0 → 10\n",
      "Índice 1 → 101\n",
      "Índice 2 → 11\n",
      "Índice 3 → 12\n",
      "Índice 4 → 13\n",
      "Índice 5 → 14\n",
      "Índice 6 → 15\n",
      "Índice 7 → 16\n",
      "Índice 8 → 88\n",
      "Índice 9 → 17\n",
      "Índice 10 → 18\n",
      "Índice 11 → 40\n"
     ]
    }
   ],
   "source": [
    "for i in range(len(datos)):\n",
    "    print(\"Índice\", i, \"→\", datos[i])"
   ]
  },
  {
   "cell_type": "markdown",
   "id": "287cc457-62aa-46c0-818c-3448c59bed3c",
   "metadata": {},
   "source": [
    "# 12.- Unir dos arrays y separarlos"
   ]
  },
  {
   "cell_type": "code",
   "execution_count": 70,
   "id": "1eb67f86-5447-4ebd-a80d-7efadb05194a",
   "metadata": {},
   "outputs": [],
   "source": [
    "import numpy as np"
   ]
  },
  {
   "cell_type": "code",
   "execution_count": 71,
   "id": "1be38360-3189-40b2-aa2b-85ee79377e96",
   "metadata": {},
   "outputs": [],
   "source": [
    "# Creamos dos arrays de ejemplo: alturas y pesos\n",
    "altura = np.array([1.74, 1.8, 1.78, 1.68, 1.78])\n",
    "peso   = np.array([81.4, 88.7, 87.3, 62.7, 81.6])"
   ]
  },
  {
   "cell_type": "code",
   "execution_count": 74,
   "id": "51eda7bb-484e-4422-b52e-2c571532c89c",
   "metadata": {},
   "outputs": [
    {
     "data": {
      "text/plain": [
       "array([1.74, 1.8 , 1.78, 1.68, 1.78])"
      ]
     },
     "execution_count": 74,
     "metadata": {},
     "output_type": "execute_result"
    }
   ],
   "source": [
    "altura"
   ]
  },
  {
   "cell_type": "code",
   "execution_count": 75,
   "id": "2bfc38d2-a92a-452a-bdc7-c15b2b3d4fb7",
   "metadata": {},
   "outputs": [
    {
     "data": {
      "text/plain": [
       "array([81.4, 88.7, 87.3, 62.7, 81.6])"
      ]
     },
     "execution_count": 75,
     "metadata": {},
     "output_type": "execute_result"
    }
   ],
   "source": [
    "peso"
   ]
  },
  {
   "cell_type": "markdown",
   "id": "daff3ab8-7890-4c57-b74b-fdf40cb3613b",
   "metadata": {},
   "source": [
    "## Unir arrays con np.stack()"
   ]
  },
  {
   "cell_type": "code",
   "execution_count": 72,
   "id": "88d3173b-7d92-46c7-9b3c-0298120990d3",
   "metadata": {},
   "outputs": [
    {
     "name": "stdout",
     "output_type": "stream",
     "text": [
      "[[ 1.74  1.8   1.78  1.68  1.78]\n",
      " [81.4  88.7  87.3  62.7  81.6 ]]\n"
     ]
    }
   ],
   "source": [
    "# Unir como filas (axis=0, por defecto)\n",
    "# Resultado: un array 2D donde altura está en la fila 0 y peso en la fila 1\n",
    "union1 = np.stack((altura, peso))\n",
    "print(union1)"
   ]
  },
  {
   "cell_type": "code",
   "execution_count": 73,
   "id": "4624f67c-ee4a-4eaf-b4ff-75f93a931c86",
   "metadata": {},
   "outputs": [
    {
     "name": "stdout",
     "output_type": "stream",
     "text": [
      "[[ 1.74 81.4 ]\n",
      " [ 1.8  88.7 ]\n",
      " [ 1.78 87.3 ]\n",
      " [ 1.68 62.7 ]\n",
      " [ 1.78 81.6 ]]\n"
     ]
    }
   ],
   "source": [
    "# Unir como columnas (axis=1)\n",
    "# Resultado: un array 2D donde cada fila es [altura, peso]\n",
    "union2 = np.stack((altura, peso), axis=1)\n",
    "print(union2)"
   ]
  },
  {
   "cell_type": "markdown",
   "id": "ef277ef9-f2a4-4046-b8fe-1e5d9056dfa2",
   "metadata": {},
   "source": [
    "## Unir arrays con np.concatenate()"
   ]
  },
  {
   "cell_type": "code",
   "execution_count": 76,
   "id": "c8f8f893-5ed6-480a-bfa1-807c622a845b",
   "metadata": {},
   "outputs": [
    {
     "name": "stdout",
     "output_type": "stream",
     "text": [
      "[ 1.74  1.8   1.78  1.68  1.78 81.4  88.7  87.3  62.7  81.6 ]\n"
     ]
    }
   ],
   "source": [
    "# Concatena los dos arrays en una sola dimensión (1D)\n",
    "concatenar = np.concatenate((altura, peso))\n",
    "print(concatenar)"
   ]
  },
  {
   "cell_type": "markdown",
   "id": "07fe0464-c712-46f6-acfe-7014db14b3ad",
   "metadata": {},
   "source": [
    "## Separar arrays con np.split()"
   ]
  },
  {
   "cell_type": "code",
   "execution_count": 77,
   "id": "9c53d1ca-adf1-4845-aa12-c9656df96ea9",
   "metadata": {},
   "outputs": [
    {
     "name": "stdout",
     "output_type": "stream",
     "text": [
      "[array([[1.74, 1.8 , 1.78, 1.68, 1.78]]), array([[81.4, 88.7, 87.3, 62.7, 81.6]])]\n"
     ]
    }
   ],
   "source": [
    "# Dividir union1 en 2 arrays (altura y peso por separado)\n",
    "separados1 = np.split(union1, 2)\n",
    "print(separados1)"
   ]
  },
  {
   "cell_type": "code",
   "execution_count": 78,
   "id": "74072c49-eb1c-404c-ba2c-0f72c6ea257c",
   "metadata": {},
   "outputs": [
    {
     "name": "stdout",
     "output_type": "stream",
     "text": [
      "[array([[ 1.74, 81.4 ]]), array([[ 1.8, 88.7]]), array([[ 1.78, 87.3 ]]), array([[ 1.68, 62.7 ]]), array([[ 1.78, 81.6 ]])]\n"
     ]
    }
   ],
   "source": [
    "# Dividir union2 en 5 arrays (cada persona con altura y peso)\n",
    "separados2 = np.split(union2, 5)\n",
    "print(separados2)"
   ]
  },
  {
   "cell_type": "markdown",
   "id": "7796b6d2-96a1-493d-ba6f-ed7978bc6601",
   "metadata": {},
   "source": [
    "# 13.- Acceso y manipulación de arrays 2D"
   ]
  },
  {
   "cell_type": "markdown",
   "id": "7b634a39-2ec5-4cde-a32d-136329871934",
   "metadata": {},
   "source": [
    "## Crear y acceder a elementos"
   ]
  },
  {
   "cell_type": "code",
   "execution_count": 82,
   "id": "39865347-d3d6-4e97-9a8c-84e816cdca76",
   "metadata": {},
   "outputs": [],
   "source": [
    "import numpy as np"
   ]
  },
  {
   "cell_type": "code",
   "execution_count": 83,
   "id": "09bee78b-1928-454f-bd2c-3fe63dd6b30b",
   "metadata": {},
   "outputs": [
    {
     "name": "stdout",
     "output_type": "stream",
     "text": [
      "[[10 11 12 13]\n",
      " [14 15 16 17]\n",
      " [18 19 20 21]]\n"
     ]
    }
   ],
   "source": [
    "# Crear un array 2D de 3x4 con valores del 10 al 21\n",
    "datos = np.arange(10, 22).reshape(3, 4)\n",
    "print(datos)"
   ]
  },
  {
   "cell_type": "code",
   "execution_count": 84,
   "id": "ec138faf-9b0c-4063-8be7-b83b69af2003",
   "metadata": {},
   "outputs": [
    {
     "name": "stdout",
     "output_type": "stream",
     "text": [
      "11\n"
     ]
    }
   ],
   "source": [
    "# Acceder a un elemento (fila 0, columna 1 → valor 11)\n",
    "print(datos[0, 1])"
   ]
  },
  {
   "cell_type": "code",
   "execution_count": 85,
   "id": "7d5d096d-3dab-4efb-a022-8ab96f1f7096",
   "metadata": {},
   "outputs": [
    {
     "name": "stdout",
     "output_type": "stream",
     "text": [
      "21\n"
     ]
    }
   ],
   "source": [
    "# Acceder al último elemento\n",
    "print(datos[-1, -1])"
   ]
  },
  {
   "cell_type": "code",
   "execution_count": 86,
   "id": "4dc6e98c-4be4-4256-9d7a-7645426286f3",
   "metadata": {},
   "outputs": [
    {
     "name": "stdout",
     "output_type": "stream",
     "text": [
      "[10 11 12 13]\n"
     ]
    }
   ],
   "source": [
    "# Acceder a una fila completa (fila 0)\n",
    "print(datos[0, :])"
   ]
  },
  {
   "cell_type": "code",
   "execution_count": 87,
   "id": "de431fc0-f621-4922-ad4b-d4c1d84566be",
   "metadata": {},
   "outputs": [
    {
     "name": "stdout",
     "output_type": "stream",
     "text": [
      "[11 15 19]\n"
     ]
    }
   ],
   "source": [
    "# Acceder a una columna completa (columna 1)\n",
    "print(datos[:, 1])"
   ]
  },
  {
   "cell_type": "markdown",
   "id": "da8ae28e-6414-4bc2-84be-8b88bb1ba9c0",
   "metadata": {},
   "source": [
    "## Recorrer un array 2D"
   ]
  },
  {
   "cell_type": "code",
   "execution_count": 88,
   "id": "e93d0d4d-e83a-4813-9f59-b67b6805472d",
   "metadata": {},
   "outputs": [
    {
     "name": "stdout",
     "output_type": "stream",
     "text": [
      "Fila 0 Columna 0 = 10\n",
      "Fila 0 Columna 1 = 11\n",
      "Fila 0 Columna 2 = 12\n",
      "Fila 0 Columna 3 = 13\n",
      "Fila 1 Columna 0 = 14\n",
      "Fila 1 Columna 1 = 15\n",
      "Fila 1 Columna 2 = 16\n",
      "Fila 1 Columna 3 = 17\n",
      "Fila 2 Columna 0 = 18\n",
      "Fila 2 Columna 1 = 19\n",
      "Fila 2 Columna 2 = 20\n",
      "Fila 2 Columna 3 = 21\n"
     ]
    }
   ],
   "source": [
    "# Recorremos todas las filas y columnas\n",
    "for i in range(len(datos)):\n",
    "    for j in range(len(datos[i])):\n",
    "        print(\"Fila\", i, \"Columna\", j, \"=\", datos[i][j])"
   ]
  },
  {
   "cell_type": "markdown",
   "id": "f51538d4-693c-4c1f-b0f9-654324ab5771",
   "metadata": {},
   "source": [
    "## Copiar y modificar datos"
   ]
  },
  {
   "cell_type": "code",
   "execution_count": 90,
   "id": "9a2c3d2e-dd46-4675-9d90-b61b234243aa",
   "metadata": {},
   "outputs": [],
   "source": [
    "# Copiar array\n",
    "copia = np.copy(datos)"
   ]
  },
  {
   "cell_type": "code",
   "execution_count": 91,
   "id": "67c036e5-19b9-4efb-a89f-4c3a3e2e831d",
   "metadata": {},
   "outputs": [
    {
     "name": "stdout",
     "output_type": "stream",
     "text": [
      "[[ 10  11  30  13]\n",
      " [ 55  66  77  88]\n",
      " [ 18  19 110  21]]\n"
     ]
    }
   ],
   "source": [
    "# Modificar una fila completa (fila 1)\n",
    "datos[1] = [55, 66, 77, 88]\n",
    "print(datos)"
   ]
  },
  {
   "cell_type": "code",
   "execution_count": 92,
   "id": "3c48f583-4008-4552-bc7e-70df83530c07",
   "metadata": {},
   "outputs": [
    {
     "name": "stdout",
     "output_type": "stream",
     "text": [
      "[[ 10  11  30  13]\n",
      " [ 55  66  70  88]\n",
      " [ 18  19 110  21]]\n"
     ]
    }
   ],
   "source": [
    "# Modificar una columna completa (columna 2)\n",
    "datos[:, 2] = [30, 70, 110]\n",
    "print(datos)"
   ]
  },
  {
   "cell_type": "markdown",
   "id": "5218bdc8-7c40-48c3-b4c8-cf90bb0a6969",
   "metadata": {},
   "source": [
    "# 14.- Borrar e insertar filas/columnas"
   ]
  },
  {
   "cell_type": "markdown",
   "id": "e98b34b1-8d39-4dde-94d0-399c6b754424",
   "metadata": {},
   "source": [
    "## Borrar filas/columnas"
   ]
  },
  {
   "cell_type": "code",
   "execution_count": 93,
   "id": "6b9254a4-53ca-410b-aab9-e20ec4aa66f4",
   "metadata": {},
   "outputs": [],
   "source": [
    "# Volvemos al array original\n",
    "datos = np.copy(copia)"
   ]
  },
  {
   "cell_type": "code",
   "execution_count": 94,
   "id": "720a0bff-657c-4199-94c9-f8434389cd20",
   "metadata": {},
   "outputs": [
    {
     "name": "stdout",
     "output_type": "stream",
     "text": [
      "[[ 10  11  30  13]\n",
      " [ 18  19 110  21]]\n"
     ]
    }
   ],
   "source": [
    "# Borrar la fila 1\n",
    "datos = np.delete(datos, 1, axis=0)\n",
    "print(datos)"
   ]
  },
  {
   "cell_type": "code",
   "execution_count": 95,
   "id": "daea674e-bdb2-45bc-87f6-d2f1fbc13294",
   "metadata": {},
   "outputs": [
    {
     "name": "stdout",
     "output_type": "stream",
     "text": [
      "[[ 10  30]\n",
      " [ 18 110]]\n"
     ]
    }
   ],
   "source": [
    "# Borrar las columnas 1 y 3\n",
    "datos = np.delete(datos, (1, 3), axis=1)\n",
    "print(datos)"
   ]
  },
  {
   "cell_type": "markdown",
   "id": "2c167fc1-770e-431c-a651-936890d94ace",
   "metadata": {},
   "source": [
    "## Insertar filas/columnas"
   ]
  },
  {
   "cell_type": "code",
   "execution_count": 96,
   "id": "55178eb9-0313-4a82-9a8a-131241d3037b",
   "metadata": {},
   "outputs": [
    {
     "name": "stdout",
     "output_type": "stream",
     "text": [
      "[[ 10  11  30  13]\n",
      " [ 55  66  70  88]\n",
      " [  3   3   3   3]\n",
      " [ 18  19 110  21]]\n"
     ]
    }
   ],
   "source": [
    "# Insertar una fila en la posición 2\n",
    "datos = np.copy(copia)\n",
    "datos = np.insert(datos, 2, [3, 3, 3, 3], axis=0)\n",
    "print(datos)"
   ]
  },
  {
   "cell_type": "code",
   "execution_count": 98,
   "id": "be3892a4-30a3-45f1-ba57-cd4b8e46467f",
   "metadata": {},
   "outputs": [
    {
     "name": "stdout",
     "output_type": "stream",
     "text": [
      "[[  9  10  11  30  13]\n",
      " [  9  55  66  70  88]\n",
      " [  9   3   3   3   3]\n",
      " [  9  18  19 110  21]]\n"
     ]
    }
   ],
   "source": [
    "# Insertar una columna en la posición 0\n",
    "datos = np.insert(datos, 0, [9, 9, 9, 9], axis=1)\n",
    "print(datos)"
   ]
  },
  {
   "cell_type": "markdown",
   "id": "0a31a8b5-d89a-450c-8235-878b7650a530",
   "metadata": {},
   "source": [
    "# 15.- Trasponer una matriz"
   ]
  },
  {
   "cell_type": "code",
   "execution_count": 100,
   "id": "85735624-8658-47f9-8e3b-de6fdd72093d",
   "metadata": {},
   "outputs": [
    {
     "name": "stdout",
     "output_type": "stream",
     "text": [
      "Original:\n",
      " [[1 2]\n",
      " [3 4]\n",
      " [5 6]]\n",
      "Traspuesta:\n",
      " [[1 3 5]\n",
      " [2 4 6]]\n"
     ]
    }
   ],
   "source": [
    "# La traspuesta intercambia filas ↔ columnas\n",
    "a = np.array([[1, 2], [3, 4], [5, 6]])\n",
    "print(\"Original:\\n\", a)\n",
    "print(\"Traspuesta:\\n\", a.T)\n"
   ]
  },
  {
   "cell_type": "markdown",
   "id": "65dd74f4-363c-43dc-a8da-70034757c41f",
   "metadata": {},
   "source": [
    "# 16.- Condiciones. Indexado booleano"
   ]
  },
  {
   "cell_type": "code",
   "execution_count": 101,
   "id": "2aed68d0-e104-44d2-9262-b30f9edfc787",
   "metadata": {},
   "outputs": [],
   "source": [
    "datos = np.array([[60, 47, 34], [43, 63, 37], [58, 28, 31]])"
   ]
  },
  {
   "cell_type": "code",
   "execution_count": 102,
   "id": "d015fad8-a79d-4440-a242-02f763eecb26",
   "metadata": {},
   "outputs": [
    {
     "name": "stdout",
     "output_type": "stream",
     "text": [
      "[[ True False False]\n",
      " [False  True False]\n",
      " [ True False False]]\n"
     ]
    }
   ],
   "source": [
    "# Ver qué elementos son mayores de 50\n",
    "print(datos > 50)"
   ]
  },
  {
   "cell_type": "code",
   "execution_count": 103,
   "id": "b4a51ac1-6c56-42ce-9a3a-18e31bd58e06",
   "metadata": {},
   "outputs": [
    {
     "name": "stdout",
     "output_type": "stream",
     "text": [
      "[60 63 58]\n"
     ]
    }
   ],
   "source": [
    "# Filtrar: mostrar solo los que son mayores de 50\n",
    "print(datos[datos > 50])"
   ]
  },
  {
   "cell_type": "code",
   "execution_count": 104,
   "id": "a8fde547-5085-4b26-a18a-0318e72d15a0",
   "metadata": {},
   "outputs": [
    {
     "name": "stdout",
     "output_type": "stream",
     "text": [
      "[[-1 47 34]\n",
      " [43 -1 37]\n",
      " [-1 28 31]]\n"
     ]
    }
   ],
   "source": [
    "# Modificar: poner -1 en todos los mayores de 50\n",
    "datos[datos > 50] = -1\n",
    "print(datos)"
   ]
  },
  {
   "cell_type": "markdown",
   "id": "b383a83e-7a9c-4eee-a2f2-d197d362c6d4",
   "metadata": {},
   "source": [
    "# 17.- Ordenar un array"
   ]
  },
  {
   "cell_type": "code",
   "execution_count": 105,
   "id": "316a2ab9-5a77-4804-9fbd-2bbd42c9ea1b",
   "metadata": {},
   "outputs": [],
   "source": [
    "import numpy as np"
   ]
  },
  {
   "cell_type": "code",
   "execution_count": 106,
   "id": "824b3d87-1fe0-4852-8b1d-cdd84fe7df56",
   "metadata": {},
   "outputs": [],
   "source": [
    "datos = np.array([[52, 23, 90],\n",
    "                  [61, 63, 74]])"
   ]
  },
  {
   "cell_type": "code",
   "execution_count": 107,
   "id": "23f9b422-4775-4ab9-bc95-7752d6e9f99e",
   "metadata": {},
   "outputs": [
    {
     "name": "stdout",
     "output_type": "stream",
     "text": [
      "[[23 52 90]\n",
      " [61 63 74]]\n"
     ]
    }
   ],
   "source": [
    "# Ordenar filas (cada fila de menor a mayor)\n",
    "print(np.sort(datos, axis=1))"
   ]
  },
  {
   "cell_type": "code",
   "execution_count": 108,
   "id": "7d2392eb-b975-4c88-94e6-4d0bee50d0b8",
   "metadata": {},
   "outputs": [
    {
     "name": "stdout",
     "output_type": "stream",
     "text": [
      "[[52 23 74]\n",
      " [61 63 90]]\n"
     ]
    }
   ],
   "source": [
    "# Ordenar columnas (cada columna de menor a mayor)\n",
    "print(np.sort(datos, axis=0))"
   ]
  },
  {
   "cell_type": "markdown",
   "id": "2373ca23-d106-47d8-ad01-52d1a6350d6e",
   "metadata": {},
   "source": [
    "# 18.- Operaciones aritméticas"
   ]
  },
  {
   "cell_type": "code",
   "execution_count": 110,
   "id": "6c4238e8-5c8c-4c58-8c72-2cf9f40f1fb2",
   "metadata": {},
   "outputs": [],
   "source": [
    "#Operaciones aritméticas\n",
    "a = np.array([[1, 2], [3, 4]])\n",
    "b = np.array([[5, 6], [7, 8]])"
   ]
  },
  {
   "cell_type": "code",
   "execution_count": 111,
   "id": "635b08be-653a-49d0-ae56-ac5422b20abb",
   "metadata": {},
   "outputs": [
    {
     "name": "stdout",
     "output_type": "stream",
     "text": [
      "[[ 6  8]\n",
      " [10 12]]\n"
     ]
    }
   ],
   "source": [
    "# Sumar\n",
    "print(a + b)"
   ]
  },
  {
   "cell_type": "code",
   "execution_count": 112,
   "id": "3b1ca850-c7c6-4dc6-9797-9222ae33507c",
   "metadata": {},
   "outputs": [
    {
     "name": "stdout",
     "output_type": "stream",
     "text": [
      "[[-4 -4]\n",
      " [-4 -4]]\n"
     ]
    }
   ],
   "source": [
    "# Restar\n",
    "print(a - b)"
   ]
  },
  {
   "cell_type": "code",
   "execution_count": 113,
   "id": "12e35be4-2f19-49c9-85f5-73d9b5f7f500",
   "metadata": {},
   "outputs": [
    {
     "name": "stdout",
     "output_type": "stream",
     "text": [
      "[[ 5 12]\n",
      " [21 32]]\n"
     ]
    }
   ],
   "source": [
    "# Multiplicar elemento a elemento\n",
    "print(a * b)"
   ]
  },
  {
   "cell_type": "code",
   "execution_count": 114,
   "id": "1753c711-a404-4fcb-b6cd-a5263f800044",
   "metadata": {},
   "outputs": [
    {
     "name": "stdout",
     "output_type": "stream",
     "text": [
      "[[0.2        0.33333333]\n",
      " [0.42857143 0.5       ]]\n"
     ]
    }
   ],
   "source": [
    "# Dividir\n",
    "print(a / b)"
   ]
  },
  {
   "cell_type": "code",
   "execution_count": 115,
   "id": "f03da226-2275-4fd4-9141-6ef9a5ff79e5",
   "metadata": {},
   "outputs": [
    {
     "name": "stdout",
     "output_type": "stream",
     "text": [
      "[[11 12]\n",
      " [13 14]]\n"
     ]
    }
   ],
   "source": [
    "# Sumar un número a todos los elementos\n",
    "print(a + 10)"
   ]
  },
  {
   "cell_type": "markdown",
   "id": "664e0bcc-ec0c-4c43-a49f-b38fda792eca",
   "metadata": {},
   "source": [
    "# 19.- Funciones estadísticas"
   ]
  },
  {
   "cell_type": "code",
   "execution_count": 116,
   "id": "ecf57b66-513f-4cf4-bc6a-34e4db9293b2",
   "metadata": {},
   "outputs": [],
   "source": [
    "import numpy as np"
   ]
  },
  {
   "cell_type": "code",
   "execution_count": 117,
   "id": "2eaa746c-78d7-4a05-b875-dd86ad2830ae",
   "metadata": {},
   "outputs": [],
   "source": [
    "datos = np.array([[1, 2],\n",
    "                  [3, 4],\n",
    "                  [5, 6]])"
   ]
  },
  {
   "cell_type": "code",
   "execution_count": 118,
   "id": "13419abe-c48c-4b18-9e6e-c34abf7b0488",
   "metadata": {},
   "outputs": [
    {
     "name": "stdout",
     "output_type": "stream",
     "text": [
      "Máximo: 6\n",
      "Mínimo: 1\n"
     ]
    }
   ],
   "source": [
    "# Máximo y mínimo\n",
    "print(\"Máximo:\", datos.max())   # 6\n",
    "print(\"Mínimo:\", datos.min())   # 1"
   ]
  },
  {
   "cell_type": "code",
   "execution_count": 119,
   "id": "0d88f57f-a12e-42c4-8698-a76cf6be350f",
   "metadata": {},
   "outputs": [
    {
     "name": "stdout",
     "output_type": "stream",
     "text": [
      "Suma: 21\n",
      "Media: 3.5\n"
     ]
    }
   ],
   "source": [
    "# Suma total y media\n",
    "print(\"Suma:\", datos.sum())     # 21\n",
    "print(\"Media:\", datos.mean())   # 3.5"
   ]
  },
  {
   "cell_type": "code",
   "execution_count": 120,
   "id": "97a82193-3816-496b-a699-569354510f39",
   "metadata": {},
   "outputs": [
    {
     "name": "stdout",
     "output_type": "stream",
     "text": [
      "Suma por filas: [ 3  7 11]\n",
      "Suma por columnas: [ 9 12]\n"
     ]
    }
   ],
   "source": [
    "# Operar por filas y columnas\n",
    "print(\"Suma por filas:\", datos.sum(axis=1))   # [ 3  7 11 ]\n",
    "print(\"Suma por columnas:\", datos.sum(axis=0))# [ 9 12 ]"
   ]
  },
  {
   "cell_type": "code",
   "execution_count": null,
   "id": "e86d5ef0-c05f-4135-8869-d10333c11506",
   "metadata": {},
   "outputs": [],
   "source": []
  }
 ],
 "metadata": {
  "kernelspec": {
   "display_name": "Python [conda env:base] *",
   "language": "python",
   "name": "conda-base-py"
  },
  "language_info": {
   "codemirror_mode": {
    "name": "ipython",
    "version": 3
   },
   "file_extension": ".py",
   "mimetype": "text/x-python",
   "name": "python",
   "nbconvert_exporter": "python",
   "pygments_lexer": "ipython3",
   "version": "3.13.5"
  }
 },
 "nbformat": 4,
 "nbformat_minor": 5
}
