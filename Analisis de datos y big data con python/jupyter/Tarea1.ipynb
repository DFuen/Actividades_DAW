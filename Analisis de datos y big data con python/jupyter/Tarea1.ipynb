{
 "cells": [
  {
   "cell_type": "code",
   "execution_count": 2,
   "id": "85a729bf-b36a-4d9f-bfaf-1e79435ae280",
   "metadata": {},
   "outputs": [],
   "source": [
    "import numpy as np"
   ]
  },
  {
   "cell_type": "markdown",
   "id": "d29f408d-0978-43c7-8d0b-87b3337eb195",
   "metadata": {},
   "source": [
    "### EJERCICIO 1"
   ]
  },
  {
   "cell_type": "code",
   "execution_count": 27,
   "id": "3dc26d35-b203-4653-a8cf-256594d64257",
   "metadata": {},
   "outputs": [
    {
     "name": "stdout",
     "output_type": "stream",
     "text": [
      "[0 1 2 3 4 5 6 7 8 9]\n"
     ]
    }
   ],
   "source": [
    "#Crea un array con los numeros del 0 al 9\n",
    "array09 = np.arange(10)#usamos np.arange para dar un rango de valor maximo empieza en 0 por ello le damos (10) como valor para añadir hasta el valor 9\n",
    "print(array09)"
   ]
  },
  {
   "cell_type": "code",
   "execution_count": 22,
   "id": "6bd93bca-8334-4997-8462-8285cdb7438d",
   "metadata": {},
   "outputs": [
    {
     "name": "stdout",
     "output_type": "stream",
     "text": [
      "[0. 0. 0. 0. 0.]\n",
      "[1. 1. 1. 1. 1.]\n"
     ]
    }
   ],
   "source": [
    "#Crea un array dde ceros de tamaño 5 y otro de unos de tamaño 5\n",
    "array5 = np.zeros(5)#usamos np.zero para dar valor \"0\" a cada elemento del array\n",
    "print(array5)\n",
    "array5 = np.ones(5)#usamos np.uno para dar valor \"1\" a cada elemento del array\n",
    "print(array5)"
   ]
  },
  {
   "cell_type": "code",
   "execution_count": 23,
   "id": "63b187c7-8e75-45f6-8cfa-4b6c670a8a21",
   "metadata": {},
   "outputs": [
    {
     "name": "stdout",
     "output_type": "stream",
     "text": [
      "[0.         0.05263158 0.10526316 0.15789474 0.21052632 0.26315789\n",
      " 0.31578947 0.36842105 0.42105263 0.47368421 0.52631579 0.57894737\n",
      " 0.63157895 0.68421053 0.73684211 0.78947368 0.84210526 0.89473684\n",
      " 0.94736842 1.        ]\n"
     ]
    }
   ],
   "source": [
    "#Crea un array con 20 valores entre 0 y 1 usando linspace\n",
    "array20 = np.linspace(0,1,20) #Usamos np.linspace para dar un valor entre dos valores (\"n valor inicio\",\"n valor final\",\"n de valores totales\")\n",
    "print(array20)"
   ]
  },
  {
   "cell_type": "markdown",
   "id": "e450d60a-95f7-4669-ba0f-59be18a96343",
   "metadata": {},
   "source": [
    "### EJERCICIO 2"
   ]
  },
  {
   "cell_type": "code",
   "execution_count": 32,
   "id": "02913430-12d3-4f15-b2de-682a5db247ab",
   "metadata": {},
   "outputs": [
    {
     "name": "stdout",
     "output_type": "stream",
     "text": [
      "ARRAY09\n",
      "(10,)\n",
      "1\n",
      "ARRAY5\n",
      "(5,)\n",
      "1\n",
      "ARRAY20\n",
      "(20,)\n",
      "1\n"
     ]
    }
   ],
   "source": [
    "#Para cada array creado en el ejercicio anterior, muestra: forma(shape), numero de dimensiones (ndim), tipo de dato (dtype)\n",
    "print(\"ARRAY09\")\n",
    "print(np.shape(array09))\n",
    "print(np.ndim(array09))\n",
    "print(\"ARRAY5\")\n",
    "print(np.shape(array5))\n",
    "print(np.ndim(array5))\n",
    "print(\"ARRAY20\")\n",
    "print(np.shape(array20))\n",
    "print(np.ndim(array20))"
   ]
  },
  {
   "cell_type": "markdown",
   "id": "f82dbbcd-6de6-460d-8cd4-4ddfa2f4fa04",
   "metadata": {},
   "source": [
    "### EJERCICIO 3"
   ]
  },
  {
   "cell_type": "code",
   "execution_count": 54,
   "id": "f29d9583-e8a2-4453-a281-3c87017db30a",
   "metadata": {},
   "outputs": [
    {
     "name": "stdout",
     "output_type": "stream",
     "text": [
      "ARRAY1\n",
      "[88, 23, 39, 41]\n",
      "ARRAY2\n",
      "[[76.4 21.7 38.4]\n",
      " [41.2 52.8 68.9]]\n",
      "ARRAY3\n",
      "[[12]\n",
      " [ 4]\n",
      " [ 9]\n",
      " [ 8]]\n"
     ]
    }
   ],
   "source": [
    "#Crea los siguientes arrays en NumPy\n",
    "array1 = [88,23,39,41]\n",
    "array2 = np.array([[76.4,21.7,38.4],[41.2,52.8,68.9]])\n",
    "array3 = np.array([[12],\n",
    "          [4],\n",
    "          [9],\n",
    "          [8]])\n",
    "print(\"ARRAY1\")\n",
    "print(array1)\n",
    "#print(np.array(array2).reshape(2,3))\n",
    "print(\"ARRAY2\")\n",
    "print(array2)\n",
    "print(\"ARRAY3\")\n",
    "print(array3)"
   ]
  },
  {
   "cell_type": "markdown",
   "id": "25780696-f54f-4c9f-9783-4a8c911492de",
   "metadata": {},
   "source": [
    "### EJERCICIO 4"
   ]
  },
  {
   "cell_type": "code",
   "execution_count": 8,
   "id": "0d065f8e-bde4-4d9a-8ac4-f52d22dbce42",
   "metadata": {},
   "outputs": [
    {
     "name": "stdout",
     "output_type": "stream",
     "text": [
      "[[ 1  2  3  4  5  6]\n",
      " [ 7  8  9 10 11 12]]\n"
     ]
    }
   ],
   "source": [
    "#Crea una matriz 2x6 con valores del 1 al 12\n",
    "array26 = np.array([[1,2,3,4,5,6],[7,8,9,10,11,12]])\n",
    "print(array26)"
   ]
  },
  {
   "cell_type": "code",
   "execution_count": 29,
   "id": "14b28f00-3262-4b6a-a99f-0c5d156e7726",
   "metadata": {},
   "outputs": [
    {
     "name": "stdout",
     "output_type": "stream",
     "text": [
      "[[ 1  2  3  4]\n",
      " [ 5  6  7  8]\n",
      " [ 9 10 11 12]]\n"
     ]
    }
   ],
   "source": [
    "#Transforma en:\n",
    "#a) Una matriz 3x4\n",
    "array34 = np.array([[1,2,3,4],[5,6,7,8],[9,10,11,12]])\n",
    "print(array34)"
   ]
  },
  {
   "cell_type": "code",
   "execution_count": 32,
   "id": "5cf12ca6-65a6-4a29-8ce1-2d082bd2a54a",
   "metadata": {},
   "outputs": [
    {
     "name": "stdout",
     "output_type": "stream",
     "text": [
      "[[ 1  2  3]\n",
      " [ 4  5  6]\n",
      " [ 7  8  9]\n",
      " [10 11 12]]\n"
     ]
    }
   ],
   "source": [
    "#b)Una matriz 4x3\n",
    "array43 = np.array([[1,2,3,],[4,5,6],[7,8,9],[10,11,12]])\n",
    "print(array43)"
   ]
  },
  {
   "cell_type": "code",
   "execution_count": null,
   "id": "e0fbdeff-1415-407a-8b3d-728db840ecc4",
   "metadata": {},
   "outputs": [],
   "source": [
    "#c)Su traspuesta\n"
   ]
  },
  {
   "cell_type": "code",
   "execution_count": 83,
   "id": "0d71d9f7-1f8e-4d95-b57a-d996da367c04",
   "metadata": {},
   "outputs": [
    {
     "name": "stdout",
     "output_type": "stream",
     "text": [
      "[[1 0 0 0 0 0]\n",
      " [0 2 0 0 0 0]\n",
      " [0 0 3 0 0 0]\n",
      " [0 0 0 4 0 0]\n",
      " [0 0 0 0 5 0]\n",
      " [0 0 0 0 0 6]]\n"
     ]
    }
   ],
   "source": [
    "#d)Una matriz diagonal con los valores de la primera fila\n",
    "array = np.array([1,2,3,4,5,6])\n",
    "array = np.diag(array)\n",
    "print(array)"
   ]
  },
  {
   "cell_type": "markdown",
   "id": "59a97dbf-7a37-4cf0-bf1b-4786ced8e42e",
   "metadata": {},
   "source": [
    "### EJERCICIO 5"
   ]
  },
  {
   "cell_type": "code",
   "execution_count": 15,
   "id": "40430493-0154-41a0-bd8d-6c2a2b769882",
   "metadata": {},
   "outputs": [
    {
     "name": "stdout",
     "output_type": "stream",
     "text": [
      "[1 7]\n"
     ]
    }
   ],
   "source": [
    "#Selecciona la primera columna.\n",
    "print(array26[:,0])"
   ]
  },
  {
   "cell_type": "code",
   "execution_count": 19,
   "id": "b193ca9c-73ee-4e99-a30d-dd116943f722",
   "metadata": {},
   "outputs": [
    {
     "name": "stdout",
     "output_type": "stream",
     "text": [
      "[1 2 3 4 5 6] [ 7  8  9 10 11 12] [ 5 11] [ 6 12]\n"
     ]
    }
   ],
   "source": [
    "#Selecciona la submatriz de las dos últimas filas y dos últimas columnas\n",
    "print(array26[-2,:],array26[-1,:],array26[:,-2],array26[:,-1])"
   ]
  },
  {
   "cell_type": "markdown",
   "id": "7ceb6619-e0a2-4d39-99bd-439f715f1ad3",
   "metadata": {},
   "source": [
    "### EJERCICIO 6"
   ]
  },
  {
   "cell_type": "code",
   "execution_count": 71,
   "id": "a99b0bd3-2624-4604-86e3-74fe181b187b",
   "metadata": {},
   "outputs": [
    {
     "name": "stdout",
     "output_type": "stream",
     "text": [
      "ARRAY BASE\n",
      "[[17 12 31]\n",
      " [49 11 51]\n",
      " [21 31 62]\n",
      " [63 75 22]]\n",
      "PRIMERA\n",
      "[[17 12 31 63]\n",
      " [49 11 51 75]\n",
      " [21 31 62 22]]\n",
      "SEGUNDA\n",
      "[[17 12 31 63]\n",
      " [49 49 49 63]\n",
      " [21 31 62 63]]\n"
     ]
    }
   ],
   "source": [
    "#Convertir esta matriz:\n",
    "print(\"ARRAY BASE\")\n",
    "array6=np.array([[17,12,31],[49,11,51],[21,31,62],[63,75,22]])\n",
    "print(array6)\n",
    "\n",
    "#En cada uno de estas:\n",
    "print(\"PRIMERA\")\n",
    "#1:\n",
    "array1 = np.copy(array6)\n",
    "array1 = np.delete(array1,3,axis=0)\n",
    "array1 = np.insert(array1,3,[63, 75, 22],axis=1)\n",
    "print(array1)\n",
    "print(\"SEGUNDA\")\n",
    "#1:\n",
    "array1 = np.copy(array6)\n",
    "array1 = np.delete(array1,3,axis=0)\n",
    "array1 = np.delete(array1,1,axis=0)\n",
    "array1 = np.insert(array1,1,[49],axis=0)\n",
    "array1 = np.insert(array1,3,[63],axis=1)\n",
    "print(array1)"
   ]
  },
  {
   "cell_type": "markdown",
   "id": "e963d76c-efab-4457-bd5e-e8fb71dc50d5",
   "metadata": {},
   "source": [
    "### EJERCICIO 7"
   ]
  },
  {
   "cell_type": "code",
   "execution_count": 139,
   "id": "df12ad2e-de94-4b6e-b4c3-ecdaf85c8db3",
   "metadata": {},
   "outputs": [
    {
     "name": "stdout",
     "output_type": "stream",
     "text": [
      "[[79 53 98 84 51 39 27 65 42 84]\n",
      " [ 6 46 33 71 55 23 59 56 50 72]\n",
      " [27 58 38 64 49 20 77 14 27 33]\n",
      " [41  1 33 52 92 11 61  5 53 28]\n",
      " [41 48  8  1 91 64 85  5 69 91]\n",
      " [81 62  2 57  8 59 91 15 21 85]\n",
      " [94  1 30 44 31 69 45 12 99 14]\n",
      " [ 9 71 79 21 79 94 32 36  2 50]\n",
      " [14 71  3 62 62  1 74 66 94 99]\n",
      " [83 94 46 57 42 19 28 30 77 93]]\n"
     ]
    }
   ],
   "source": [
    "#Partiendo de una matriz de 10 filas y 10 columnas con valores aleatorios\n",
    "#enteros en el intervalo [0,100] realiza las operaciones necesarias para\n",
    "#obtener una matriz de las mismas dimensiones donde:\n",
    "array1010 = np.array(np.random.randint(0,100, size=(10,10)))\n",
    "print(array1010)"
   ]
  },
  {
   "cell_type": "code",
   "execution_count": 117,
   "id": "a494c2c0-d2e3-4766-ab9b-1156440df057",
   "metadata": {},
   "outputs": [
    {
     "name": "stdout",
     "output_type": "stream",
     "text": [
      "[[ 9 37 86 13 72 19 93  3 20 14]\n",
      " [50 43 12 12 52 94 93 91 57  2]\n",
      " [93 91 14  0 71 25 21 15 55 41]\n",
      " [43 40 11 35 65 77 49 84 74 46]\n",
      " [38 67 52 23 85 65 56 16 11 48]\n",
      " [73 12 32 17 56 85 65 96  8 81]\n",
      " [76  2 78 56 20 93 70 54 61 15]\n",
      " [67 29 52 99 53 99 55 62 50  5]\n",
      " [76 67 68 97  2  4 41 14 64 72]\n",
      " [11 85 92 35 61 49 65 45 50 44]]\n"
     ]
    }
   ],
   "source": [
    "#Todos los elementos igual a 10 se les suma 200.\n",
    "array10 = np.copy(array1010)\n",
    "for i in range(len(array10)):\n",
    "    for j in range(len(array10[i])):\n",
    "        if array10[i][j]==10:\n",
    "            array10[i][j]+=200\n",
    "print(array10)"
   ]
  },
  {
   "cell_type": "code",
   "execution_count": 119,
   "id": "cffc22ae-c9dc-48c7-9c41-a0c638739d37",
   "metadata": {},
   "outputs": [
    {
     "name": "stdout",
     "output_type": "stream",
     "text": [
      "[[100 100 100 100 100 100 100 100 100 100]\n",
      " [100 100 100 100 100 100 100 100 100 100]\n",
      " [100 100 100 100 100 100 100 100 100 100]\n",
      " [100 100 100 100 100 100 100 100 100 100]\n",
      " [100 100 100 100 100 100 100 100 100 100]\n",
      " [100 100 100 100 100 100 100 100 100 100]\n",
      " [100 100 100 100 100 100 100 100 100 100]\n",
      " [100 100 100 100 100 100 100 100 100 100]\n",
      " [100 100 100 100 100 100 100 100 100 100]\n",
      " [100 100 100 100 100 100 100 100 100 100]]\n"
     ]
    }
   ],
   "source": [
    "#Los elementos entre 11 y 50 tengan valor 100.\n",
    "array9 = np.copy(array1010)\n",
    "for i in range(len(array9)):\n",
    "    for j in range(len(array9[i])):\n",
    "        if array9[i][j]>=11 & array9[i][j]<=50:\n",
    "            array9[i][j]=100\n",
    "print(array9)"
   ]
  },
  {
   "cell_type": "code",
   "execution_count": 120,
   "id": "3c9e9e05-5b38-4b33-8f47-45bc00939bd8",
   "metadata": {},
   "outputs": [
    {
     "name": "stdout",
     "output_type": "stream",
     "text": [
      "[[ 9 37  0 13  0 19  0  3 20 14]\n",
      " [50 43 12 12  0  0  0  0  0  2]\n",
      " [ 0  0 14  0  0 25 21 15  0 41]\n",
      " [43 40 11 35  0  0 49  0  0 46]\n",
      " [38  0  0 23  0  0  0 16 11 48]\n",
      " [ 0 12 32 17  0  0  0  0  8  0]\n",
      " [ 0  2  0  0 20  0  0  0  0 15]\n",
      " [ 0 29  0  0  0  0  0  0 50  5]\n",
      " [ 0  0  0  0  2  4 41 14  0  0]\n",
      " [11  0  0 35  0 49  0 45 50 44]]\n"
     ]
    }
   ],
   "source": [
    "#Los elementos mayores que 50 tengan valor 0.\n",
    "array8 = np.copy(array1010)\n",
    "for i in range(len(array8)):\n",
    "    for j in range(len(array8[i])):\n",
    "        if array8[i][j]>50:\n",
    "            array8[i][j]=0\n",
    "print(array8)"
   ]
  },
  {
   "cell_type": "code",
   "execution_count": 121,
   "id": "a723d017-d995-413c-82ea-d521079025f3",
   "metadata": {},
   "outputs": [
    {
     "name": "stdout",
     "output_type": "stream",
     "text": [
      "[[ 1 37 86 13 72 19 93  1 20 14]\n",
      " [50 43 12 12 52 94 93 91 57  1]\n",
      " [93 91 14  1 71 25 21 15 55 41]\n",
      " [43 40 11 35 65 77 49 84 74 46]\n",
      " [38 67 52 23 85 65 56 16 11 48]\n",
      " [73 12 32 17 56 85 65 96  1 81]\n",
      " [76  1 78 56 20 93 70 54 61 15]\n",
      " [67 29 52 99 53 99 55 62 50  1]\n",
      " [76 67 68 97  1  1 41 14 64 72]\n",
      " [11 85 92 35 61 49 65 45 50 44]]\n"
     ]
    }
   ],
   "source": [
    "#Los elementos menores de 10 tengan el valor 1.\n",
    "array7 = np.copy(array1010)\n",
    "for i in range(len(array7)):\n",
    "    for j in range(len(array7[i])):\n",
    "        if array7[i][j]<10:\n",
    "            array7[i][j]=1\n",
    "print(array7)"
   ]
  },
  {
   "cell_type": "markdown",
   "id": "71ed8066-fda9-4788-9c50-e386f9acc13a",
   "metadata": {},
   "source": [
    "### EJERCICIO 8"
   ]
  },
  {
   "cell_type": "code",
   "execution_count": 126,
   "id": "7f506748-92be-46f6-aaf5-091e1809fc64",
   "metadata": {},
   "outputs": [],
   "source": [
    "#A partir de la matriz que se generó en el ejercicio anterior:\n",
    "array8 = np.copy(array1010)"
   ]
  },
  {
   "cell_type": "code",
   "execution_count": 131,
   "id": "590ea325-2396-4f7f-8bf1-faf7427c7d04",
   "metadata": {},
   "outputs": [
    {
     "name": "stdout",
     "output_type": "stream",
     "text": [
      "Hay  0  valores iguales a 100\n"
     ]
    }
   ],
   "source": [
    "#Cuenta cuántos valores de la matriz final son iguales a 100.\n",
    "for i in range(len(array8)):\n",
    "    for j in range(len(array8[i])):\n",
    "        if array8[i][j]==100:\n",
    "            count = count+1\n",
    "print (\"Hay \",count,\" valores iguales a 100\")"
   ]
  },
  {
   "cell_type": "code",
   "execution_count": 138,
   "id": "732831e6-f828-4006-8739-5229077eaa3f",
   "metadata": {},
   "outputs": [
    {
     "name": "stdout",
     "output_type": "stream",
     "text": [
      "Hay  0  valores iguales a 0\n"
     ]
    }
   ],
   "source": [
    "#Cuenta cuántos son iguales a 0. \n",
    "for i in range(len(array8)):\n",
    "    for j in range(len(array8[i])):\n",
    "        if array8[i][j]==0:\n",
    "            count = count+1\n",
    "print (\"Hay \",count,\" valores iguales a 0\")"
   ]
  },
  {
   "cell_type": "markdown",
   "id": "b5de95f8-8c3d-44b7-bf92-beaa576c51d5",
   "metadata": {},
   "source": [
    "### EJERCICIO 9"
   ]
  },
  {
   "cell_type": "code",
   "execution_count": 11,
   "id": "26b3aa89-cbc7-45ea-9ebf-9fb41cd86a70",
   "metadata": {},
   "outputs": [
    {
     "name": "stdout",
     "output_type": "stream",
     "text": [
      "ALTURAS\n",
      "[1.74 1.8  1.78 1.68 1.78 1.7  1.74 1.74 1.73 1.79 1.78 1.72 1.65 1.78\n",
      " 1.7  1.68 1.79 1.68 1.82 1.72 1.75 1.66 1.67 1.79 1.75 1.65 1.78 1.73\n",
      " 1.71 1.81 1.73 1.71 1.68 1.74 1.75 1.68 1.74 1.81 1.73 1.82 1.8  1.67\n",
      " 1.73 1.7  1.73 1.7  1.81 1.81 1.76 1.82 1.68 1.74 1.65 1.8  1.78 1.7\n",
      " 1.68 1.78 1.79 1.73 1.64 1.67 1.69 1.74 1.76 1.66 1.66 1.73 1.79 1.81\n",
      " 1.78 1.63 1.76 1.72 1.71 1.7  1.62 1.8  1.75 1.8  1.78 1.78 1.76 1.65\n",
      " 1.65 1.68 1.74 1.75 1.69 1.75 1.7  1.83 1.64 1.7  1.69 1.69 1.64 1.69\n",
      " 1.77 1.8  1.78 1.69 1.7  1.7  1.7  1.63 1.73 1.84 1.66 1.78 1.8  1.79\n",
      " 1.78 1.74 1.77 1.73 1.77 1.76 1.75 1.8  1.75 1.8  1.79 1.71 1.73 1.59\n",
      " 1.76 1.75 1.71 1.76 1.8  1.68 1.74 1.77 1.73 1.68 1.63 1.67]\n",
      "PESOS\n",
      "[ 81.4  88.7  87.3  62.7  81.6  80.9  74.6  84.7  76.7  88.3  84.6  74.\n",
      "  57.7  84.1  79.7  63.8  88.4  71.2  87.1  67.   80.7  74.7  60.5  85.9\n",
      "  72.4  59.7  87.3  85.7  64.1  91.9  82.8  75.7  60.2  73.1  74.7  65.9\n",
      "  80.9  91.3  76.   86.8  80.7  74.2  83.1  77.8  84.5  58.8  89.5  87.\n",
      "  84.   89.9  56.5  80.2  61.8  86.3  82.6  69.4  65.8  79.3  88.1  78.5\n",
      "  69.1  62.5  74.   74.4  87.6  59.6  61.4  83.2  89.2  89.2 103.7  67.9\n",
      "  85.4  69.5  75.7  83.9  59.5  87.9  82.6  88.1  86.2  88.9  84.4  58.4\n",
      "  61.5  69.2  84.2  78.   81.1  81.5  74.7  90.4  59.2  79.3  65.1  93.\n",
      "  60.5  76.4  98.8  89.1  88.9  61.1  76.6  86.   75.5  66.9  79.4  87.9\n",
      "  72.3  93.8  89.   90.7  86.7  77.6  85.1  91.8 103.2  91.1  67.   86.9\n",
      "  78.7  87.1  85.5  69.8  75.   53.9  99.   93.7  88.   79.4  87.6  60.4\n",
      "  82.7  90.6  79.8  61.2  62.5  59.7]\n"
     ]
    }
   ],
   "source": [
    "print(\"ALTURAS\")\n",
    "alturas = np.array([1.74, 1.8, 1.78, 1.68, 1.78, 1.7, 1.74, 1.74, 1.73,\n",
    "1.79,\n",
    " 1.78, 1.72, 1.65, 1.78, 1.7, 1.68, 1.79, 1.68, 1.82, 1.72,\n",
    " 1.75, 1.66, 1.67, 1.79, 1.75, 1.65, 1.78, 1.73, 1.71, 1.81,\n",
    " 1.73, 1.71, 1.68, 1.74, 1.75, 1.68, 1.74, 1.81, 1.73, 1.82,\n",
    " 1.8, 1.67, 1.73, 1.7, 1.73, 1.7, 1.81, 1.81, 1.76, 1.82, 1.68,\n",
    " 1.74, 1.65, 1.8, 1.78, 1.7, 1.68, 1.78, 1.79, 1.73, 1.64, 1.67,\n",
    " 1.69, 1.74, 1.76, 1.66, 1.66, 1.73, 1.79, 1.81, 1.78, 1.63,\n",
    " 1.76, 1.72, 1.71, 1.7, 1.62, 1.8, 1.75, 1.8, 1.78, 1.78, 1.76,\n",
    " 1.65, 1.65, 1.68, 1.74, 1.75, 1.69, 1.75, 1.7, 1.83, 1.64, 1.7,\n",
    " 1.69, 1.69, 1.64, 1.69, 1.77, 1.8, 1.78, 1.69, 1.7, 1.7, 1.7,\n",
    " 1.63, 1.73, 1.84, 1.66, 1.78, 1.8, 1.79, 1.78, 1.74, 1.77,\n",
    " 1.73, 1.77, 1.76, 1.75, 1.8, 1.75, 1.8, 1.79, 1.71, 1.73,\n",
    " 1.59, 1.76, 1.75, 1.71, 1.76, 1.8, 1.68, 1.74, 1.77, 1.73,\n",
    " 1.68, 1.63, 1.67])\n",
    "print(alturas)\n",
    "print(\"PESOS\")\n",
    "pesos = np.array([81.4, 88.7, 87.3, 62.7, 81.6, 80.9, 74.6, 84.7, 76.7,\n",
    "88.3,\n",
    " 84.6, 74, 57.7, 84.1, 79.7, 63.8, 88.4, 71.2, 87.1, 67, 80.7,\n",
    " 74.7, 60.5, 85.9, 72.4, 59.7, 87.3, 85.7, 64.1, 91.9, 82.8, 75.7,\n",
    " 60.2, 73.1, 74.7, 65.9, 80.9, 91.3, 76, 86.8, 80.7, 74.2, 83.1,\n",
    " 77.8, 84.5, 58.8, 89.5, 87, 84, 89.9, 56.5, 80.2, 61.8, 86.3,\n",
    " 82.6, 69.4, 65.8, 79.3, 88.1, 78.5, 69.1, 62.5, 74, 74.4, 87.6,\n",
    " 59.6, 61.4, 83.2, 89.2, 89.2, 103.7, 67.9, 85.4, 69.5, 75.7,\n",
    " 83.9, 59.5, 87.9, 82.6, 88.1, 86.2, 88.9, 84.4, 58.4, 61.5, 69.2,\n",
    " 84.2, 78, 81.1, 81.5, 74.7, 90.4, 59.2, 79.3, 65.1, 93, 60.5,\n",
    " 76.4, 98.8, 89.1, 88.9, 61.1, 76.6, 86, 75.5, 66.9, 79.4, 87.9,\n",
    " 72.3, 93.8, 89, 90.7, 86.7, 77.6, 85.1, 91.8, 103.2, 91.1, 67,\n",
    " 86.9, 78.7, 87.1, 85.5, 69.8, 75, 53.9, 99, 93.7, 88, 79.4, 87.6,\n",
    " 60.4, 82.7, 90.6, 79.8, 61.2, 62.5, 59.7])\n",
    "print(pesos)"
   ]
  },
  {
   "cell_type": "code",
   "execution_count": 12,
   "id": "bcfe1bfe-5d0e-44ec-afe1-45a7d9fea795",
   "metadata": {},
   "outputs": [
    {
     "name": "stdout",
     "output_type": "stream",
     "text": [
      "[[  1.74        81.4         26.8859823 ]\n",
      " [  1.8         88.7         27.37654321]\n",
      " [  1.78        87.3         27.55333922]\n",
      " [  1.68        62.7         22.21513605]\n",
      " [  1.78        81.6         25.75432395]\n",
      " [  1.7         80.9         27.99307958]\n",
      " [  1.74        74.6         24.63997886]\n",
      " [  1.74        84.7         27.97595455]\n",
      " [  1.73        76.7         25.62731799]\n",
      " [  1.79        88.3         27.55844075]\n",
      " [  1.78        84.6         26.70117409]\n",
      " [  1.72        74.          25.01352082]\n",
      " [  1.65        57.7         21.19375574]\n",
      " [  1.78        84.1         26.54336574]\n",
      " [  1.7         79.7         27.57785467]\n",
      " [  1.68        63.8         22.60487528]\n",
      " [  1.79        88.4         27.58965076]\n",
      " [  1.68        71.2         25.22675737]\n",
      " [  1.82        87.1         26.29513344]\n",
      " [  1.72        67.          22.64737696]\n",
      " [  1.75        80.7         26.35102041]\n",
      " [  1.66        74.7         27.10843373]\n",
      " [  1.67        60.5         21.69314066]\n",
      " [  1.79        85.9         26.80940046]\n",
      " [  1.75        72.4         23.64081633]\n",
      " [  1.65        59.7         21.92837466]\n",
      " [  1.78        87.3         27.55333922]\n",
      " [  1.73        85.7         28.63443483]\n",
      " [  1.71        64.1         21.92127492]\n",
      " [  1.81        91.9         28.05164678]\n",
      " [  1.73        82.8         27.66547496]\n",
      " [  1.71        75.7         25.88830751]\n",
      " [  1.68        60.2         21.32936508]\n",
      " [  1.74        73.1         24.14453693]\n",
      " [  1.75        74.7         24.39183673]\n",
      " [  1.68        65.9         23.3489229 ]\n",
      " [  1.74        80.9         26.72083498]\n",
      " [  1.81        91.3         27.86850218]\n",
      " [  1.73        76.          25.39343112]\n",
      " [  1.82        86.8         26.20456467]\n",
      " [  1.8         80.7         24.90740741]\n",
      " [  1.67        74.2         26.60547169]\n",
      " [  1.73        83.1         27.76571219]\n",
      " [  1.7         77.8         26.92041522]\n",
      " [  1.73        84.5         28.23348592]\n",
      " [  1.7         58.8         20.34602076]\n",
      " [  1.81        89.5         27.3190684 ]\n",
      " [  1.81        87.          26.55596594]\n",
      " [  1.76        84.          27.1177686 ]\n",
      " [  1.82        89.9         27.14044198]\n",
      " [  1.68        56.5         20.01842404]\n",
      " [  1.74        80.2         26.48962875]\n",
      " [  1.65        61.8         22.69972452]\n",
      " [  1.8         86.3         26.63580247]\n",
      " [  1.78        82.6         26.06994066]\n",
      " [  1.7         69.4         24.01384083]\n",
      " [  1.68        65.8         23.31349206]\n",
      " [  1.78        79.3         25.0284055 ]\n",
      " [  1.79        88.1         27.49602072]\n",
      " [  1.73        78.5         26.22874135]\n",
      " [  1.64        69.1         25.69155265]\n",
      " [  1.67        62.5         22.41026928]\n",
      " [  1.69        74.          25.90945695]\n",
      " [  1.74        74.4         24.57391994]\n",
      " [  1.76        87.6         28.27995868]\n",
      " [  1.66        59.6         21.62868341]\n",
      " [  1.66        61.4         22.28189868]\n",
      " [  1.73        83.2         27.79912459]\n",
      " [  1.79        89.2         27.83933086]\n",
      " [  1.81        89.2         27.22749611]\n",
      " [  1.78       103.7         32.72945335]\n",
      " [  1.63        67.9         25.55609921]\n",
      " [  1.76        85.4         27.5697314 ]\n",
      " [  1.72        69.5         23.49242834]\n",
      " [  1.71        75.7         25.88830751]\n",
      " [  1.7         83.9         29.03114187]\n",
      " [  1.62        59.5         22.6718488 ]\n",
      " [  1.8         87.9         27.12962963]\n",
      " [  1.75        82.6         26.97142857]\n",
      " [  1.8         88.1         27.19135802]\n",
      " [  1.78        86.2         27.20616084]\n",
      " [  1.78        88.9         28.05832597]\n",
      " [  1.76        84.4         27.24690083]\n",
      " [  1.65        58.4         21.45087236]\n",
      " [  1.65        61.5         22.58953168]\n",
      " [  1.68        69.2         24.51814059]\n",
      " [  1.74        84.2         27.81080724]\n",
      " [  1.75        78.          25.46938776]\n",
      " [  1.69        81.1         28.39536431]\n",
      " [  1.75        81.5         26.6122449 ]\n",
      " [  1.7         74.7         25.84775087]\n",
      " [  1.83        90.4         26.99393831]\n",
      " [  1.64        59.2         22.01070791]\n",
      " [  1.7         79.3         27.43944637]\n",
      " [  1.69        65.1         22.79331956]\n",
      " [  1.69        93.          32.56188509]\n",
      " [  1.64        60.5         22.49405116]\n",
      " [  1.69        76.4         26.74976366]\n",
      " [  1.77        98.8         31.53627629]\n",
      " [  1.8         89.1         27.5       ]\n",
      " [  1.78        88.9         28.05832597]\n",
      " [  1.69        61.1         21.39280838]\n",
      " [  1.7         76.6         26.50519031]\n",
      " [  1.7         86.          29.75778547]\n",
      " [  1.7         75.5         26.12456747]\n",
      " [  1.63        66.9         25.17972073]\n",
      " [  1.73        79.4         26.52945304]\n",
      " [  1.84        87.9         25.9629017 ]\n",
      " [  1.66        72.3         26.23748004]\n",
      " [  1.78        93.8         29.60484787]\n",
      " [  1.8         89.          27.4691358 ]\n",
      " [  1.79        90.7         28.30748104]\n",
      " [  1.78        86.7         27.3639692 ]\n",
      " [  1.74        77.6         25.63086273]\n",
      " [  1.77        85.1         27.1633311 ]\n",
      " [  1.73        91.8         30.6725918 ]\n",
      " [  1.77       103.2         32.94072585]\n",
      " [  1.76        91.1         29.4098657 ]\n",
      " [  1.75        67.          21.87755102]\n",
      " [  1.8         86.9         26.82098765]\n",
      " [  1.75        78.7         25.69795918]\n",
      " [  1.8         87.1         26.88271605]\n",
      " [  1.79        85.5         26.68456041]\n",
      " [  1.71        69.8         23.87059266]\n",
      " [  1.73        75.          25.05930703]\n",
      " [  1.59        53.9         21.32035916]\n",
      " [  1.76        99.          31.96022727]\n",
      " [  1.75        93.7         30.59591837]\n",
      " [  1.71        88.          30.09473   ]\n",
      " [  1.76        79.4         25.63274793]\n",
      " [  1.8         87.6         27.03703704]\n",
      " [  1.68        60.4         21.40022676]\n",
      " [  1.74        82.7         27.31536531]\n",
      " [  1.77        90.6         28.91889304]\n",
      " [  1.73        79.8         26.66310268]\n",
      " [  1.68        61.2         21.68367347]\n",
      " [  1.63        62.5         23.52365539]\n",
      " [  1.67        59.7         21.40628922]]\n"
     ]
    }
   ],
   "source": [
    "#Se pide crear el imc, índice de masa corporal correspondiente a cada alturapeso. \n",
    "#Y crear un array de tres columnas donde tengamos, la altura, el peso y el imc.\n",
    "#La fórmula para el imc es  imc = peso/altura2:\n",
    "alturasValor=alturas\n",
    "alturas=alturas*alturas\n",
    "imc=pesos/alturas\n",
    "listaimc = np.stack((alturasValor,pesos,imc),axis=1)\n",
    "print(listaimc)"
   ]
  },
  {
   "cell_type": "markdown",
   "id": "98b36fea-595d-4f5e-952f-e269438cf75d",
   "metadata": {},
   "source": [
    "### EJERCICIO 10"
   ]
  },
  {
   "cell_type": "code",
   "execution_count": 13,
   "id": "faa01657-7b2f-4f80-a16c-13f5c7738cff",
   "metadata": {},
   "outputs": [
    {
     "name": "stdout",
     "output_type": "stream",
     "text": [
      "[[  1.74        81.4         26.8859823 ]\n",
      " [  1.8         88.7         27.37654321]\n",
      " [  1.78        87.3         27.55333922]\n",
      " [  1.68        62.7         22.21513605]\n",
      " [  1.78        81.6         25.75432395]\n",
      " [  1.7         80.9         27.99307958]\n",
      " [  1.74        74.6         24.63997886]\n",
      " [  1.74        84.7         27.97595455]\n",
      " [  1.73        76.7         25.62731799]\n",
      " [  1.79        88.3         27.55844075]\n",
      " [  1.78        84.6         26.70117409]\n",
      " [  1.72        74.          25.01352082]\n",
      " [  1.65        57.7         21.19375574]\n",
      " [  1.78        84.1         26.54336574]\n",
      " [  1.7         79.7         27.57785467]\n",
      " [  1.68        63.8         22.60487528]\n",
      " [  1.79        88.4         27.58965076]\n",
      " [  1.68        71.2         25.22675737]\n",
      " [  1.82        87.1         26.29513344]\n",
      " [  1.72        67.          22.64737696]\n",
      " [  1.75        80.7         26.35102041]\n",
      " [  1.66        74.7         27.10843373]\n",
      " [  1.67        60.5         21.69314066]\n",
      " [  1.79        85.9         26.80940046]\n",
      " [  1.75        72.4         23.64081633]\n",
      " [  1.65        59.7         21.92837466]\n",
      " [  1.78        87.3         27.55333922]\n",
      " [  1.73        85.7         28.63443483]\n",
      " [  1.71        64.1         21.92127492]\n",
      " [  1.81        91.9         28.05164678]\n",
      " [  1.73        82.8         27.66547496]\n",
      " [  1.71        75.7         25.88830751]\n",
      " [  1.68        60.2         21.32936508]\n",
      " [  1.74        73.1         24.14453693]\n",
      " [  1.75        74.7         24.39183673]\n",
      " [  1.68        65.9         23.3489229 ]\n",
      " [  1.74        80.9         26.72083498]\n",
      " [  1.81        91.3         27.86850218]\n",
      " [  1.73        76.          25.39343112]\n",
      " [  1.82        86.8         26.20456467]\n",
      " [  1.8         80.7         24.90740741]\n",
      " [  1.67        74.2         26.60547169]\n",
      " [  1.73        83.1         27.76571219]\n",
      " [  1.7         77.8         26.92041522]\n",
      " [  1.73        84.5         28.23348592]\n",
      " [  1.7         58.8         20.34602076]\n",
      " [  1.81        89.5         27.3190684 ]\n",
      " [  1.81        87.          26.55596594]\n",
      " [  1.76        84.          27.1177686 ]\n",
      " [  1.82        89.9         27.14044198]\n",
      " [  1.68        56.5         20.01842404]\n",
      " [  1.74        80.2         26.48962875]\n",
      " [  1.65        61.8         22.69972452]\n",
      " [  1.8         86.3         26.63580247]\n",
      " [  1.78        82.6         26.06994066]\n",
      " [  1.7         69.4         24.01384083]\n",
      " [  1.68        65.8         23.31349206]\n",
      " [  1.78        79.3         25.0284055 ]\n",
      " [  1.79        88.1         27.49602072]\n",
      " [  1.73        78.5         26.22874135]\n",
      " [  1.64        69.1         25.69155265]\n",
      " [  1.67        62.5         22.41026928]\n",
      " [  1.69        74.          25.90945695]\n",
      " [  1.74        74.4         24.57391994]\n",
      " [  1.76        87.6         28.27995868]\n",
      " [  1.66        59.6         21.62868341]\n",
      " [  1.66        61.4         22.28189868]\n",
      " [  1.73        83.2         27.79912459]\n",
      " [  1.79        89.2         27.83933086]\n",
      " [  1.81        89.2         27.22749611]\n",
      " [  1.78       103.7         32.72945335]\n",
      " [  1.63        67.9         25.55609921]\n",
      " [  1.76        85.4         27.5697314 ]\n",
      " [  1.72        69.5         23.49242834]\n",
      " [  1.71        75.7         25.88830751]\n",
      " [  1.7         83.9         29.03114187]\n",
      " [  1.62        59.5         22.6718488 ]\n",
      " [  1.8         87.9         27.12962963]\n",
      " [  1.75        82.6         26.97142857]\n",
      " [  1.8         88.1         27.19135802]\n",
      " [  1.78        86.2         27.20616084]\n",
      " [  1.78        88.9         28.05832597]\n",
      " [  1.76        84.4         27.24690083]\n",
      " [  1.65        58.4         21.45087236]\n",
      " [  1.65        61.5         22.58953168]\n",
      " [  1.68        69.2         24.51814059]\n",
      " [  1.74        84.2         27.81080724]\n",
      " [  1.75        78.          25.46938776]\n",
      " [  1.69        81.1         28.39536431]\n",
      " [  1.75        81.5         26.6122449 ]\n",
      " [  1.7         74.7         25.84775087]\n",
      " [  1.83        90.4         26.99393831]\n",
      " [  1.64        59.2         22.01070791]\n",
      " [  1.7         79.3         27.43944637]\n",
      " [  1.69        65.1         22.79331956]\n",
      " [  1.69        93.          32.56188509]\n",
      " [  1.64        60.5         22.49405116]\n",
      " [  1.69        76.4         26.74976366]\n",
      " [  1.77        98.8         31.53627629]\n",
      " [  1.8         89.1         27.5       ]\n",
      " [  1.78        88.9         28.05832597]\n",
      " [  1.69        61.1         21.39280838]\n",
      " [  1.7         76.6         26.50519031]\n",
      " [  1.7         86.          29.75778547]\n",
      " [  1.7         75.5         26.12456747]\n",
      " [  1.63        66.9         25.17972073]\n",
      " [  1.73        79.4         26.52945304]\n",
      " [  1.84        87.9         25.9629017 ]\n",
      " [  1.66        72.3         26.23748004]\n",
      " [  1.78        93.8         29.60484787]\n",
      " [  1.8         89.          27.4691358 ]\n",
      " [  1.79        90.7         28.30748104]\n",
      " [  1.78        86.7         27.3639692 ]\n",
      " [  1.74        77.6         25.63086273]\n",
      " [  1.77        85.1         27.1633311 ]\n",
      " [  1.73        91.8         30.6725918 ]\n",
      " [  1.77       103.2         32.94072585]\n",
      " [  1.76        91.1         29.4098657 ]\n",
      " [  1.75        67.          21.87755102]\n",
      " [  1.8         86.9         26.82098765]\n",
      " [  1.75        78.7         25.69795918]\n",
      " [  1.8         87.1         26.88271605]\n",
      " [  1.79        85.5         26.68456041]\n",
      " [  1.71        69.8         23.87059266]\n",
      " [  1.73        75.          25.05930703]\n",
      " [  1.59        53.9         21.32035916]\n",
      " [  1.76        99.          31.96022727]\n",
      " [  1.75        93.7         30.59591837]\n",
      " [  1.71        88.          30.09473   ]\n",
      " [  1.76        79.4         25.63274793]\n",
      " [  1.8         87.6         27.03703704]\n",
      " [  1.68        60.4         21.40022676]\n",
      " [  1.74        82.7         27.31536531]\n",
      " [  1.77        90.6         28.91889304]\n",
      " [  1.73        79.8         26.66310268]\n",
      " [  1.68        61.2         21.68367347]\n",
      " [  1.63        62.5         23.52365539]\n",
      " [  1.67        59.7         21.40628922]]\n"
     ]
    }
   ],
   "source": [
    "#A partir de la matriz resultante del ejercicio anterior, calcula lo siguiente:\n",
    "lista = np.copy(listaimc)\n",
    "print(lista)"
   ]
  },
  {
   "cell_type": "code",
   "execution_count": 14,
   "id": "7b0f7652-f618-4ae2-85b5-9d37368f9131",
   "metadata": {},
   "outputs": [
    {
     "name": "stdout",
     "output_type": "stream",
     "text": [
      "IMC MEDIO ES:\n",
      "26.0032024404846\n"
     ]
    }
   ],
   "source": [
    "#Calcula el IMC medio del grupo.    \n",
    "media = lista.mean(axis=0)\n",
    "print(\"IMC MEDIO ES:\")\n",
    "print(media[2])"
   ]
  },
  {
   "cell_type": "code",
   "execution_count": 23,
   "id": "a7d0b2cf-eecf-4b4a-8cce-41df71b60c5e",
   "metadata": {},
   "outputs": [
    {
     "name": "stdout",
     "output_type": "stream",
     "text": [
      "Hay  0  Bajo Peso  38  Peso Normal  8  Obeso\n"
     ]
    }
   ],
   "source": [
    "#Cuenta cuántas personas tienen IMC < 18.5 (bajo peso), 18.5–24.9\n",
    "#(normal), 25–29.9 (sobrepeso) y ≥30 (obesidad).\n",
    "countBP = 0\n",
    "countN = 0\n",
    "countO = 0\n",
    "for i in range(len(lista)):\n",
    "    if lista[i][2]<18.5:\n",
    "        countBP = countBP+1\n",
    "    elif lista[i][2]>=18.5 and lista[i][2]<=24.9:\n",
    "        countN = countN+1\n",
    "    elif lista[i][2]>=25  and lista[i][2]>=30:\n",
    "        countO = countO+1\n",
    "print(\"Hay \",countBP,\" Bajo Peso \",countN,\" Peso Normal \",countO,\" Obeso\")\n",
    "        "
   ]
  }
 ],
 "metadata": {
  "kernelspec": {
   "display_name": "Python [conda env:base] *",
   "language": "python",
   "name": "conda-base-py"
  },
  "language_info": {
   "codemirror_mode": {
    "name": "ipython",
    "version": 3
   },
   "file_extension": ".py",
   "mimetype": "text/x-python",
   "name": "python",
   "nbconvert_exporter": "python",
   "pygments_lexer": "ipython3",
   "version": "3.13.5"
  }
 },
 "nbformat": 4,
 "nbformat_minor": 5
}
