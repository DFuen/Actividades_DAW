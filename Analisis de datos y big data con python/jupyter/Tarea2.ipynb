{
 "cells": [
  {
   "cell_type": "markdown",
   "id": "f00a548b-1705-419b-9d7e-ec5f752f8143",
   "metadata": {},
   "source": [
    "### EJERCICIO 11 - Productividad y salarios en una empresa tecnológica"
   ]
  },
  {
   "cell_type": "code",
   "execution_count": 1,
   "id": "870c23c4-4d5b-4ae3-86f6-f3b69bfd6acb",
   "metadata": {},
   "outputs": [],
   "source": [
    "import numpy as np"
   ]
  },
  {
   "cell_type": "code",
   "execution_count": 22,
   "id": "47f08819-5fd1-4c6c-b76e-083009b0a691",
   "metadata": {},
   "outputs": [
    {
     "name": "stdout",
     "output_type": "stream",
     "text": [
      "[[34  9  5]\n",
      " [96  4 17]\n",
      " [52  1 50]\n",
      " ...\n",
      " [41  4 55]\n",
      " [45  3 65]\n",
      " [12  5 68]]\n"
     ]
    }
   ],
   "source": [
    "#Se dispone de los datos de 200 000 empleados de una empresa tecnológica.\n",
    "#Cada empleado tiene asignado:\n",
    "#  Sueldo base anual (salarios)\n",
    "arraySalario=np.random.randint(1,100, size=200000)\n",
    "#  Número de proyectos completados (proyectos)\n",
    "arrayProyecto=np.random.randint(1,10, size=200000)\n",
    "#  Horas trabajadas al año (horas)\n",
    "arrayHora=np.random.randint(1,80, size=200000)\n",
    "#A partir de estos datos:\n",
    "datosEmpleados = np.stack((arraySalario,arrayProyecto,arrayHora),axis=1)\n",
    "print(datosEmpleados)"
   ]
  },
  {
   "cell_type": "code",
   "execution_count": 28,
   "id": "54d6b346-db3e-43e8-965e-0c025865b1b9",
   "metadata": {},
   "outputs": [
    {
     "name": "stdout",
     "output_type": "stream",
     "text": [
      "[1.8        0.23529412 0.02       ... 0.07272727 0.04615385 0.07352941]\n",
      "[[3.40000000e+01 9.00000000e+00 5.00000000e+00 1.80000000e+00]\n",
      " [9.60000000e+01 4.00000000e+00 1.70000000e+01 2.35294118e-01]\n",
      " [5.20000000e+01 1.00000000e+00 5.00000000e+01 2.00000000e-02]\n",
      " ...\n",
      " [4.10000000e+01 4.00000000e+00 5.50000000e+01 7.27272727e-02]\n",
      " [4.50000000e+01 3.00000000e+00 6.50000000e+01 4.61538462e-02]\n",
      " [1.20000000e+01 5.00000000e+00 6.80000000e+01 7.35294118e-02]]\n"
     ]
    }
   ],
   "source": [
    "#1. Calcula la productividad = proyectos / horas\n",
    "productividad = arrayProyecto/arrayHora\n",
    "datosEmpleados = np.stack((arraySalario,arrayProyecto,arrayHora,productividad),axis=1)\n",
    "print(datosEmpleados)"
   ]
  },
  {
   "cell_type": "code",
   "execution_count": 29,
   "id": "3e1c3900-b8d8-4a67-9363-1170c7e73b38",
   "metadata": {},
   "outputs": [
    {
     "name": "stdout",
     "output_type": "stream",
     "text": [
      "[3.06       1.12941176 0.052      ... 0.14909091 0.10384615 0.04411765]\n",
      "[[3.40000000e+01 9.00000000e+00 5.00000000e+00 1.80000000e+00\n",
      "  3.06000000e+00]\n",
      " [9.60000000e+01 4.00000000e+00 1.70000000e+01 2.35294118e-01\n",
      "  1.12941176e+00]\n",
      " [5.20000000e+01 1.00000000e+00 5.00000000e+01 2.00000000e-02\n",
      "  5.20000000e-02]\n",
      " ...\n",
      " [4.10000000e+01 4.00000000e+00 5.50000000e+01 7.27272727e-02\n",
      "  1.49090909e-01]\n",
      " [4.50000000e+01 3.00000000e+00 6.50000000e+01 4.61538462e-02\n",
      "  1.03846154e-01]\n",
      " [1.20000000e+01 5.00000000e+00 6.80000000e+01 7.35294118e-02\n",
      "  4.41176471e-02]]\n"
     ]
    }
   ],
   "source": [
    "#2. Calcula la bonificación = productividad × salario × 0.05\n",
    "bonificacion = productividad*arraySalario*0.05\n",
    "datosEmpleados = np.stack((arraySalario,arrayProyecto,arrayHora,productividad,bonificacion),axis=1)\n",
    "print(datosEmpleados)"
   ]
  },
  {
   "cell_type": "code",
   "execution_count": 30,
   "id": "94d69397-e9a4-431a-a42d-e775286bacb6",
   "metadata": {},
   "outputs": [
    {
     "name": "stdout",
     "output_type": "stream",
     "text": [
      "[[3.40000000e+01 9.00000000e+00 5.00000000e+00 1.80000000e+00\n",
      "  3.06000000e+00 3.70600000e+01]\n",
      " [9.60000000e+01 4.00000000e+00 1.70000000e+01 2.35294118e-01\n",
      "  1.12941176e+00 9.71294118e+01]\n",
      " [5.20000000e+01 1.00000000e+00 5.00000000e+01 2.00000000e-02\n",
      "  5.20000000e-02 5.20520000e+01]\n",
      " ...\n",
      " [4.10000000e+01 4.00000000e+00 5.50000000e+01 7.27272727e-02\n",
      "  1.49090909e-01 4.11490909e+01]\n",
      " [4.50000000e+01 3.00000000e+00 6.50000000e+01 4.61538462e-02\n",
      "  1.03846154e-01 4.51038462e+01]\n",
      " [1.20000000e+01 5.00000000e+00 6.80000000e+01 7.35294118e-02\n",
      "  4.41176471e-02 1.20441176e+01]]\n"
     ]
    }
   ],
   "source": [
    "# Calcula el nuevo salario = salario + bonificación\n",
    "nuevoSalario = arraySalario+bonificacion\n",
    "datosEmpleados = np.stack((arraySalario,arrayProyecto,arrayHora,productividad,bonificacion,nuevoSalario),axis=1)\n",
    "print(datosEmpleados)"
   ]
  },
  {
   "cell_type": "code",
   "execution_count": 33,
   "id": "48213277-14e8-47b4-8a6c-f968f3eea5ab",
   "metadata": {},
   "outputs": [
    {
     "name": "stdout",
     "output_type": "stream",
     "text": [
      "50.774633312626584\n",
      "[[ 1.00000000e+00 -3.77772778e-04]\n",
      " [-3.77772778e-04  1.00000000e+00]]\n"
     ]
    }
   ],
   "source": [
    "#4. Calcula: \n",
    "# o La media y desviación estándar del nuevo salario\n",
    "mediaSalario = np.mean(nuevoSalario)\n",
    "print(mediaSalario)\n",
    "\n",
    "# o La correlación entre salarios y productividad\n",
    "correlacionSalProd = np.corrcoef(arraySalario,productividad)\n",
    "print(correlacionSalProd)"
   ]
  },
  {
   "cell_type": "code",
   "execution_count": 35,
   "id": "c6371fa2-6d39-4c10-9cad-91d0cd628c0a",
   "metadata": {},
   "outputs": [
    {
     "name": "stdout",
     "output_type": "stream",
     "text": [
      "[34.         96.         52.         ... 41.14909091 45.10384615\n",
      " 12.04411765]\n"
     ]
    }
   ],
   "source": [
    "#Combina las columnas en un solo array 2D (salario, productividad, nuevo salario)\n",
    "salarioProductividadNuevSalario = np.hstack((arraySalario, productividad,nuevoSalario))\n",
    "print(salarioProductividadNuevSalario)"
   ]
  },
  {
   "cell_type": "markdown",
   "id": "1143b53b-65f6-4d68-a816-1dc2eb1c1950",
   "metadata": {},
   "source": [
    "## 6. Explica qué es el coeficiente de correlación de Pearson y qué sentido tiene aplicarlo en el apartado 4 de este ejercicio. Además de eso, explica qué información aporta.\n",
    "#### Medida estadística que cuantifica la fuerza y dirección de la relación lineal entre dos variables cuantitativas. Esto mide si esos datos tienen una asociación lineal"
   ]
  },
  {
   "cell_type": "markdown",
   "id": "a334873c-a9b9-44ae-bc22-e676d940a27a",
   "metadata": {},
   "source": [
    "### EJERCICIO 12 -Temperaturas y vendimia"
   ]
  },
  {
   "cell_type": "code",
   "execution_count": 8,
   "id": "33316d4e-a64a-46e6-bde5-2bd695e244cb",
   "metadata": {},
   "outputs": [],
   "source": [
    "# -------------------------------------------------------------\n",
    "# 1️⃣ Datos originales (lista proporcionada)\n",
    "# -------------------------------------------------------------\n",
    "temperaturas = [\n",
    "    21.3, 17.1, 22.5, 28.7, 16.0, 16.4, 29.3, 24.1, 15.2, 22.9, 14.4, 15.2, 19.8, 5.7,\n",
    "    5.5, 13.6, 10.6, 19.1, 11.4, 7.7, 28.3, 16.6, 19.4, 8.5, 13.9, 18.3, 10.2, 20.0,\n",
    "    14.7, 16.5, 13.6, 30.1, 18.6, 10.5, 24.4, 8.7, 19.2, 4.3, 8.7, 19.2, 23.5, 18.7,\n",
    "    17.1, 16.0, 7.9, 13.3, 14.2, 24.6, 21.0, 5.8, 19.9, 16.1, 13.3, 22.9, 25.3, 25.5,\n",
    "    13.0, 15.7, 20.8, 25.2, 15.3, 16.2, 10.6, 10.2, 22.8, 26.9, 16.5, 24.9, 20.9, 14.2,\n",
    "    20.6, 29.6, 17.1, 28.1, 0.0, 23.9, 18.6, 14.9, 18.6, 3.4, 16.8, 20.7, 27.9, 14.1,\n",
    "    11.8, 14.5, 24.9, 19.8, 14.5, 21.3, 18.3, 24.7, 12.6, 15.4, 14.7, 8.7, 20.1, 19.5,\n",
    "    18.1, 16.3, 8.0, 15.4, 16.0, 12.1, 16.6, 20.7, 30.1, 18.5, 20.5, 18.3, 4.4, 18.1,\n",
    "    18.6, 36.8, 17.2, 20.0, 17.3, 9.0, 26.1, 22.9, 22.8, 11.3, 27.3, 9.0, 22.5, 33.3,\n",
    "    11.8, 14.1, 18.3, 15.2, 7.4, 18.0, 10.5, 20.9, 10.9, 29.3, 13.5, 15.0, 24.0, 9.1,\n",
    "    19.3, 26.9, 6.3, 19.3, 19.4, 23.6, 9.3, 8.6, 21.2, 19.8, 20.1, 20.7, 12.8, 19.7,\n",
    "    20.4, 12.2, 31.3, 21.0, 9.9, 22.2, 10.3, 22.7, 26.1, 12.4, 24.3, 21.2, 22.9, 31.2,\n",
    "    15.7, 12.4, 11.8, 11.9, 17.3, 20.9, 19.6, 24.2, 17.5, 28.4, 16.9, 35.8, 22.0, 12.3,\n",
    "    10.4, 21.6, 16.1, 23.0, 21.2, 18.1, 12.2, 7.6, 14.7, 23.8, 19.3, 9.5, 19.0, 20.8,\n",
    "    12.9, 19.5, 18.2, 10.6, 20.3, 20.9, 25.1, 24.4, 8.2, 11.4, 22.4, 21.8, 21.5, 40.0,\n",
    "    20.9, 26.1, 25.1, 21.8, 16.4, 23.5, 12.4, 16.7, 15.7, 18.7, 34.3, 4.7, 22.4, 7.1,\n",
    "    14.3, 25.7, 18.2, 10.7, 13.2, 23.3, 12.6, 19.4, 17.8, 13.2, 33.2, 22.8, 3.4, 19.7,\n",
    "    14.0, 24.2, 13.4, 16.8, 20.9, 23.2, 10.3, 16.0, 14.6, 13.6, 29.8, 22.1, 9.2, 24.5,\n",
    "    33.2, 25.5, 7.5, 14.2, 27.1, 14.0, 21.8, 24.2, 11.3, 17.1, 0.0, 10.9, 16.8, 8.4,\n",
    "    30.2, 7.9, 14.7, 18.4, 27.3, 8.4, 26.2, 17.4, 10.5, 21.1, 20.2, 13.7, 17.7, 15.2,\n",
    "    18.7, 21.3, 29.1, 9.2, 33.3, 5.3, 17.5, 22.0, 19.4, 14.9, 16.6, 14.6, 13.9, 24.0,\n",
    "    20.4, 12.9, 24.0, 20.1, 23.4, 22.1, 12.3, 14.0, 24.0, 20.9, 18.4, 19.4, 25.9, 13.7,\n",
    "    21.6, 15.9, 16.1, 25.1, 24.7, 24.2, 27.8, 18.5, 22.2, 15.6, 20.5, 16.5, 19.0, 22.0,\n",
    "    12.1, 33.0, 11.2, 9.3, 26.7, 23.0, 22.7, 22.7, 17.8, 11.9, 17.9, 13.7, 24.7, 16.7,\n",
    "    12.7, 15.4, 20.2, 13.3, 12.5, 19.1, 20.6, 13.4, 15.6, 19.7, 7.8, 7.9, 13.2, 16.5,\n",
    "    20.7, 28.4, 24.1, 16.7, 17.8, 11.1, 17.0, 15.3, 20.6, 12.3, 21.5, 28.7, 17.4, 20.5,\n",
    "    22.4\n",
    "]"
   ]
  },
  {
   "cell_type": "code",
   "execution_count": 6,
   "id": "a0a925dd-b0bd-417e-87d9-ead41d967979",
   "metadata": {},
   "outputs": [
    {
     "name": "stdout",
     "output_type": "stream",
     "text": [
      "18.05123287671233\n",
      "40.0\n",
      "0.0\n"
     ]
    }
   ],
   "source": [
    "#1. Calcula:\n",
    "# La temperatura media anual.\n",
    "# El día más cálido y el día más frío del año.\n",
    "media = np.mean(temperaturas)\n",
    "print(media)\n",
    "maxT = np.max(temperaturas)\n",
    "print(maxT)\n",
    "minT = np.min(temperaturas)\n",
    "print(minT)"
   ]
  },
  {
   "cell_type": "code",
   "execution_count": 13,
   "id": "7137eef7-441a-4870-a953-eea10b3a98e5",
   "metadata": {},
   "outputs": [
    {
     "name": "stdout",
     "output_type": "stream",
     "text": [
      "46\n",
      "3\n"
     ]
    }
   ],
   "source": [
    "#2. Determina:\n",
    "# Cuántos días tuvieron una temperatura media superior a 25°C.\n",
    "# Cuántos días superaron los 35 °C.\n",
    "arrayTemp=np.array(temperaturas)\n",
    "mas25=np.sum(arrayTemp>25)\n",
    "print(mas25)\n",
    "mas35=np.sum(arrayTemp>35)\n",
    "print(mas35)\n"
   ]
  },
  {
   "cell_type": "code",
   "execution_count": null,
   "id": "697d17b3-9548-4651-81c6-21f754cd099c",
   "metadata": {},
   "outputs": [],
   "source": [
    "#Identifica el primer día del año en el que se registran 5 días consecutivos con temperatura media superior a 25 °C,\n",
    "#y considera ese día como el inicio óptimo de la vendimia. \n",
    "diauno=25\n",
    "\n"
   ]
  }
 ],
 "metadata": {
  "kernelspec": {
   "display_name": "Python [conda env:base] *",
   "language": "python",
   "name": "conda-base-py"
  },
  "language_info": {
   "codemirror_mode": {
    "name": "ipython",
    "version": 3
   },
   "file_extension": ".py",
   "mimetype": "text/x-python",
   "name": "python",
   "nbconvert_exporter": "python",
   "pygments_lexer": "ipython3",
   "version": "3.13.5"
  }
 },
 "nbformat": 4,
 "nbformat_minor": 5
}
