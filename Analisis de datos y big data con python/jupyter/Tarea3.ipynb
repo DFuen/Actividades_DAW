{
 "cells": [
  {
   "cell_type": "markdown",
   "id": "7be0e64b-2be0-4ab0-97cf-041271478ac8",
   "metadata": {},
   "source": [
    "## IMPORTAMOS PANDAS"
   ]
  },
  {
   "cell_type": "code",
   "execution_count": 1,
   "id": "7b505826-3ccc-4791-adb5-9cd8dd57b5a6",
   "metadata": {},
   "outputs": [],
   "source": [
    "import pandas as pd"
   ]
  },
  {
   "cell_type": "markdown",
   "id": "fa8d26b1-e562-421e-9c34-ea6369d8fd5b",
   "metadata": {},
   "source": [
    "### EJERCICIO 1.- Importación y exploración inicial"
   ]
  },
  {
   "cell_type": "markdown",
   "id": "d4882c67-7540-4d63-ac92-f34dcfa13c23",
   "metadata": {},
   "source": [
    "##### Crea un nuevo cuaderno de Python y realiza los siguientes pasos:"
   ]
  },
  {
   "cell_type": "code",
   "execution_count": null,
   "id": "26a8ebee-4e0e-4b6d-8b07-b822f611d447",
   "metadata": {},
   "outputs": [],
   "source": [
    "#1. Importa la librería pandas con el alias habitual.\n"
   ]
  },
  {
   "cell_type": "code",
   "execution_count": null,
   "id": "2891648c-ce51-42bb-90d9-30b07dc85089",
   "metadata": {},
   "outputs": [],
   "source": [
    "#2. Comprueba la versión instalada mediante pd.__version__.\n"
   ]
  },
  {
   "cell_type": "code",
   "execution_count": null,
   "id": "c3157fab-9d44-4f42-b41a-e070aab71231",
   "metadata": {},
   "outputs": [],
   "source": [
    "#3. Muestra todas las funciones disponibles escribiendo pd. y usando el autocompletado (explica brevemente lo que observas).\n"
   ]
  },
  {
   "cell_type": "code",
   "execution_count": null,
   "id": "7e5d971f-6db5-4c31-9313-f260a7ca9e4f",
   "metadata": {},
   "outputs": [],
   "source": [
    "#4. Añade un comentario en tu cuaderno explicando para qué sirve Pandas dentro del análisis de datos, según lo leído en tus apuntes.\n"
   ]
  },
  {
   "cell_type": "markdown",
   "id": "a3ee0877-8750-40a1-84c3-9e7e8499c34b",
   "metadata": {},
   "source": [
    "### Ejercicio 2. Crear tu primera Serie"
   ]
  },
  {
   "cell_type": "code",
   "execution_count": null,
   "id": "acc15b93-867f-4b5f-833f-a9a187433ea6",
   "metadata": {},
   "outputs": [],
   "source": [
    "#1. Crea una Serie con los nombres de cinco asignaturas de un curso.\n"
   ]
  },
  {
   "cell_type": "code",
   "execution_count": null,
   "id": "29178ff6-2b97-43f5-ad12-612dbe501fae",
   "metadata": {},
   "outputs": [],
   "source": [
    "#2. Crea otra Serie con las notas numéricas correspondientes (de 0 a 10).\n"
   ]
  },
  {
   "cell_type": "code",
   "execution_count": null,
   "id": "c4cc1a3a-0899-4b93-8ada-79ab2db6690e",
   "metadata": {},
   "outputs": [],
   "source": [
    "#3. Asigna los nombres de las asignaturas como índice de la Serie de notas.\n"
   ]
  },
  {
   "cell_type": "code",
   "execution_count": 2,
   "id": "4d12a77a-ccc6-4f83-9055-ee9a97bebb1a",
   "metadata": {},
   "outputs": [],
   "source": [
    "#4. Muestra por pantalla: \n",
    "#    o Los valores de la Serie. \n",
    "#    o El índice. \n",
    "#    o El tipo de datos (dtype).\n",
    "#    o El número de elementos (size).\n"
   ]
  },
  {
   "cell_type": "code",
   "execution_count": null,
   "id": "8c0836fe-9983-4c14-81fb-8e3d4ad921b6",
   "metadata": {},
   "outputs": [],
   "source": [
    "#5. Escribe una breve observación sobre la diferencia entre índices y valores.\n"
   ]
  },
  {
   "cell_type": "markdown",
   "id": "e0011d51-208c-4ab5-8594-477acd1a17b5",
   "metadata": {},
   "source": [
    "### Ejercicio 3. Series con diccionarios"
   ]
  },
  {
   "cell_type": "code",
   "execution_count": null,
   "id": "a559e275-0e67-4dc7-b804-cd3b5940febb",
   "metadata": {},
   "outputs": [],
   "source": [
    "#1. Crea un diccionario en Python donde las claves sean los nombres de estudiantes y los valores sus calificaciones.\n"
   ]
  },
  {
   "cell_type": "code",
   "execution_count": null,
   "id": "b2d6f253-e2f7-4c37-b740-03b931422e58",
   "metadata": {},
   "outputs": [],
   "source": [
    "#2. Convierte el diccionario en una Serie de pandas.\n"
   ]
  },
  {
   "cell_type": "code",
   "execution_count": null,
   "id": "60194ebe-8619-4d06-8a27-2fc463edf8cb",
   "metadata": {},
   "outputs": [],
   "source": [
    "#3. Muestra por pantalla: \n",
    "#    o La Serie completa. \n",
    "#    o El valor asociado a un estudiante concreto usando su nombre como índice.\n"
   ]
  },
  {
   "cell_type": "code",
   "execution_count": 3,
   "id": "9569103a-53ce-4963-bf47-723b24822a74",
   "metadata": {},
   "outputs": [],
   "source": [
    "#4. Añade un comentario sobre la ventaja de usar un diccionario frente a una lista al crear una Serie.\n"
   ]
  },
  {
   "cell_type": "markdown",
   "id": "b3bf646f-c3a3-45a5-9e54-1e824a4bdd92",
   "metadata": {},
   "source": [
    "### Ejercicio 4. Crear tu primer DataFrame"
   ]
  },
  {
   "cell_type": "code",
   "execution_count": 4,
   "id": "0ceffdf2-ecd8-42d2-95e0-5d1e33086e81",
   "metadata": {},
   "outputs": [],
   "source": [
    "#1. Crea un diccionario con los siguientes datos (cada clave será una columna): \n",
    "#    o nombre → cuatro nombres de personas. \n",
    "#    o edad → sus edades. \n",
    "#    o correo → sus direcciones de correo.\n"
   ]
  },
  {
   "cell_type": "code",
   "execution_count": null,
   "id": "060de903-90b2-41f2-8260-405325449b27",
   "metadata": {},
   "outputs": [],
   "source": [
    "#2. Convierte el diccionario en un DataFrame y asígnalo a una variable df.\n"
   ]
  },
  {
   "cell_type": "code",
   "execution_count": null,
   "id": "ed31adec-4896-480b-8d8e-a343a4c8a7d9",
   "metadata": {},
   "outputs": [],
   "source": [
    "#3. Muestra la tabla completa.\n"
   ]
  },
  {
   "cell_type": "code",
   "execution_count": null,
   "id": "2176d92b-be50-413f-9382-efe9b62f9132",
   "metadata": {},
   "outputs": [],
   "source": [
    "#4. Utiliza los métodos: \n",
    "#    o df.info() para obtener la información general. \n",
    "#    o df.shape para ver el tamaño. \n",
    "#    o df.dtypes para ver los tipos de datos.\n"
   ]
  },
  {
   "cell_type": "code",
   "execution_count": 5,
   "id": "5978f488-4a12-4368-bfa8-68c8a20af226",
   "metadata": {},
   "outputs": [],
   "source": [
    "#5. Comenta brevemente qué diferencia hay entre una Serie y un DataFrame.\n"
   ]
  },
  {
   "cell_type": "markdown",
   "id": "bbcd87ba-bb8e-45cc-b9c3-c0f4273fe510",
   "metadata": {},
   "source": [
    "### Ejercicio 5. Acceso y primeras transformaciones"
   ]
  },
  {
   "cell_type": "code",
   "execution_count": null,
   "id": "f69fdbde-11ef-4619-8acb-9390d6f01ee7",
   "metadata": {},
   "outputs": [],
   "source": [
    "#1. A partir del DataFrame anterior: \n",
    "#    o Muestra la primera fila con df.head(1). \n",
    "#    o Selecciona solo la columna nombre. \n",
    "#    o Añade una nueva columna llamada curso con el valor \"DAW2\" para todos los registros.\n",
    "#    o Cambia el nombre de la columna correo por email.\n"
   ]
  },
  {
   "cell_type": "code",
   "execution_count": null,
   "id": "f526cfee-74ad-4afa-9bb6-9113abf92c69",
   "metadata": {},
   "outputs": [],
   "source": [
    "#2. Muestra el resultado final.\n"
   ]
  },
  {
   "cell_type": "code",
   "execution_count": null,
   "id": "432ae0ca-8fd7-4439-9368-4f8eddce43c0",
   "metadata": {},
   "outputs": [],
   "source": [
    "#3. Escribe un comentario explicando por qué los DataFrames son estructuras adecuadas para trabajar con datos tabulares en análisis de datos.\n"
   ]
  },
  {
   "cell_type": "markdown",
   "id": "b979ae5d-7dd2-4e64-b2d4-d4ea3d97079f",
   "metadata": {},
   "source": [
    "### Ejercicio 6 – Análisis inicial de un conjunto de datos"
   ]
  },
  {
   "cell_type": "code",
   "execution_count": null,
   "id": "3a02ad6d-0850-41f2-8852-e4954a8ab962",
   "metadata": {},
   "outputs": [],
   "source": [
    "#1. Carga el archivo ventas.csv con read_csv().\n"
   ]
  },
  {
   "cell_type": "code",
   "execution_count": null,
   "id": "e8da9cba-8787-4474-bc65-849dd3552fb6",
   "metadata": {},
   "outputs": [],
   "source": [
    "#2. Muestra: \n",
    "#    o El número de filas y columnas (shape). \n",
    "#    o Los nombres de las columnas (columns). \n",
    "#    o Las 5 primeras filas (head()).\n"
   ]
  },
  {
   "cell_type": "code",
   "execution_count": null,
   "id": "99f17597-ce74-48c0-83c5-0bc4d39ca478",
   "metadata": {},
   "outputs": [],
   "source": [
    "#3. Calcula la media, máximo, mínimo y desviación típica de la columna importe.\n"
   ]
  },
  {
   "cell_type": "code",
   "execution_count": null,
   "id": "f6f1bdcf-b60f-41f3-9cfa-015d468ea6e3",
   "metadata": {},
   "outputs": [],
   "source": [
    "#4. Añade una columna llamada IVA con el 21 % del importe de cada venta.\n"
   ]
  },
  {
   "cell_type": "code",
   "execution_count": null,
   "id": "585fc6e0-66ac-451b-be7a-147b89d89340",
   "metadata": {},
   "outputs": [],
   "source": [
    "#5. Muestra el resultado y guarda el nuevo DataFrame como ventas_modificado.csv.\n"
   ]
  },
  {
   "cell_type": "markdown",
   "id": "36c667d8-b4af-4dd4-bb9e-5040bbf939c4",
   "metadata": {},
   "source": [
    "### Ejercicio 7 – Creación de columnas condicionales"
   ]
  },
  {
   "cell_type": "code",
   "execution_count": null,
   "id": "b0fa1c42-81e4-415c-ac5d-649ef5afdb3f",
   "metadata": {},
   "outputs": [],
   "source": [
    "#Se trabaja con el fichero democanarias.csv."
   ]
  }
 ],
 "metadata": {
  "kernelspec": {
   "display_name": "Python [conda env:base] *",
   "language": "python",
   "name": "conda-base-py"
  },
  "language_info": {
   "codemirror_mode": {
    "name": "ipython",
    "version": 3
   },
   "file_extension": ".py",
   "mimetype": "text/x-python",
   "name": "python",
   "nbconvert_exporter": "python",
   "pygments_lexer": "ipython3",
   "version": "3.13.5"
  }
 },
 "nbformat": 4,
 "nbformat_minor": 5
}
